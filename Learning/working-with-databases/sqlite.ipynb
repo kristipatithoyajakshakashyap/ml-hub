{
 "cells": [
  {
   "cell_type": "markdown",
   "id": "06e554d9",
   "metadata": {},
   "source": [
    "# SQL and SQLite"
   ]
  },
  {
   "cell_type": "code",
   "execution_count": 1,
   "id": "893fcedf",
   "metadata": {},
   "outputs": [],
   "source": [
    "import sqlite3"
   ]
  },
  {
   "cell_type": "code",
   "execution_count": 2,
   "id": "f0b44b52",
   "metadata": {},
   "outputs": [
    {
     "data": {
      "text/plain": [
       "<sqlite3.Connection at 0x10bda36be20>"
      ]
     },
     "execution_count": 2,
     "metadata": {},
     "output_type": "execute_result"
    }
   ],
   "source": [
    "## Connect to SQLite database\n",
    "connection = sqlite3.connect('example.db')\n",
    "connection"
   ]
  },
  {
   "cell_type": "code",
   "execution_count": 3,
   "id": "948759f6",
   "metadata": {},
   "outputs": [],
   "source": [
    "cursor = connection.cursor()"
   ]
  },
  {
   "cell_type": "code",
   "execution_count": 8,
   "id": "c13590cd",
   "metadata": {},
   "outputs": [],
   "source": [
    "## Create a Table\n",
    "cursor.execute('''\n",
    "    Create Table If Not Exists employees(\n",
    "        id Integer Primary Key,\n",
    "        name Text Not Null,\n",
    "        department Text,\n",
    "        age Integer\n",
    "        )\n",
    "''')\n",
    "\n",
    "## Commit the changes\n",
    "connection.commit()"
   ]
  },
  {
   "cell_type": "code",
   "execution_count": 9,
   "id": "dfff2179",
   "metadata": {},
   "outputs": [
    {
     "data": {
      "text/plain": [
       "<sqlite3.Cursor at 0x10bda470440>"
      ]
     },
     "execution_count": 9,
     "metadata": {},
     "output_type": "execute_result"
    }
   ],
   "source": [
    "cursor.execute('''\n",
    "select * from employees\n",
    "''')"
   ]
  },
  {
   "cell_type": "code",
   "execution_count": 11,
   "id": "75ae2899",
   "metadata": {},
   "outputs": [],
   "source": [
    "## Insert Data into Table\n",
    "cursor.execute('''\n",
    "    Insert Into employees(name, age, department)\n",
    "    values('Kashyap', 24, 'Data Scientist')\n",
    "''')\n",
    "cursor.execute('''\n",
    "    Insert Into employees(name, age, department)\n",
    "    values('Bob', 24, 'Engineer')\n",
    "''')\n",
    "cursor.execute('''\n",
    "    Insert Into employees(name, age, department)\n",
    "    values('Kevin', 32, 'Data Analyst')\n",
    "''')\n",
    "connection.commit()"
   ]
  },
  {
   "cell_type": "code",
   "execution_count": 13,
   "id": "b51a00cf",
   "metadata": {},
   "outputs": [
    {
     "name": "stdout",
     "output_type": "stream",
     "text": [
      "(1, 'Kashyap', 'Data Scientist', 24)\n",
      "(2, 'Kashyap', 'Data Scientist', 24)\n",
      "(3, 'Bob', 'Engineer', 24)\n",
      "(4, 'Kevin', 'Data Analyst', 32)\n"
     ]
    }
   ],
   "source": [
    "## Query data from the table\n",
    "cursor.execute('''\n",
    "select * from employees\n",
    "''')\n",
    "rows = cursor.fetchall()\n",
    "for row in rows:\n",
    "    print(row)"
   ]
  },
  {
   "cell_type": "code",
   "execution_count": 14,
   "id": "64cbf5ae",
   "metadata": {},
   "outputs": [],
   "source": [
    "## Update data in the table\n",
    "cursor.execute('''\n",
    "    update employees\n",
    "    set age = 23\n",
    "    where name = 'Kashyap'\n",
    "''')\n",
    "connection.commit()"
   ]
  },
  {
   "cell_type": "code",
   "execution_count": 15,
   "id": "8df4005b",
   "metadata": {},
   "outputs": [
    {
     "name": "stdout",
     "output_type": "stream",
     "text": [
      "(1, 'Kashyap', 'Data Scientist', 23)\n",
      "(2, 'Kashyap', 'Data Scientist', 23)\n",
      "(3, 'Bob', 'Engineer', 24)\n",
      "(4, 'Kevin', 'Data Analyst', 32)\n"
     ]
    }
   ],
   "source": [
    "cursor.execute('''\n",
    "select * from employees\n",
    "''')\n",
    "rows = cursor.fetchall()\n",
    "for row in rows:\n",
    "    print(row)"
   ]
  },
  {
   "cell_type": "code",
   "execution_count": 16,
   "id": "8598f099",
   "metadata": {},
   "outputs": [],
   "source": [
    "## Delete data from the table\n",
    "cursor.execute('''\n",
    "    delete from employees\n",
    "    where id = 2\n",
    "''')\n",
    "connection.commit()"
   ]
  },
  {
   "cell_type": "code",
   "execution_count": 17,
   "id": "dadc6ee1",
   "metadata": {},
   "outputs": [
    {
     "name": "stdout",
     "output_type": "stream",
     "text": [
      "(1, 'Kashyap', 'Data Scientist', 23)\n",
      "(3, 'Bob', 'Engineer', 24)\n",
      "(4, 'Kevin', 'Data Analyst', 32)\n"
     ]
    }
   ],
   "source": [
    "cursor.execute('''\n",
    "select * from employees\n",
    "''')\n",
    "rows = cursor.fetchall()\n",
    "for row in rows:\n",
    "    print(row)"
   ]
  },
  {
   "cell_type": "code",
   "execution_count": null,
   "id": "9ecdc037",
   "metadata": {},
   "outputs": [],
   "source": [
    "## Working with sales data \n",
    "connection = sqlite3.connect('sales_data.db')\n",
    "cursor = connection.cursor()\n",
    "cursor.execute('''\n",
    "create table if not exists sales(\n",
    "    id Integer Primary Key,\n",
    "    date Text Not Null,\n",
    "    product Text Not Null,\n",
    "    sales Integer,\n",
    "    region Text\n",
    ")\n",
    "''')\n",
    "connection.commit()"
   ]
  },
  {
   "cell_type": "code",
   "execution_count": 20,
   "id": "f0c6323f",
   "metadata": {},
   "outputs": [],
   "source": [
    "# Insert data into the sales table\n",
    "sales_data = [\n",
    "    ('2023-01-01', 'Product1', 100, 'North'),\n",
    "    ('2023-01-02', 'Product2', 150, 'South'),\n",
    "    ('2023-01-03', 'Product1', 200, 'East'),\n",
    "    ('2023-01-04', 'Product3', 250, 'West'),\n",
    "    ('2023-01-04', 'Product2', 300, 'North'),\n",
    "]\n",
    "\n",
    "cursor.executemany('''\n",
    "insert into sales(date, product, sales, region)\n",
    "values(?, ?, ?, ?)\n",
    "''', sales_data)\n",
    "connection.commit()\n"
   ]
  },
  {
   "cell_type": "code",
   "execution_count": 21,
   "id": "ad15fa64",
   "metadata": {},
   "outputs": [
    {
     "name": "stdout",
     "output_type": "stream",
     "text": [
      "(1, '2023-01-01', 'Product1', 100, 'North')\n",
      "(2, '2023-01-02', 'Product2', 150, 'South')\n",
      "(3, '2023-01-03', 'Product1', 200, 'East')\n",
      "(4, '2023-01-04', 'Product3', 250, 'West')\n",
      "(5, '2023-01-04', 'Product2', 300, 'North')\n"
     ]
    }
   ],
   "source": [
    "cursor.execute('select * from sales')\n",
    "rows = cursor.fetchall()\n",
    "for row in rows:\n",
    "    print(row)"
   ]
  },
  {
   "cell_type": "code",
   "execution_count": null,
   "id": "75d02eb2",
   "metadata": {},
   "outputs": [],
   "source": [
    "## Close the connection\n",
    "connection.close()"
   ]
  },
  {
   "cell_type": "code",
   "execution_count": null,
   "id": "8592836a",
   "metadata": {},
   "outputs": [],
   "source": []
  }
 ],
 "metadata": {
  "kernelspec": {
   "display_name": "base",
   "language": "python",
   "name": "python3"
  },
  "language_info": {
   "codemirror_mode": {
    "name": "ipython",
    "version": 3
   },
   "file_extension": ".py",
   "mimetype": "text/x-python",
   "name": "python",
   "nbconvert_exporter": "python",
   "pygments_lexer": "ipython3",
   "version": "3.12.7"
  }
 },
 "nbformat": 4,
 "nbformat_minor": 5
}

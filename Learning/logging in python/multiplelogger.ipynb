{
 "cells": [
  {
   "cell_type": "markdown",
   "id": "0dcd27bd",
   "metadata": {},
   "source": [
    "# Logging with Multiple Loggers"
   ]
  },
  {
   "cell_type": "code",
   "execution_count": 1,
   "id": "c5d97367",
   "metadata": {},
   "outputs": [],
   "source": [
    "import logging\n",
    "\n",
    "## create a logger for module1\n",
    "logger1 = logging.getLogger('module1')\n",
    "logger1.setLevel(logging.DEBUG)\n",
    "\n",
    "## create a logger for module2\n",
    "logger2 = logging.getLogger('module2')\n",
    "logger2.setLevel(logging.WARNING)\n",
    "\n",
    "for handler in logging.root.handlers[:]:\n",
    "    logging.root.removeHandler(handler)\n",
    "\n",
    "logging.basicConfig(\n",
    "    level=logging.DEBUG,\n",
    "    format='%(asctime)s - %(name)s - %(levelname)s - %(message)s',\n",
    "    datefmt='%Y-%m-%d %H:%M:%S'\n",
    ")"
   ]
  },
  {
   "cell_type": "code",
   "execution_count": 3,
   "id": "4a968b1f",
   "metadata": {},
   "outputs": [
    {
     "name": "stderr",
     "output_type": "stream",
     "text": [
      "2025-10-21 18:31:03 - module1 - DEBUG - This is a debug message from module1\n",
      "2025-10-21 18:31:03 - module2 - WARNING - This is a warning message from module2\n",
      "2025-10-21 18:31:03 - module2 - ERROR - This is an error message from module2\n"
     ]
    }
   ],
   "source": [
    "## Log message with different loggers\n",
    "logger1.debug(\"This is a debug message from module1\")\n",
    "logger2.warning(\"This is a warning message from module2\")\n",
    "logger2.error(\"This is an error message from module2\")"
   ]
  },
  {
   "cell_type": "code",
   "execution_count": null,
   "id": "429da517",
   "metadata": {},
   "outputs": [],
   "source": []
  }
 ],
 "metadata": {
  "kernelspec": {
   "display_name": "base",
   "language": "python",
   "name": "python3"
  },
  "language_info": {
   "codemirror_mode": {
    "name": "ipython",
    "version": 3
   },
   "file_extension": ".py",
   "mimetype": "text/x-python",
   "name": "python",
   "nbconvert_exporter": "python",
   "pygments_lexer": "ipython3",
   "version": "3.12.7"
  }
 },
 "nbformat": 4,
 "nbformat_minor": 5
}

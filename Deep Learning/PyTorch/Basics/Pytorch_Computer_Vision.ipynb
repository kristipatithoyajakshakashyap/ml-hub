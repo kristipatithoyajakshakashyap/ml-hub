{
 "cells": [
  {
   "cell_type": "markdown",
   "metadata": {},
   "source": [
    "# PyTorch Computer Vision"
   ]
  },
  {
   "cell_type": "markdown",
   "metadata": {},
   "source": [
    "## 0. Computer vision libraries in PyTorch \n",
    "* `torchvision` - base domain library for PyTorch computer vision\n",
    "* `torchvision.datasets` - get datasets and data loading function for computer vision \n",
    "* `torchvision.models` - get pretrained computer vision models \n",
    "* `torchvision.transforms` - function for manipulating our vision data (images) to be suitable for use with an ML model\n",
    "* `torch.utils.data.Dataset` - Base dataset class for PyTorch\n",
    "* `torch.utils.data.DataLoader` - Creates  a python iterable over a dataset"
   ]
  },
  {
   "cell_type": "code",
   "execution_count": 1,
   "metadata": {},
   "outputs": [
    {
     "name": "stdout",
     "output_type": "stream",
     "text": [
      "2.2.2+cu121\n",
      "0.17.2+cu121\n"
     ]
    }
   ],
   "source": [
    "import torch \n",
    "from torch import nn\n",
    "import torchvision\n",
    "from torchvision import datasets \n",
    "from torchvision import transforms \n",
    "from torchvision.transforms import ToTensor\n",
    "import matplotlib.pyplot as plt \n",
    "print(torch.__version__)\n",
    "print(torchvision.__version__)"
   ]
  },
  {
   "cell_type": "markdown",
   "metadata": {},
   "source": [
    "## 1. Getting a dataset\n",
    "The dataset we'll be using FashionMNIST from torchvision.datasets"
   ]
  },
  {
   "cell_type": "code",
   "execution_count": 2,
   "metadata": {},
   "outputs": [],
   "source": [
    "# Setup training data \n",
    "train_data = datasets.FashionMNIST(\n",
    "    root=\"data\",\n",
    "    train=True,\n",
    "    download=True,\n",
    "    transform=ToTensor(),\n",
    "    target_transform=None\n",
    ")\n",
    "\n",
    "test_data = datasets.FashionMNIST(\n",
    "    root='data',\n",
    "    train=False,\n",
    "    download=True,\n",
    "    transform=ToTensor(),\n",
    "    target_transform=None\n",
    ")"
   ]
  },
  {
   "cell_type": "code",
   "execution_count": 3,
   "metadata": {},
   "outputs": [
    {
     "data": {
      "text/plain": [
       "(60000, 10000)"
      ]
     },
     "execution_count": 3,
     "metadata": {},
     "output_type": "execute_result"
    }
   ],
   "source": [
    "len(train_data), len(test_data)"
   ]
  },
  {
   "cell_type": "code",
   "execution_count": 4,
   "metadata": {},
   "outputs": [
    {
     "data": {
      "text/plain": [
       "(tensor([[[0.0000, 0.0000, 0.0000, 0.0000, 0.0000, 0.0000, 0.0000, 0.0000,\n",
       "           0.0000, 0.0000, 0.0000, 0.0000, 0.0000, 0.0000, 0.0000, 0.0000,\n",
       "           0.0000, 0.0000, 0.0000, 0.0000, 0.0000, 0.0000, 0.0000, 0.0000,\n",
       "           0.0000, 0.0000, 0.0000, 0.0000],\n",
       "          [0.0000, 0.0000, 0.0000, 0.0000, 0.0000, 0.0000, 0.0000, 0.0000,\n",
       "           0.0000, 0.0000, 0.0000, 0.0000, 0.0000, 0.0000, 0.0000, 0.0000,\n",
       "           0.0000, 0.0000, 0.0000, 0.0000, 0.0000, 0.0000, 0.0000, 0.0000,\n",
       "           0.0000, 0.0000, 0.0000, 0.0000],\n",
       "          [0.0000, 0.0000, 0.0000, 0.0000, 0.0000, 0.0000, 0.0000, 0.0000,\n",
       "           0.0000, 0.0000, 0.0000, 0.0000, 0.0000, 0.0000, 0.0000, 0.0000,\n",
       "           0.0000, 0.0000, 0.0000, 0.0000, 0.0000, 0.0000, 0.0000, 0.0000,\n",
       "           0.0000, 0.0000, 0.0000, 0.0000],\n",
       "          [0.0000, 0.0000, 0.0000, 0.0000, 0.0000, 0.0000, 0.0000, 0.0000,\n",
       "           0.0000, 0.0000, 0.0000, 0.0000, 0.0039, 0.0000, 0.0000, 0.0510,\n",
       "           0.2863, 0.0000, 0.0000, 0.0039, 0.0157, 0.0000, 0.0000, 0.0000,\n",
       "           0.0000, 0.0039, 0.0039, 0.0000],\n",
       "          [0.0000, 0.0000, 0.0000, 0.0000, 0.0000, 0.0000, 0.0000, 0.0000,\n",
       "           0.0000, 0.0000, 0.0000, 0.0000, 0.0118, 0.0000, 0.1412, 0.5333,\n",
       "           0.4980, 0.2431, 0.2118, 0.0000, 0.0000, 0.0000, 0.0039, 0.0118,\n",
       "           0.0157, 0.0000, 0.0000, 0.0118],\n",
       "          [0.0000, 0.0000, 0.0000, 0.0000, 0.0000, 0.0000, 0.0000, 0.0000,\n",
       "           0.0000, 0.0000, 0.0000, 0.0000, 0.0235, 0.0000, 0.4000, 0.8000,\n",
       "           0.6902, 0.5255, 0.5647, 0.4824, 0.0902, 0.0000, 0.0000, 0.0000,\n",
       "           0.0000, 0.0471, 0.0392, 0.0000],\n",
       "          [0.0000, 0.0000, 0.0000, 0.0000, 0.0000, 0.0000, 0.0000, 0.0000,\n",
       "           0.0000, 0.0000, 0.0000, 0.0000, 0.0000, 0.0000, 0.6078, 0.9255,\n",
       "           0.8118, 0.6980, 0.4196, 0.6118, 0.6314, 0.4275, 0.2510, 0.0902,\n",
       "           0.3020, 0.5098, 0.2824, 0.0588],\n",
       "          [0.0000, 0.0000, 0.0000, 0.0000, 0.0000, 0.0000, 0.0000, 0.0000,\n",
       "           0.0000, 0.0000, 0.0000, 0.0039, 0.0000, 0.2706, 0.8118, 0.8745,\n",
       "           0.8549, 0.8471, 0.8471, 0.6392, 0.4980, 0.4745, 0.4784, 0.5725,\n",
       "           0.5529, 0.3451, 0.6745, 0.2588],\n",
       "          [0.0000, 0.0000, 0.0000, 0.0000, 0.0000, 0.0000, 0.0000, 0.0000,\n",
       "           0.0000, 0.0039, 0.0039, 0.0039, 0.0000, 0.7843, 0.9098, 0.9098,\n",
       "           0.9137, 0.8980, 0.8745, 0.8745, 0.8431, 0.8353, 0.6431, 0.4980,\n",
       "           0.4824, 0.7686, 0.8980, 0.0000],\n",
       "          [0.0000, 0.0000, 0.0000, 0.0000, 0.0000, 0.0000, 0.0000, 0.0000,\n",
       "           0.0000, 0.0000, 0.0000, 0.0000, 0.0000, 0.7176, 0.8824, 0.8471,\n",
       "           0.8745, 0.8941, 0.9216, 0.8902, 0.8784, 0.8706, 0.8784, 0.8667,\n",
       "           0.8745, 0.9608, 0.6784, 0.0000],\n",
       "          [0.0000, 0.0000, 0.0000, 0.0000, 0.0000, 0.0000, 0.0000, 0.0000,\n",
       "           0.0000, 0.0000, 0.0000, 0.0000, 0.0000, 0.7569, 0.8941, 0.8549,\n",
       "           0.8353, 0.7765, 0.7059, 0.8314, 0.8235, 0.8275, 0.8353, 0.8745,\n",
       "           0.8627, 0.9529, 0.7922, 0.0000],\n",
       "          [0.0000, 0.0000, 0.0000, 0.0000, 0.0000, 0.0000, 0.0000, 0.0000,\n",
       "           0.0000, 0.0039, 0.0118, 0.0000, 0.0471, 0.8588, 0.8627, 0.8314,\n",
       "           0.8549, 0.7529, 0.6627, 0.8902, 0.8157, 0.8549, 0.8784, 0.8314,\n",
       "           0.8863, 0.7725, 0.8196, 0.2039],\n",
       "          [0.0000, 0.0000, 0.0000, 0.0000, 0.0000, 0.0000, 0.0000, 0.0000,\n",
       "           0.0000, 0.0000, 0.0235, 0.0000, 0.3882, 0.9569, 0.8706, 0.8627,\n",
       "           0.8549, 0.7961, 0.7765, 0.8667, 0.8431, 0.8353, 0.8706, 0.8627,\n",
       "           0.9608, 0.4667, 0.6549, 0.2196],\n",
       "          [0.0000, 0.0000, 0.0000, 0.0000, 0.0000, 0.0000, 0.0000, 0.0000,\n",
       "           0.0000, 0.0157, 0.0000, 0.0000, 0.2157, 0.9255, 0.8941, 0.9020,\n",
       "           0.8941, 0.9412, 0.9098, 0.8353, 0.8549, 0.8745, 0.9176, 0.8510,\n",
       "           0.8510, 0.8196, 0.3608, 0.0000],\n",
       "          [0.0000, 0.0000, 0.0039, 0.0157, 0.0235, 0.0275, 0.0078, 0.0000,\n",
       "           0.0000, 0.0000, 0.0000, 0.0000, 0.9294, 0.8863, 0.8510, 0.8745,\n",
       "           0.8706, 0.8588, 0.8706, 0.8667, 0.8471, 0.8745, 0.8980, 0.8431,\n",
       "           0.8549, 1.0000, 0.3020, 0.0000],\n",
       "          [0.0000, 0.0118, 0.0000, 0.0000, 0.0000, 0.0000, 0.0000, 0.0000,\n",
       "           0.0000, 0.2431, 0.5686, 0.8000, 0.8941, 0.8118, 0.8353, 0.8667,\n",
       "           0.8549, 0.8157, 0.8275, 0.8549, 0.8784, 0.8745, 0.8588, 0.8431,\n",
       "           0.8784, 0.9569, 0.6235, 0.0000],\n",
       "          [0.0000, 0.0000, 0.0000, 0.0000, 0.0706, 0.1725, 0.3216, 0.4196,\n",
       "           0.7412, 0.8941, 0.8627, 0.8706, 0.8510, 0.8863, 0.7843, 0.8039,\n",
       "           0.8275, 0.9020, 0.8784, 0.9176, 0.6902, 0.7373, 0.9804, 0.9725,\n",
       "           0.9137, 0.9333, 0.8431, 0.0000],\n",
       "          [0.0000, 0.2235, 0.7333, 0.8157, 0.8784, 0.8667, 0.8784, 0.8157,\n",
       "           0.8000, 0.8392, 0.8157, 0.8196, 0.7843, 0.6235, 0.9608, 0.7569,\n",
       "           0.8078, 0.8745, 1.0000, 1.0000, 0.8667, 0.9176, 0.8667, 0.8275,\n",
       "           0.8627, 0.9098, 0.9647, 0.0000],\n",
       "          [0.0118, 0.7922, 0.8941, 0.8784, 0.8667, 0.8275, 0.8275, 0.8392,\n",
       "           0.8039, 0.8039, 0.8039, 0.8627, 0.9412, 0.3137, 0.5882, 1.0000,\n",
       "           0.8980, 0.8667, 0.7373, 0.6039, 0.7490, 0.8235, 0.8000, 0.8196,\n",
       "           0.8706, 0.8941, 0.8824, 0.0000],\n",
       "          [0.3843, 0.9137, 0.7765, 0.8235, 0.8706, 0.8980, 0.8980, 0.9176,\n",
       "           0.9765, 0.8627, 0.7608, 0.8431, 0.8510, 0.9451, 0.2549, 0.2863,\n",
       "           0.4157, 0.4588, 0.6588, 0.8588, 0.8667, 0.8431, 0.8510, 0.8745,\n",
       "           0.8745, 0.8784, 0.8980, 0.1137],\n",
       "          [0.2941, 0.8000, 0.8314, 0.8000, 0.7569, 0.8039, 0.8275, 0.8824,\n",
       "           0.8471, 0.7255, 0.7725, 0.8078, 0.7765, 0.8353, 0.9412, 0.7647,\n",
       "           0.8902, 0.9608, 0.9373, 0.8745, 0.8549, 0.8314, 0.8196, 0.8706,\n",
       "           0.8627, 0.8667, 0.9020, 0.2627],\n",
       "          [0.1882, 0.7961, 0.7176, 0.7608, 0.8353, 0.7725, 0.7255, 0.7451,\n",
       "           0.7608, 0.7529, 0.7922, 0.8392, 0.8588, 0.8667, 0.8627, 0.9255,\n",
       "           0.8824, 0.8471, 0.7804, 0.8078, 0.7294, 0.7098, 0.6941, 0.6745,\n",
       "           0.7098, 0.8039, 0.8078, 0.4510],\n",
       "          [0.0000, 0.4784, 0.8588, 0.7569, 0.7020, 0.6706, 0.7176, 0.7686,\n",
       "           0.8000, 0.8235, 0.8353, 0.8118, 0.8275, 0.8235, 0.7843, 0.7686,\n",
       "           0.7608, 0.7490, 0.7647, 0.7490, 0.7765, 0.7529, 0.6902, 0.6118,\n",
       "           0.6549, 0.6941, 0.8235, 0.3608],\n",
       "          [0.0000, 0.0000, 0.2902, 0.7412, 0.8314, 0.7490, 0.6863, 0.6745,\n",
       "           0.6863, 0.7098, 0.7255, 0.7373, 0.7412, 0.7373, 0.7569, 0.7765,\n",
       "           0.8000, 0.8196, 0.8235, 0.8235, 0.8275, 0.7373, 0.7373, 0.7608,\n",
       "           0.7529, 0.8471, 0.6667, 0.0000],\n",
       "          [0.0078, 0.0000, 0.0000, 0.0000, 0.2588, 0.7843, 0.8706, 0.9294,\n",
       "           0.9373, 0.9490, 0.9647, 0.9529, 0.9569, 0.8667, 0.8627, 0.7569,\n",
       "           0.7490, 0.7020, 0.7137, 0.7137, 0.7098, 0.6902, 0.6510, 0.6588,\n",
       "           0.3882, 0.2275, 0.0000, 0.0000],\n",
       "          [0.0000, 0.0000, 0.0000, 0.0000, 0.0000, 0.0000, 0.0000, 0.1569,\n",
       "           0.2392, 0.1725, 0.2824, 0.1608, 0.1373, 0.0000, 0.0000, 0.0000,\n",
       "           0.0000, 0.0000, 0.0000, 0.0000, 0.0000, 0.0000, 0.0000, 0.0000,\n",
       "           0.0000, 0.0000, 0.0000, 0.0000],\n",
       "          [0.0000, 0.0000, 0.0000, 0.0000, 0.0000, 0.0000, 0.0000, 0.0000,\n",
       "           0.0000, 0.0000, 0.0000, 0.0000, 0.0000, 0.0000, 0.0000, 0.0000,\n",
       "           0.0000, 0.0000, 0.0000, 0.0000, 0.0000, 0.0000, 0.0000, 0.0000,\n",
       "           0.0000, 0.0000, 0.0000, 0.0000],\n",
       "          [0.0000, 0.0000, 0.0000, 0.0000, 0.0000, 0.0000, 0.0000, 0.0000,\n",
       "           0.0000, 0.0000, 0.0000, 0.0000, 0.0000, 0.0000, 0.0000, 0.0000,\n",
       "           0.0000, 0.0000, 0.0000, 0.0000, 0.0000, 0.0000, 0.0000, 0.0000,\n",
       "           0.0000, 0.0000, 0.0000, 0.0000]]]),\n",
       " 9)"
      ]
     },
     "execution_count": 4,
     "metadata": {},
     "output_type": "execute_result"
    }
   ],
   "source": [
    "# see the first training example \n",
    "image, label = train_data[0]\n",
    "image, label"
   ]
  },
  {
   "cell_type": "code",
   "execution_count": 5,
   "metadata": {},
   "outputs": [
    {
     "data": {
      "text/plain": [
       "['T-shirt/top',\n",
       " 'Trouser',\n",
       " 'Pullover',\n",
       " 'Dress',\n",
       " 'Coat',\n",
       " 'Sandal',\n",
       " 'Shirt',\n",
       " 'Sneaker',\n",
       " 'Bag',\n",
       " 'Ankle boot']"
      ]
     },
     "execution_count": 5,
     "metadata": {},
     "output_type": "execute_result"
    }
   ],
   "source": [
    "class_names = train_data.classes\n",
    "class_names"
   ]
  },
  {
   "cell_type": "code",
   "execution_count": 6,
   "metadata": {},
   "outputs": [
    {
     "data": {
      "text/plain": [
       "{'T-shirt/top': 0,\n",
       " 'Trouser': 1,\n",
       " 'Pullover': 2,\n",
       " 'Dress': 3,\n",
       " 'Coat': 4,\n",
       " 'Sandal': 5,\n",
       " 'Shirt': 6,\n",
       " 'Sneaker': 7,\n",
       " 'Bag': 8,\n",
       " 'Ankle boot': 9}"
      ]
     },
     "execution_count": 6,
     "metadata": {},
     "output_type": "execute_result"
    }
   ],
   "source": [
    "class_to_idx =train_data.class_to_idx\n",
    "class_to_idx"
   ]
  },
  {
   "cell_type": "code",
   "execution_count": 7,
   "metadata": {},
   "outputs": [
    {
     "name": "stdout",
     "output_type": "stream",
     "text": [
      "Image shape: torch.Size([1, 28, 28]) -> [color channel, height, width]\n",
      "Image label: Ankle boot\n"
     ]
    }
   ],
   "source": [
    "# check shape of our image \n",
    "print(f\"Image shape: {image.shape} -> [color channel, height, width]\")\n",
    "print(f\"Image label: {class_names[label]}\")"
   ]
  },
  {
   "cell_type": "markdown",
   "metadata": {},
   "source": [
    "## 1.2 Visualizing the data"
   ]
  },
  {
   "cell_type": "code",
   "execution_count": 8,
   "metadata": {},
   "outputs": [
    {
     "name": "stdout",
     "output_type": "stream",
     "text": [
      "Image shape:torch.Size([1, 28, 28])\n"
     ]
    },
    {
     "data": {
      "text/plain": [
       "Text(0.5, 1.0, '9')"
      ]
     },
     "execution_count": 8,
     "metadata": {},
     "output_type": "execute_result"
    },
    {
     "data": {
      "image/png": "[encoded data removed]",
      "text/plain": [
       "<Figure size 640x480 with 1 Axes>"
      ]
     },
     "metadata": {},
     "output_type": "display_data"
    }
   ],
   "source": [
    "import matplotlib.pyplot as plt \n",
    "image, label = train_data[0]\n",
    "print(f\"Image shape:{image.shape}\")\n",
    "plt.imshow(image.squeeze())\n",
    "plt.title(label)"
   ]
  },
  {
   "cell_type": "code",
   "execution_count": 9,
   "metadata": {},
   "outputs": [
    {
     "data": {
      "text/plain": [
       "(-0.5, 27.5, 27.5, -0.5)"
      ]
     },
     "execution_count": 9,
     "metadata": {},
     "output_type": "execute_result"
    },
    {
     "data": {
      "image/png": "[encoded data removed]",
      "text/plain": [
       "<Figure size 640x480 with 1 Axes>"
      ]
     },
     "metadata": {},
     "output_type": "display_data"
    }
   ],
   "source": [
    "plt.imshow(image.squeeze(),cmap=\"gray\")\n",
    "plt.title(class_names[label])\n",
    "plt.axis(False)"
   ]
  },
  {
   "cell_type": "code",
   "execution_count": 10,
   "metadata": {},
   "outputs": [
    {
     "data": {
      "image/png": "[encoded data removed]",
      "text/plain": [
       "<Figure size 900x900 with 16 Axes>"
      ]
     },
     "metadata": {},
     "output_type": "display_data"
    }
   ],
   "source": [
    "torch.manual_seed(42)\n",
    "fig = plt.figure(figsize=(9,9))\n",
    "rows, cols = 4, 4\n",
    "for i in range(1, rows*cols+1):\n",
    "    random_idx = torch.randint(0,len(train_data), size=[1]).item()\n",
    "    img, label = train_data[random_idx]\n",
    "    fig.add_subplot(rows, cols, i)\n",
    "    plt.imshow(img.squeeze(), cmap=\"gray\")\n",
    "    plt.title(class_names[label])\n",
    "    plt.axis(False)"
   ]
  },
  {
   "cell_type": "code",
   "execution_count": 11,
   "metadata": {},
   "outputs": [
    {
     "data": {
      "text/plain": [
       "(Dataset FashionMNIST\n",
       "     Number of datapoints: 60000\n",
       "     Root location: data\n",
       "     Split: Train\n",
       "     StandardTransform\n",
       " Transform: ToTensor(),\n",
       " Dataset FashionMNIST\n",
       "     Number of datapoints: 10000\n",
       "     Root location: data\n",
       "     Split: Test\n",
       "     StandardTransform\n",
       " Transform: ToTensor())"
      ]
     },
     "execution_count": 11,
     "metadata": {},
     "output_type": "execute_result"
    }
   ],
   "source": [
    "train_data, test_data"
   ]
  },
  {
   "cell_type": "markdown",
   "metadata": {},
   "source": [
    "## 2. Prepare DataLoader\n",
    "DataLoader turns our dataset into a python iterable.\n",
    "\n",
    "More specifically, we want to turn our data into batches (or mini-batches).\n",
    "\n",
    "Why would we do this?\n",
    "\n",
    "1. It is more computationally efficient, as in, your computing hardware may not be able to look (store in memory) at 60,000 images in one hit. So we break it down to 32 images at a time (batch size of 32).\n",
    "2. It gives our neural network more chances to update its gradients per epoch."
   ]
  },
  {
   "cell_type": "code",
   "execution_count": 12,
   "metadata": {},
   "outputs": [
    {
     "data": {
      "text/plain": [
       "(<torch.utils.data.dataloader.DataLoader at 0x220e76cab10>,\n",
       " <torch.utils.data.dataloader.DataLoader at 0x220e6066270>)"
      ]
     },
     "execution_count": 12,
     "metadata": {},
     "output_type": "execute_result"
    }
   ],
   "source": [
    "from torch.utils.data import DataLoader\n",
    "# Setup bstch size hyperparameter \n",
    "BATCH_SIZE = 32\n",
    "# Turn datasets into iterables \n",
    "train_dataloader = DataLoader(dataset=train_data,\n",
    "                              batch_size=BATCH_SIZE,\n",
    "                              shuffle=True)\n",
    "test_dataloader = DataLoader(dataset=test_data,\n",
    "                             batch_size=BATCH_SIZE,\n",
    "                             shuffle=False)\n",
    "train_dataloader, test_dataloader"
   ]
  },
  {
   "cell_type": "code",
   "execution_count": 13,
   "metadata": {},
   "outputs": [
    {
     "name": "stdout",
     "output_type": "stream",
     "text": [
      "DataLoaders: (<torch.utils.data.dataloader.DataLoader object at 0x00000220E76CAB10>, <torch.utils.data.dataloader.DataLoader object at 0x00000220E6066270>)\n",
      "Length of train_dataloader: 1875 batch of 32\n",
      "Length of test_dataloader: 313 batch of 32\n"
     ]
    }
   ],
   "source": [
    "# Let's check out what we've created \n",
    "print(f\"DataLoaders: {train_dataloader, test_dataloader}\")\n",
    "print(f\"Length of train_dataloader: {len(train_dataloader)} batch of {BATCH_SIZE}\")\n",
    "print(f\"Length of test_dataloader: {len(test_dataloader)} batch of {BATCH_SIZE}\")\n",
    "\n",
    "\n"
   ]
  },
  {
   "cell_type": "code",
   "execution_count": 14,
   "metadata": {},
   "outputs": [
    {
     "data": {
      "text/plain": [
       "(torch.Size([32, 1, 28, 28]), torch.Size([32]))"
      ]
     },
     "execution_count": 14,
     "metadata": {},
     "output_type": "execute_result"
    }
   ],
   "source": [
    "# Check out whats inside the training dataloader\n",
    "train_features_batch, train_labels_batch = next(iter(train_dataloader))\n",
    "train_features_batch.shape, train_labels_batch.shape"
   ]
  },
  {
   "cell_type": "code",
   "execution_count": 15,
   "metadata": {},
   "outputs": [
    {
     "name": "stdout",
     "output_type": "stream",
     "text": [
      "Image size: torch.Size([1, 28, 28])\n",
      "label: 8, label size:torch.Size([])\n"
     ]
    },
    {
     "data": {
      "image/png": "[encoded data removed]",
      "text/plain": [
       "<Figure size 640x480 with 1 Axes>"
      ]
     },
     "metadata": {},
     "output_type": "display_data"
    }
   ],
   "source": [
    "# Show sample \n",
    "random_idx = torch.randint(0,len(train_features_batch), size=[1]).item()\n",
    "img, label = train_features_batch[random_idx], train_labels_batch[random_idx]\n",
    "plt.imshow(img.squeeze(), cmap=\"gray\")\n",
    "plt.title(class_names[label])\n",
    "plt.axis(\"off\")\n",
    "print(f\"Image size: {img.shape}\")\n",
    "print(f\"label: {label}, label size:{label.shape}\")"
   ]
  },
  {
   "cell_type": "markdown",
   "metadata": {},
   "source": [
    "## 3. Model 0: Build a baseline model"
   ]
  },
  {
   "cell_type": "code",
   "execution_count": 16,
   "metadata": {},
   "outputs": [
    {
     "name": "stdout",
     "output_type": "stream",
     "text": [
      "shape before flattening: torch.Size([1, 28, 28]) -> [color, height, width]\n",
      "shape after flattening: torch.Size([1, 784]) -> [color, height*width]\n"
     ]
    }
   ],
   "source": [
    "# Create a flatten layer \n",
    "flatten_model = nn.Flatten()\n",
    "# Get a single sample \n",
    "x = train_features_batch[0]\n",
    "# Flatten the sample \n",
    "output = flatten_model(x)\n",
    "# Print out what happend \n",
    "print(f\"shape before flattening: {x.shape} -> [color, height, width]\")\n",
    "print(f\"shape after flattening: {output.shape} -> [color, height*width]\")"
   ]
  },
  {
   "cell_type": "code",
   "execution_count": 17,
   "metadata": {},
   "outputs": [],
   "source": [
    "from torch import nn\n",
    "class FashionMNISTModelV0(nn.Module):\n",
    "    def __init__(self, input_shpae: int, hidden_units: int, output_shape: int):\n",
    "        super().__init__()\n",
    "        self.layer_stack = nn.Sequential(\n",
    "            nn.Flatten(),\n",
    "            nn.Linear(in_features=input_shpae, out_features=hidden_units),\n",
    "            nn.Linear(in_features=hidden_units, out_features=output_shape) \n",
    "        )\n",
    "    def forward(self,x):\n",
    "        return self.layer_stack(x)"
   ]
  },
  {
   "cell_type": "code",
   "execution_count": 18,
   "metadata": {},
   "outputs": [
    {
     "data": {
      "text/plain": [
       "FashionMNISTModelV0(\n",
       "  (layer_stack): Sequential(\n",
       "    (0): Flatten(start_dim=1, end_dim=-1)\n",
       "    (1): Linear(in_features=784, out_features=10, bias=True)\n",
       "    (2): Linear(in_features=10, out_features=10, bias=True)\n",
       "  )\n",
       ")"
      ]
     },
     "execution_count": 18,
     "metadata": {},
     "output_type": "execute_result"
    }
   ],
   "source": [
    "torch.manual_seed(42)\n",
    "# Setup model with input parameters \n",
    "model_0 = FashionMNISTModelV0(\n",
    "    input_shpae=784, # 28 * 28\n",
    "    hidden_units=10,\n",
    "    output_shape=len(class_names)\n",
    ").to(\"cpu\")\n",
    "model_0"
   ]
  },
  {
   "cell_type": "code",
   "execution_count": 19,
   "metadata": {},
   "outputs": [
    {
     "data": {
      "text/plain": [
       "tensor([[-0.0315,  0.3171,  0.0531, -0.2525,  0.5959,  0.2112,  0.3233,  0.2694,\n",
       "         -0.1004,  0.0157]], grad_fn=<AddmmBackward0>)"
      ]
     },
     "execution_count": 19,
     "metadata": {},
     "output_type": "execute_result"
    }
   ],
   "source": [
    "dummy_x = torch.rand([1,1,28,28])\n",
    "model_0(dummy_x)"
   ]
  },
  {
   "cell_type": "code",
   "execution_count": 20,
   "metadata": {},
   "outputs": [
    {
     "data": {
      "text/plain": [
       "OrderedDict([('layer_stack.1.weight',\n",
       "              tensor([[ 0.0273,  0.0296, -0.0084,  ..., -0.0142,  0.0093,  0.0135],\n",
       "                      [-0.0188, -0.0354,  0.0187,  ..., -0.0106, -0.0001,  0.0115],\n",
       "                      [-0.0008,  0.0017,  0.0045,  ..., -0.0127, -0.0188,  0.0059],\n",
       "                      ...,\n",
       "                      [-0.0116,  0.0273, -0.0344,  ...,  0.0176,  0.0283, -0.0011],\n",
       "                      [-0.0230,  0.0257,  0.0291,  ..., -0.0187, -0.0087,  0.0001],\n",
       "                      [ 0.0176, -0.0147,  0.0053,  ..., -0.0336, -0.0221,  0.0205]])),\n",
       "             ('layer_stack.1.bias',\n",
       "              tensor([-0.0093,  0.0283, -0.0033,  0.0255,  0.0017,  0.0037, -0.0302, -0.0123,\n",
       "                       0.0018,  0.0163])),\n",
       "             ('layer_stack.2.weight',\n",
       "              tensor([[ 0.0614, -0.0687,  0.0021,  0.2718,  0.2109,  0.1079, -0.2279, -0.1063,\n",
       "                        0.2019,  0.2847],\n",
       "                      [-0.1495,  0.1344, -0.0740,  0.2006, -0.0475, -0.2514, -0.3130, -0.0118,\n",
       "                        0.0932, -0.1864],\n",
       "                      [ 0.2488,  0.1500,  0.1907,  0.1457, -0.3050, -0.0580,  0.1643,  0.1565,\n",
       "                       -0.2877, -0.1792],\n",
       "                      [ 0.2305, -0.2618,  0.2397, -0.0610,  0.0232,  0.1542,  0.0851, -0.2027,\n",
       "                        0.1030, -0.2715],\n",
       "                      [-0.1596, -0.0555, -0.0633,  0.2302, -0.1726,  0.2654,  0.1473,  0.1029,\n",
       "                        0.2252, -0.2160],\n",
       "                      [-0.2725,  0.0118,  0.1559,  0.1596,  0.0132,  0.3024,  0.1124,  0.1366,\n",
       "                       -0.1533,  0.0965],\n",
       "                      [-0.1184, -0.2555, -0.2057, -0.1909, -0.0477, -0.1324,  0.2905,  0.1307,\n",
       "                       -0.2629,  0.0133],\n",
       "                      [ 0.2727, -0.0127,  0.0513,  0.0863, -0.1043, -0.2047, -0.1185, -0.0825,\n",
       "                        0.2488, -0.2571],\n",
       "                      [ 0.0425, -0.1209, -0.0336, -0.0281, -0.1227,  0.0730,  0.0747, -0.1816,\n",
       "                        0.1943,  0.2853],\n",
       "                      [-0.1310,  0.0645, -0.1171,  0.2168, -0.0245, -0.2820,  0.0736,  0.2621,\n",
       "                        0.0012, -0.0810]])),\n",
       "             ('layer_stack.2.bias',\n",
       "              tensor([-0.0087,  0.1791,  0.2712, -0.0791,  0.1685,  0.1762,  0.2825,  0.2266,\n",
       "                      -0.2612, -0.2613]))])"
      ]
     },
     "execution_count": 20,
     "metadata": {},
     "output_type": "execute_result"
    }
   ],
   "source": [
    "model_0.state_dict()"
   ]
  },
  {
   "cell_type": "markdown",
   "metadata": {},
   "source": [
    "### 3.1  Setup loss, optimizer and evaluation metrics\n",
    "* Loss function - since we're working with multiclass classification, loss function will be `nn.CrossEntropyLoss()` \n",
    "* Optimizer - our optimiszer `torch.optim.SGD()` (stochastic gradient descent)\n",
    "* Evaluation metric - since we're working on a classification problem, let's use accuracy as  evaluation metric"
   ]
  },
  {
   "cell_type": "code",
   "execution_count": 21,
   "metadata": {},
   "outputs": [
    {
     "name": "stdout",
     "output_type": "stream",
     "text": [
      "helper_functions.py already exist, skipping download...\n"
     ]
    }
   ],
   "source": [
    "import requests\n",
    "from pathlib import Path \n",
    "if Path('helper_functions.py').is_file():\n",
    "    print(\"helper_functions.py already exist, skipping download...\")\n",
    "else:\n",
    "    print(\"Downloading helper_functions.py\")\n",
    "    request = requests.get(\"https://raw.githubusercontent.com/mrdbourke/pytorch-deep-learning/main/helper_functions.py\")\n",
    "    with open(\"helper_functions.py\", \"wb\") as f:\n",
    "        f.write(request.content)"
   ]
  },
  {
   "cell_type": "code",
   "execution_count": 22,
   "metadata": {},
   "outputs": [],
   "source": [
    "# Import accuracy metrics \n",
    "from helper_functions import accuracy_fn \n",
    "# Setup loss function and optimizer \n",
    "loss_fn = nn.CrossEntropyLoss()\n",
    "optimizer = torch.optim.SGD(params=model_0.parameters(),\n",
    "                            lr=0.1)"
   ]
  },
  {
   "cell_type": "markdown",
   "metadata": {},
   "source": [
    "## 3.2  Creating a function to time our experiments\n",
    "\n",
    "Two main things of machine learning are:\n",
    "\n",
    "1. Model's performance (Loss and accuracy etc)\n",
    "2. How fast it runs"
   ]
  },
  {
   "cell_type": "code",
   "execution_count": 23,
   "metadata": {},
   "outputs": [],
   "source": [
    "from timeit import default_timer as timer \n",
    "def print_train_time(start:float,\n",
    "                     end:float,\n",
    "                     device: torch.device = None):\n",
    "    \"\"\"Print difference between start and end time\"\"\"\n",
    "    total_time = end - start \n",
    "    print(f\"Train time on {device}: {total_time:.3f} seconds\")\n",
    "    return total_time"
   ]
  },
  {
   "cell_type": "code",
   "execution_count": 24,
   "metadata": {},
   "outputs": [
    {
     "name": "stdout",
     "output_type": "stream",
     "text": [
      "Train time on cpu: 0.000 seconds\n"
     ]
    },
    {
     "data": {
      "text/plain": [
       "1.550000160932541e-05"
      ]
     },
     "execution_count": 24,
     "metadata": {},
     "output_type": "execute_result"
    }
   ],
   "source": [
    "start_time = timer()\n",
    "end_time = timer()\n",
    "print_train_time(start=start_time,end=end_time,device=\"cpu\")"
   ]
  },
  {
   "cell_type": "markdown",
   "metadata": {},
   "source": [
    "### 3.3 Creating a training loop and training a model on batches of data \n",
    "1. Loop through epochs.\n",
    "2. Loop through training bathces, perform training steps, calculate the train loss *per batch*\n",
    "3. Loop through testing batches, perform testing steps, calculate test loss *per batch*\n",
    "4. Print whats happening\n",
    "5. Time it all"
   ]
  },
  {
   "cell_type": "code",
   "execution_count": 32,
   "metadata": {},
   "outputs": [
    {
     "data": {
      "application/vnd.jupyter.widget-view+json": {
       "model_id": "63c49f33359449d593001aa6fd80e574",
       "version_major": 2,
       "version_minor": 0
      },
      "text/plain": [
       "  0%|          | 0/3 [00:00<?, ?it/s]"
      ]
     },
     "metadata": {},
     "output_type": "display_data"
    },
    {
     "name": "stdout",
     "output_type": "stream",
     "text": [
      "Epochs:0\n",
      "Looked at 0/1875 samples\n",
      "Looked at 12800/1875 samples\n",
      "Looked at 25600/1875 samples\n",
      "Looked at 38400/1875 samples\n",
      "Looked at 51200/1875 samples\n",
      "\n",
      "Train loss: 0.5904 | Test loss: 0.5095, Test acc: 82.0387\n",
      "Epochs:1\n",
      "Looked at 0/1875 samples\n",
      "Looked at 12800/1875 samples\n",
      "Looked at 25600/1875 samples\n",
      "Looked at 38400/1875 samples\n",
      "Looked at 51200/1875 samples\n",
      "\n",
      "Train loss: 0.4763 | Test loss: 0.4799, Test acc: 83.1969\n",
      "Epochs:2\n",
      "Looked at 0/1875 samples\n",
      "Looked at 12800/1875 samples\n",
      "Looked at 25600/1875 samples\n",
      "Looked at 38400/1875 samples\n",
      "Looked at 51200/1875 samples\n",
      "\n",
      "Train loss: 0.4550 | Test loss: 0.4766, Test acc: 83.4265\n",
      "Train time on cpu: 13.017 seconds\n"
     ]
    }
   ],
   "source": [
    "# tqdm for progress bar \n",
    "from tqdm.auto import tqdm \n",
    "# set random seed\n",
    "torch.manual_seed(42)\n",
    "train_time_start_on_cpu = timer()\n",
    "epochs = 3\n",
    "for epoch in tqdm(range(epochs)):\n",
    "    print(f\"Epochs:{epoch}\")\n",
    "    # Training \n",
    "    train_loss = 0 \n",
    "    # Add a loop to loop through the training batchs \n",
    "    for batch, (X,y) in enumerate(train_dataloader):\n",
    "        model_0.train()\n",
    "        # 1. Forward pass \n",
    "        y_pred = model_0(X)\n",
    "        # 2. Calculate the loss \n",
    "        loss = loss_fn(y_pred, y)\n",
    "        train_loss += loss # accumulate the train loss\n",
    "        # 3. Optimizer zerro grad \n",
    "        optimizer.zero_grad()\n",
    "        # 4. loss backward \n",
    "        loss.backward()\n",
    "        # 5. Optimizer step\n",
    "        optimizer.step()\n",
    "        if batch % 400 == 0:\n",
    "            print(f\"Looked at {batch * len(X)}/{len(train_dataloader)} samples\")\n",
    "    # Divide total train loss by length of train dataloader\n",
    "    train_loss /= len(train_dataloader)\n",
    "    ### Testing \n",
    "    test_loss, test_acc = 0, 0 \n",
    "    model_0.eval()\n",
    "    with torch.inference_mode():\n",
    "        for X_test, y_test in test_dataloader:\n",
    "            # Forward pass\n",
    "            test_pred = model_0(X_test)\n",
    "            # 2. Calculate loss\n",
    "            test_loss += loss_fn(test_pred, y_test)\n",
    "            # 3. Calculate accuracy \n",
    "            test_acc += accuracy_fn(y_test, test_pred.argmax(dim=1))\n",
    "        # Calculate test loss and test accuracy average per batchh \n",
    "        test_loss /= len(test_dataloader)\n",
    "        test_acc /= len(test_dataloader)\n",
    "    print(f\"\\nTrain loss: {train_loss:.4f} | Test loss: {test_loss:.4f}, Test acc: {test_acc:.4f}\")\n",
    "# Calculate training time \n",
    "train_time_end_on_cpu = timer()\n",
    "total_train_time_model_0 = print_train_time(start=train_time_start_on_cpu,\n",
    "                                            end=train_time_end_on_cpu,\n",
    "                                            device=str(next(model_0.parameters()).device))"
   ]
  },
  {
   "cell_type": "code",
   "execution_count": 31,
   "metadata": {},
   "outputs": [
    {
     "data": {
      "text/plain": [
       "'cpu'"
      ]
     },
     "execution_count": 31,
     "metadata": {},
     "output_type": "execute_result"
    }
   ],
   "source": [
    "str(next(model_0.parameters()).device)"
   ]
  },
  {
   "cell_type": "code",
   "execution_count": 34,
   "metadata": {},
   "outputs": [
    {
     "data": {
      "application/vnd.jupyter.widget-view+json": {
       "model_id": "babacf22f2e2456da7c548cf81119036",
       "version_major": 2,
       "version_minor": 0
      },
      "text/plain": [
       "  0%|          | 0/313 [00:00<?, ?it/s]"
      ]
     },
     "metadata": {},
     "output_type": "display_data"
    },
    {
     "data": {
      "text/plain": [
       "{'model_name': 'FashionMNISTModelV0',\n",
       " 'model_loss': 0.47663894295692444,\n",
       " 'model_acc': 83.42651757188499}"
      ]
     },
     "execution_count": 34,
     "metadata": {},
     "output_type": "execute_result"
    }
   ],
   "source": [
    "torch.manual_seed(42)\n",
    "def eval_model(model:torch.nn.Module,\n",
    "               data_loader:torch.utils.data.dataloader,\n",
    "               loss_fn:torch.nn.Module,\n",
    "               accuracy_fn):\n",
    "        \"\"\"Return a dictionary containing the results of model predicting on data_loader.\"\"\"\n",
    "        loss, acc = 0, 0 \n",
    "        model.eval()\n",
    "        with torch.inference_mode():\n",
    "            for X,y in tqdm(data_loader):\n",
    "                #Make predictions\n",
    "                y_pred = model(X)\n",
    "                # Accumulate the loss and acc values per batch \n",
    "                loss += loss_fn(y_pred, y)\n",
    "                acc += accuracy_fn(y, y_pred.argmax(dim=1))\n",
    "            # Scale loss and acc to find average loss/acc per batch\n",
    "            loss /= len(data_loader)\n",
    "            acc /= len(data_loader)\n",
    "        return {\"model_name\": model.__class__.__name__,\n",
    "             \"model_loss\": loss.item(),\n",
    "             \"model_acc\": acc}\n",
    "# Calculate model 0 results on test dataset \n",
    "model_0_results = eval_model(model=model_0,\n",
    "                             data_loader=test_dataloader,\n",
    "                             loss_fn=loss_fn,\n",
    "                             accuracy_fn=accuracy_fn)\n",
    "model_0_results"
   ]
  },
  {
   "cell_type": "markdown",
   "metadata": {},
   "source": [
    "## 5. Setup  device agnostic-code (for using a GPU if there is one)"
   ]
  },
  {
   "cell_type": "code",
   "execution_count": 35,
   "metadata": {},
   "outputs": [
    {
     "data": {
      "text/plain": [
       "'cuda'"
      ]
     },
     "execution_count": 35,
     "metadata": {},
     "output_type": "execute_result"
    }
   ],
   "source": [
    "# Setup device-agnostic code \n",
    "import torch \n",
    "device = \"cuda\" if torch.cuda.is_available() else \"cpu\"\n",
    "device"
   ]
  },
  {
   "cell_type": "markdown",
   "metadata": {},
   "source": [
    "## 6. Model 1: Building a better model with non-linearity"
   ]
  },
  {
   "cell_type": "code",
   "execution_count": 37,
   "metadata": {},
   "outputs": [],
   "source": [
    "# Lets create model with linear and non-linear layers \n",
    "class FashionMNISTModelV1(nn.Module):\n",
    "    def __init__(self, input_shape:int, hidden_units: int, output_shape: int):\n",
    "        super().__init__()\n",
    "        self.layer_stack = nn.Sequential(\n",
    "            nn.Flatten(),\n",
    "            nn.Linear(in_features=input_shape, out_features=hidden_units),\n",
    "            nn.ReLU(),\n",
    "            nn.Linear(in_features=hidden_units, out_features=output_shape),\n",
    "            nn.ReLU()\n",
    "        )\n",
    "    def forward(self, X:torch.Tensor):\n",
    "        return self.layer_stack(X)\n",
    "    "
   ]
  },
  {
   "cell_type": "code",
   "execution_count": 39,
   "metadata": {},
   "outputs": [
    {
     "data": {
      "text/plain": [
       "device(type='cuda', index=0)"
      ]
     },
     "execution_count": 39,
     "metadata": {},
     "output_type": "execute_result"
    }
   ],
   "source": [
    "# Create instance of model_1\n",
    "torch.manual_seed(42)\n",
    "model_1 = FashionMNISTModelV1(input_shape=784,\n",
    "                              hidden_units=10,\n",
    "                              output_shape=len(class_names)).to(device)\n",
    "next(model_1.parameters()).device"
   ]
  },
  {
   "cell_type": "code",
   "execution_count": 40,
   "metadata": {},
   "outputs": [],
   "source": [
    "# Setup the loss and accuracy fucntion \n",
    "from helper_functions import accuracy_fn\n",
    "loss_fn = nn.CrossEntropyLoss()\n",
    "optimizer = torch.optim.SGD(params=model_1.parameters(),\n",
    "                            lr=0.1)"
   ]
  },
  {
   "cell_type": "markdown",
   "metadata": {},
   "source": [
    "### 6.2 Functionizing training and evaluation/testing loops\n",
    "\n",
    "Let's create a function for:\n",
    "* training loop - `train_step()`\n",
    "* testing loop - `test_step()`"
   ]
  },
  {
   "cell_type": "code",
   "execution_count": 42,
   "metadata": {},
   "outputs": [],
   "source": [
    "def train_step(model:torch.nn.Module,\n",
    "               data_loader:torch.utils.data.DataLoader,\n",
    "               loss_fn:torch.nn.Module,\n",
    "               optimizer:torch.optim.Optimizer,\n",
    "               accuracy_fn,\n",
    "               device:torch.device=device):\n",
    "    \"\"\"Performs a training with model trying to learn on data loader\"\"\"\n",
    "    train_loss, train_acc = 0, 0\n",
    "    model.train()\n",
    "    for batch, (X,y) in enumerate(data_loader):\n",
    "        # Put data on target device \n",
    "        X, y = X.to(device), y.to(device)\n",
    "        # 1. Forward pass \n",
    "        y_pred = model(X)\n",
    "        # 2. Calculate the loss and accuracy (per batch)\n",
    "        loss = loss_fn(y_pred, y)\n",
    "        train_loss += loss\n",
    "        train_acc += accuracy_fn(y,y_pred.argmax(dim=1))\n",
    "        # 3. Optimizer zero grad \n",
    "        optimizer.zero_grad()\n",
    "        # 4. Loss backward\n",
    "        loss.backward()\n",
    "        # 5. Optimizer step \n",
    "        optimizer.step()\n",
    "    # Divide total train loss and acc by length of the train dataloader \n",
    "    train_loss /= len(data_loader)\n",
    "    train_acc /= len(data_loader)\n",
    "    print(f\"Train loss: {train_loss:.5f} | Train acc: {train_acc:.2f}%\\n\")"
   ]
  },
  {
   "cell_type": "code",
   "execution_count": 43,
   "metadata": {},
   "outputs": [],
   "source": [
    "def test_step(model:torch.nn.Module,\n",
    "              data_loader:torch.utils.data.DataLoader,\n",
    "              loss_fn:torch.nn.Module,\n",
    "              accuracy_fn,\n",
    "              device:torch.device=device):\n",
    "    \"\"\"Performs a Testomg loop step on model going over data_loader\"\"\"\n",
    "    ### Testing \n",
    "    test_loss, test_acc = 0, 0\n",
    "    model.eval()\n",
    "    with torch.inference_mode():\n",
    "        for X,y in data_loader:\n",
    "            # Data to device\n",
    "            X, y = X.to(device), y.to(device)\n",
    "            # 1. Forward pass\n",
    "            test_pred = model(X)\n",
    "            # 2. Calculate loss and accuracy\n",
    "            test_loss += loss_fn(test_pred, y)\n",
    "            test_acc += accuracy_fn(y,test_pred.argmax(dim=1))\n",
    "        # Calculate test loss and accuracy average per batch \n",
    "        test_loss /= len(data_loader)         \n",
    "        test_acc /= len(data_loader)      \n",
    "        # Print out what's happening\n",
    "        print(f\"Test loss: {test_loss:.5f} | Test acc: {test_acc:.2f}%\\n\")   \n"
   ]
  },
  {
   "cell_type": "code",
   "execution_count": 46,
   "metadata": {},
   "outputs": [
    {
     "data": {
      "application/vnd.jupyter.widget-view+json": {
       "model_id": "bc0d7ff5d7d34ee7a764c5ec34325183",
       "version_major": 2,
       "version_minor": 0
      },
      "text/plain": [
       "  0%|          | 0/3 [00:00<?, ?it/s]"
      ]
     },
     "metadata": {},
     "output_type": "display_data"
    },
    {
     "name": "stdout",
     "output_type": "stream",
     "text": [
      "Epoch: 0\n",
      "-------\n",
      "Train loss: 0.67074 | Train acc: 75.98%\n",
      "\n",
      "Test loss: 0.70416 | Test acc: 74.79%\n",
      "\n",
      "Epoch: 1\n",
      "-------\n",
      "Train loss: 0.64310 | Train acc: 76.61%\n",
      "\n",
      "Test loss: 0.68131 | Test acc: 75.24%\n",
      "\n",
      "Epoch: 2\n",
      "-------\n",
      "Train loss: 0.62648 | Train acc: 77.05%\n",
      "\n",
      "Test loss: 0.65971 | Test acc: 75.94%\n",
      "\n",
      "Train time on cuda: 13.921 seconds\n"
     ]
    }
   ],
   "source": [
    "torch.manual_seed(42)\n",
    "# Measure time \n",
    "from timeit import default_timer as timer \n",
    "train_time_start_on_gpu = timer()\n",
    "epochs = 3\n",
    "# Create a optimization and evaluation loop using train_step and test_step\n",
    "for epoch in tqdm(range(epochs)):\n",
    "    print(f\"Epoch: {epoch}\\n-------\")\n",
    "    train_step(model=model_1,\n",
    "               data_loader=train_dataloader,\n",
    "               loss_fn=loss_fn,\n",
    "               accuracy_fn=accuracy_fn,\n",
    "               optimizer=optimizer,\n",
    "               device=device)\n",
    "    test_step(model=model_1,\n",
    "              data_loader=test_dataloader,\n",
    "              loss_fn=loss_fn,\n",
    "              accuracy_fn=accuracy_fn,\n",
    "              device=device)\n",
    "train_time_end_on_gpu = timer()\n",
    "total_train_time_model_1 = print_train_time(start=train_time_start_on_gpu,\n",
    "                                            end=train_time_end_on_gpu,\n",
    "                                            device=device)"
   ]
  },
  {
   "cell_type": "code",
   "execution_count": 47,
   "metadata": {},
   "outputs": [
    {
     "data": {
      "text/plain": [
       "{'model_name': 'FashionMNISTModelV0',\n",
       " 'model_loss': 0.47663894295692444,\n",
       " 'model_acc': 83.42651757188499}"
      ]
     },
     "execution_count": 47,
     "metadata": {},
     "output_type": "execute_result"
    }
   ],
   "source": [
    "model_0_results"
   ]
  },
  {
   "cell_type": "code",
   "execution_count": 48,
   "metadata": {},
   "outputs": [
    {
     "data": {
      "text/plain": [
       "13.01675909999176"
      ]
     },
     "execution_count": 48,
     "metadata": {},
     "output_type": "execute_result"
    }
   ],
   "source": [
    "total_train_time_model_0"
   ]
  },
  {
   "cell_type": "code",
   "execution_count": 51,
   "metadata": {},
   "outputs": [],
   "source": [
    "def eval_model(model:torch.nn.Module,\n",
    "               data_loader:torch.utils.data.DataLoader,\n",
    "               loss_fn:torch.nn.Module,\n",
    "               accuracy_fn,\n",
    "               device=device):\n",
    "    \"\"\"Return a dictionary containing the results of model predicting on data_loader.\"\"\"\n",
    "    loss, acc = 0, 0 \n",
    "    model.eval()\n",
    "    with torch.inference_mode():\n",
    "        for X,y in tqdm(data_loader):\n",
    "            X, y = X.to(device), y.to(device)\n",
    "            y_pred = model(X)\n",
    "            loss += loss_fn(y_pred, y)\n",
    "            acc += accuracy_fn(y, y_pred.argmax(dim=1))\n",
    "        loss /= len(data_loader)\n",
    "        acc /= len(data_loader)\n",
    "    return {\"model_name\": model.__class__.__name__,\n",
    "            \"model_loss\": loss.item(),\n",
    "            \"model_acc\": acc}"
   ]
  },
  {
   "cell_type": "code",
   "execution_count": 52,
   "metadata": {},
   "outputs": [
    {
     "data": {
      "application/vnd.jupyter.widget-view+json": {
       "model_id": "f1f6fac2e0e9466db0ece3fd7bc6c053",
       "version_major": 2,
       "version_minor": 0
      },
      "text/plain": [
       "  0%|          | 0/313 [00:00<?, ?it/s]"
      ]
     },
     "metadata": {},
     "output_type": "display_data"
    },
    {
     "data": {
      "text/plain": [
       "{'model_name': 'FashionMNISTModelV1',\n",
       " 'model_loss': 0.6597086191177368,\n",
       " 'model_acc': 75.93849840255591}"
      ]
     },
     "execution_count": 52,
     "metadata": {},
     "output_type": "execute_result"
    }
   ],
   "source": [
    "model_1_results = eval_model(model=model_1,\n",
    "                             data_loader=test_dataloader,\n",
    "                             loss_fn=loss_fn,\n",
    "                             accuracy_fn=accuracy_fn,\n",
    "                             device=device)\n",
    "model_1_results"
   ]
  },
  {
   "cell_type": "code",
   "execution_count": 53,
   "metadata": {},
   "outputs": [
    {
     "data": {
      "text/plain": [
       "{'model_name': 'FashionMNISTModelV0',\n",
       " 'model_loss': 0.47663894295692444,\n",
       " 'model_acc': 83.42651757188499}"
      ]
     },
     "execution_count": 53,
     "metadata": {},
     "output_type": "execute_result"
    }
   ],
   "source": [
    "model_0_results"
   ]
  },
  {
   "cell_type": "markdown",
   "metadata": {},
   "source": [
    "## Model 2: Building a Convolutional Neural Networ (CNN)\n",
    "\n",
    "CNN's are also known ConvNets.\n",
    "\n",
    "CNN's are known for their capabilities to find patterns in visual data"
   ]
  },
  {
   "cell_type": "code",
   "execution_count": 60,
   "metadata": {},
   "outputs": [],
   "source": [
    "# Create a convolutional neural network\n",
    "class FashionMNISTModelV2(nn.Module):\n",
    "    \"\"\"\n",
    "    Model architecture that replicates the TinyVGG.\n",
    "    model from CNN explainer website.\n",
    "    \"\"\"\n",
    "    def __init__(self, input_shape:int,hidden_units:int,output_shape:int):\n",
    "        super().__init__()\n",
    "        self.conv_block_1 = nn.Sequential(\n",
    "            # Create a conv layer\n",
    "            nn.Conv2d(in_channels=input_shape,\n",
    "                     out_channels=hidden_units,\n",
    "                     kernel_size=3,\n",
    "                     stride=1,\n",
    "                     padding=1),\n",
    "            nn.ReLU(),\n",
    "            # Create a conv layer\n",
    "            nn.Conv2d(in_channels=hidden_units,\n",
    "                     out_channels=hidden_units,\n",
    "                     kernel_size=3,\n",
    "                     stride=1,\n",
    "                     padding=1),\n",
    "            nn.ReLU(),\n",
    "            # Create a max pool layer\n",
    "            nn.MaxPool2d(kernel_size=2)\n",
    "        )\n",
    "        self.conv_block_2 = nn.Sequential(\n",
    "            nn.Conv2d(in_channels=hidden_units,\n",
    "                     out_channels=hidden_units,\n",
    "                     kernel_size=3,\n",
    "                     stride=1,\n",
    "                     padding=1),\n",
    "            nn.ReLU(),\n",
    "            nn.Conv2d(in_channels=hidden_units,\n",
    "                     out_channels=hidden_units,\n",
    "                     kernel_size=3,\n",
    "                     stride=1,\n",
    "                     padding=1),\n",
    "            nn.ReLU(),\n",
    "            nn.MaxPool2d(kernel_size=2)\n",
    "        )\n",
    "        self.classifier = nn.Sequential(\n",
    "            nn.Flatten(),\n",
    "            nn.Linear(in_features=hidden_units * 7* 7, # Trick to calculate this get warnings.warn(\"Initializing zero-element tensors is a no-op\")\n",
    "                     out_features=output_shape)\n",
    "        )\n",
    "    def forward(self,x):\n",
    "        x = self.conv_block_1(x)\n",
    "        x = self.conv_block_2(x)\n",
    "        x = self.classifier(x)\n",
    "        return x"
   ]
  },
  {
   "cell_type": "code",
   "execution_count": 61,
   "metadata": {},
   "outputs": [],
   "source": [
    "torch.manual_seed(2)\n",
    "model_2 = FashionMNISTModelV2(input_shape=1,\n",
    "                             hidden_units=10,\n",
    "                             output_shape=len(class_names)).to(device)"
   ]
  },
  {
   "cell_type": "code",
   "execution_count": 62,
   "metadata": {},
   "outputs": [
    {
     "data": {
      "text/plain": [
       "tensor([[[-4.5595e-02,  3.5251e-01, -7.2400e-01,  7.8644e-01, -1.7009e+00,\n",
       "          -3.3818e-01, -6.6032e-01,  2.5603e+00,  4.0503e-01,  1.2958e+00,\n",
       "          -3.3247e-01,  9.3508e-02, -3.1299e+00,  1.0384e-01, -4.3990e-01,\n",
       "          -1.0184e-01,  5.1080e-01,  8.4546e-01,  1.2579e+00, -8.2876e-01,\n",
       "          -8.0847e-01, -4.4036e-01, -7.5850e-01,  1.2918e+00, -2.4717e+00,\n",
       "           2.6387e-01,  3.5509e-01,  2.0810e+00],\n",
       "         [-2.0480e+00,  1.1735e-01,  2.0716e-01,  7.2815e-01, -1.4683e-01,\n",
       "          -1.6876e+00, -5.5313e-01,  1.3233e+00,  2.3121e+00,  8.6946e-01,\n",
       "           2.9567e-03, -3.2904e-01,  2.6476e+00, -5.1289e-01,  1.3089e+00,\n",
       "           1.9217e+00, -8.1873e-01,  3.8066e-01, -1.0378e+00,  3.9682e-01,\n",
       "          -1.0075e+00, -7.2002e-01, -1.1371e+00, -6.3887e-02, -1.5662e-01,\n",
       "          -2.3808e-01,  4.2858e-01,  6.8970e-01],\n",
       "         [-1.3232e+00, -5.0409e-01, -5.4434e-03,  9.9417e-01, -1.9988e+00,\n",
       "           3.0070e-01,  6.4729e-01, -2.2313e-01, -9.0359e-01,  1.0664e+00,\n",
       "          -1.3260e+00, -1.0850e+00,  2.8991e-01, -1.3332e+00,  1.6953e+00,\n",
       "          -7.9387e-01, -2.1604e-03, -7.3563e-01,  4.8771e-01,  1.1358e+00,\n",
       "          -1.0584e+00, -4.9069e-01,  8.8071e-01,  2.9336e-01,  4.0226e-01,\n",
       "          -2.1588e-01, -2.2110e-01,  1.5156e+00],\n",
       "         [-2.7218e-01, -8.1093e-01, -2.4409e-01,  8.1003e-01,  3.7493e-02,\n",
       "           2.3379e-01, -4.9409e-01, -1.4182e+00, -4.5684e-01, -7.4871e-01,\n",
       "           2.9324e-01,  1.6119e+00, -7.5947e-02, -9.2070e-02,  3.3507e-01,\n",
       "          -5.6622e-01,  1.1205e+00,  1.1673e-01, -2.8802e-01, -3.1319e-01,\n",
       "          -1.1666e+00,  3.4265e-01, -2.4021e-01,  8.6913e-01,  1.3980e+00,\n",
       "          -1.6581e+00,  7.8570e-01, -1.0898e+00],\n",
       "         [-1.0272e+00, -1.0244e-01,  5.9356e-02, -8.1538e-01, -8.9478e-02,\n",
       "           8.7943e-01,  2.8595e-01, -1.5200e+00, -5.5114e-01, -3.2680e-01,\n",
       "           9.4644e-01,  5.4205e-01,  5.0402e-01,  1.6521e-01,  1.6749e+00,\n",
       "           9.5756e-01,  2.1038e+00, -1.9557e-01,  1.6477e+00,  7.7473e-01,\n",
       "           2.8043e-01, -1.8014e+00, -6.3164e-01,  1.1741e+00, -3.7703e-01,\n",
       "           1.2045e+00, -4.2113e-01, -9.5298e-01],\n",
       "         [ 7.1346e-01,  1.9427e+00,  1.4683e+00, -9.6093e-01,  1.3318e+00,\n",
       "          -1.4367e-01, -1.8494e-01,  1.1804e-01,  6.4224e-01, -1.7402e+00,\n",
       "          -1.5585e+00,  3.7929e-01, -1.2791e+00,  2.4187e-01, -2.5538e-01,\n",
       "          -1.0893e+00,  1.8313e+00,  7.8752e-01,  1.3862e+00,  7.3042e-01,\n",
       "           1.4419e+00,  2.0062e+00,  5.4006e-01,  1.6046e+00, -1.1418e+00,\n",
       "          -5.3382e-01, -4.4811e-01,  2.9447e-01],\n",
       "         [ 1.5167e-01,  8.7111e-01, -3.8907e-01,  7.0309e-01, -1.4041e+00,\n",
       "           2.9436e-01, -1.3225e-01, -1.7379e+00,  1.7332e+00, -1.8134e+00,\n",
       "           9.0740e-01, -6.4402e-01, -1.4392e+00, -1.1017e+00, -1.4897e-03,\n",
       "           2.0456e+00,  9.7153e-01, -3.9455e-01,  1.3311e+00,  5.3029e-01,\n",
       "           5.4119e-01,  1.1684e-02, -4.3841e-01, -9.1683e-01,  2.9503e-01,\n",
       "           9.0569e-02, -1.2902e+00, -6.4557e-01],\n",
       "         [ 1.2746e+00, -7.3878e-02,  9.2977e-01, -9.9516e-01, -7.2398e-01,\n",
       "           2.0583e+00, -8.4865e-01, -1.5860e-01,  4.4224e-01,  5.7552e-01,\n",
       "          -2.0569e+00,  1.0842e+00, -5.2747e-01,  1.0365e+00,  3.1174e-01,\n",
       "           6.9664e-01, -1.7360e-01, -1.9167e+00, -6.8554e-01,  1.1197e-01,\n",
       "           1.0593e+00,  2.4204e-01,  2.9439e-01, -1.6525e+00,  5.7414e-01,\n",
       "           8.6294e-01,  4.7700e-01,  7.4579e-01],\n",
       "         [ 2.3044e-01,  1.1758e-01, -7.5531e-02,  1.3887e+00,  6.1543e-01,\n",
       "           7.3739e-01,  1.0614e+00, -9.3947e-01,  9.1193e-01,  6.1466e-01,\n",
       "           4.2767e-01,  1.2474e+00,  1.6849e+00,  1.9801e-02, -8.9714e-01,\n",
       "          -5.1401e-01,  5.8180e-01, -1.0741e+00,  1.1686e+00, -3.3451e-01,\n",
       "           2.0683e-01, -1.0090e-01, -7.6282e-01,  4.7884e-01,  1.2436e-01,\n",
       "           5.4180e-01, -6.0928e-01,  1.4575e+00],\n",
       "         [-1.0704e+00, -1.8253e+00,  6.6556e-01, -4.9148e-01, -1.5199e-01,\n",
       "           9.3196e-01,  5.7019e-01,  2.3512e+00,  1.4115e+00, -7.3347e-01,\n",
       "           6.8930e-01, -1.3795e+00,  3.3599e-01, -1.5491e+00,  7.3356e-01,\n",
       "           1.3896e-01, -2.0750e+00,  1.5148e+00,  6.4610e-01, -8.9274e-01,\n",
       "           1.2268e+00,  5.6607e-01,  3.1339e-01,  8.0645e-01, -1.8100e-01,\n",
       "          -8.6666e-01,  3.9687e-02,  1.6788e+00],\n",
       "         [-2.3139e+00, -6.6075e-01,  8.6340e-01, -4.1822e-01, -2.1454e+00,\n",
       "           3.6385e-01, -2.3956e-01, -7.1366e-01,  2.7359e-01, -2.4556e+00,\n",
       "           1.0306e+00,  3.0814e-01, -7.0316e-02,  1.5331e+00, -1.0497e+00,\n",
       "          -7.9205e-01,  1.7239e-01,  5.3879e-01, -1.0768e-01, -5.6192e-02,\n",
       "          -2.2219e-01, -9.8073e-02,  2.2948e-01, -4.3073e-01,  1.2986e+00,\n",
       "          -1.3217e+00,  4.6546e-02, -9.0385e-01],\n",
       "         [-1.3902e+00, -4.1981e-01,  6.0698e-01, -2.4860e-01,  1.8924e+00,\n",
       "           7.4554e-01,  7.8187e-01, -2.3601e+00,  1.7355e+00,  1.4544e-01,\n",
       "           2.4743e+00, -1.6362e+00, -3.1977e-01, -5.4958e-01,  1.2268e+00,\n",
       "          -1.3377e-01,  5.7258e-01, -1.3245e+00, -3.7171e-01, -1.0373e+00,\n",
       "           9.6774e-02,  6.4729e-01,  8.8381e-01, -6.5827e-03, -5.0057e-01,\n",
       "           3.2306e-02,  2.2616e+00,  1.3347e+00],\n",
       "         [ 8.2803e-01,  1.2430e-01,  3.2228e-01, -3.2298e-01, -1.0672e+00,\n",
       "           1.9208e-01,  6.6488e-01,  2.0659e-01, -1.1981e+00,  2.1666e-01,\n",
       "           7.8927e-01,  1.4101e+00,  2.2116e+00, -3.3160e-01, -5.6110e-01,\n",
       "          -1.0737e+00, -2.6216e-01, -1.4431e+00, -1.2702e+00, -3.8380e-01,\n",
       "           2.5050e-01, -1.8847e+00, -2.6673e-01, -6.3244e-01,  1.8749e+00,\n",
       "          -5.2014e-01, -2.9965e-01, -1.8223e+00],\n",
       "         [-7.0255e-01, -1.5797e-01,  9.2974e-01, -2.1859e+00, -1.8047e+00,\n",
       "           1.3387e+00, -1.1960e+00,  1.6566e+00,  1.2097e+00,  1.8829e-01,\n",
       "          -3.2187e-01, -8.3622e-01,  2.6784e-01,  1.2871e-01,  5.9252e-01,\n",
       "           8.8722e-01, -6.5630e-01, -1.1619e-01, -9.7442e-02, -2.6515e+00,\n",
       "           7.0467e-01, -5.9259e-01, -1.0747e+00, -8.6648e-01,  5.4281e-01,\n",
       "          -6.9960e-01, -1.4071e+00,  2.6070e-01],\n",
       "         [-4.3134e-01,  1.7659e-01,  4.1205e-01,  1.7510e+00,  1.2491e+00,\n",
       "          -1.3466e+00, -5.6934e-01, -7.0540e-01, -2.1825e+00, -9.2941e-01,\n",
       "           1.7166e-01,  1.1930e+00,  1.4522e-02,  8.3550e-01, -1.4301e+00,\n",
       "          -1.1039e+00,  6.4801e-01, -7.7848e-01, -1.3148e+00, -6.5411e-01,\n",
       "          -1.0699e+00, -2.4128e-01,  1.5239e+00, -2.8883e-01,  6.9297e-01,\n",
       "           4.0601e-01,  6.9098e-01,  1.0802e+00],\n",
       "         [-5.8527e-01,  1.8359e+00,  7.8594e-01, -8.8885e-01,  1.8584e+00,\n",
       "          -1.7078e+00, -5.1529e-01, -1.3018e+00,  6.2466e-01, -7.6883e-01,\n",
       "           6.7626e-01,  7.1342e-01,  2.1580e-01,  3.6957e-01, -6.7641e-01,\n",
       "           4.7262e-01, -6.8486e-01, -4.7091e-01, -5.0272e-01, -6.4397e-01,\n",
       "          -1.2636e-01, -5.7534e-02, -1.4492e+00,  2.7191e-01, -2.3051e-03,\n",
       "           1.5979e-01,  8.6918e-02,  1.2289e+00],\n",
       "         [ 1.1427e+00, -6.9147e-01, -6.8204e-01,  1.2683e+00,  1.3714e+00,\n",
       "           8.0157e-01, -4.9076e-02,  5.8727e-01,  7.6547e-01, -4.5136e-01,\n",
       "          -9.9784e-01, -1.6533e+00,  3.7432e-01, -1.1107e+00, -1.1481e+00,\n",
       "           1.0391e+00,  2.8894e-01, -3.4444e-01,  1.2240e+00,  2.1532e-01,\n",
       "          -2.8684e-01, -4.7046e-01,  1.5528e+00, -9.7391e-02,  2.2564e-01,\n",
       "          -8.6326e-01,  1.1372e+00,  1.2132e+00],\n",
       "         [-2.3592e-01, -1.4157e+00,  1.6860e+00, -1.1919e-01,  1.1898e-01,\n",
       "           1.2569e+00,  9.1425e-02, -9.6886e-01,  8.2667e-01,  5.4229e-02,\n",
       "           1.4060e+00, -1.2303e+00,  1.3149e+00, -1.9751e+00, -1.1435e-02,\n",
       "           4.9968e-01, -1.3074e-01,  9.2412e-01, -1.6280e+00,  1.3812e-01,\n",
       "          -4.6611e-01, -3.1604e-01,  6.3506e-03,  2.3396e-01, -8.7671e-01,\n",
       "          -7.1343e-01,  5.3350e-01, -6.3375e-01],\n",
       "         [-1.1942e+00, -4.1834e-01, -4.5534e-01,  9.5730e-01,  1.2413e+00,\n",
       "          -1.7030e+00,  1.2667e+00, -1.9894e-01,  1.2517e+00,  2.4640e-01,\n",
       "           1.5591e-01, -6.0482e-01,  1.9779e+00, -9.5466e-01, -3.6140e-01,\n",
       "           5.1223e-01, -8.1246e-01, -9.5082e-01, -2.0923e+00,  6.0039e-01,\n",
       "           1.2033e-01,  1.1831e+00,  7.7179e-02,  1.3396e-01,  1.8220e-01,\n",
       "          -4.4491e-01, -1.2425e-01, -1.0011e+00],\n",
       "         [ 7.6835e-02, -1.4349e+00, -8.7446e-01, -5.3401e-01,  1.8848e+00,\n",
       "          -7.4063e-01, -5.7271e-02,  2.7521e-01,  1.8882e+00, -3.3369e-02,\n",
       "           1.1787e+00,  3.3675e-01, -2.5212e-01, -4.0756e-01,  5.6436e-01,\n",
       "           3.4290e-01, -1.4182e-01,  1.4315e+00, -3.2653e-01, -1.5762e+00,\n",
       "           1.4233e-01, -8.9698e-01, -8.3595e-01, -6.5497e-01,  8.6747e-01,\n",
       "          -4.1295e-01, -1.0509e+00, -3.9540e-01],\n",
       "         [ 2.0348e+00,  8.2486e-01, -2.3180e-02,  1.7371e+00, -1.2503e+00,\n",
       "          -9.1579e-01, -8.3729e-01, -1.1406e+00, -1.7499e+00, -1.4286e+00,\n",
       "          -1.2391e+00,  1.8520e+00, -1.1426e+00,  8.4818e-01,  4.4010e-01,\n",
       "           8.8780e-01, -5.9812e-02, -1.8304e-01,  3.6977e-01,  1.3452e+00,\n",
       "          -2.2945e+00,  1.6286e+00,  1.2433e+00,  1.2040e-01,  7.0793e-01,\n",
       "          -5.2985e-01,  1.3737e-01, -1.4260e+00],\n",
       "         [ 3.0191e+00,  1.6674e+00,  8.8151e-01,  1.0282e+00,  6.0183e-01,\n",
       "          -9.8240e-02, -1.7293e-01,  7.2697e-01,  2.9776e-01, -2.4575e-01,\n",
       "          -1.4795e-01, -3.5437e-01, -1.0574e+00, -3.8511e-01,  6.4666e-01,\n",
       "          -8.4050e-01,  6.9756e-01, -5.4905e-01, -8.6662e-01, -2.7025e-01,\n",
       "          -1.5834e+00, -1.3679e+00,  7.9339e-01, -5.3911e-01, -3.7678e-01,\n",
       "          -9.5989e-01,  9.2843e-02,  1.0191e+00],\n",
       "         [-8.6180e-01,  1.0901e+00, -4.4812e-01, -2.0669e+00, -4.0148e-01,\n",
       "           9.5760e-01, -1.2567e+00, -9.3340e-01,  5.1188e-01, -5.6945e-01,\n",
       "          -4.7436e-01,  6.7054e-01,  9.5955e-01, -5.2758e-01, -1.0562e+00,\n",
       "          -1.1419e+00, -2.0545e-01, -3.9707e-01,  3.2446e-01, -5.7504e-01,\n",
       "           3.4865e-01, -3.0290e-01, -6.1931e-01,  1.1821e+00,  1.1825e+00,\n",
       "           2.4956e-01,  1.1155e-01,  3.1868e-01],\n",
       "         [-6.1828e-01,  1.3270e-01,  4.4684e-02,  5.9361e-01, -3.3964e-01,\n",
       "          -8.4293e-01,  6.0007e-01, -6.9454e-01, -3.6335e-01,  1.2743e+00,\n",
       "          -1.8590e-01, -1.7547e+00,  1.8584e+00, -1.3224e+00,  2.0810e+00,\n",
       "          -1.0621e-01, -6.3216e-01, -4.4475e-01, -1.8635e-01,  1.4199e+00,\n",
       "          -1.3468e+00, -3.5916e-02, -3.2593e-01,  2.9435e-01, -4.9920e-02,\n",
       "          -5.7304e-01, -1.7228e+00, -1.2445e+00],\n",
       "         [ 9.7800e-01, -1.0335e+00,  4.9582e-01,  5.2740e-01,  5.4073e-01,\n",
       "          -6.7609e-01,  4.9442e-01, -1.0010e+00,  1.6924e+00,  1.8156e+00,\n",
       "          -5.8332e-01,  3.3825e-01, -1.9639e-01, -1.1321e+00, -3.5933e-01,\n",
       "          -1.7473e+00,  1.9937e-01, -2.0317e+00, -3.3011e-01, -7.3190e-01,\n",
       "           8.3017e-01, -1.1695e-01, -1.1362e-01, -1.7871e-01,  1.1929e+00,\n",
       "          -8.5549e-01, -8.9278e-01, -8.9288e-01],\n",
       "         [ 3.9328e-01,  5.9661e-01, -1.3170e+00,  1.8843e+00, -1.0086e-01,\n",
       "          -1.5399e+00,  8.2273e-01, -1.2732e+00, -1.8107e-01,  6.8664e-01,\n",
       "           1.9023e+00,  5.7813e-01, -5.4348e-01,  1.5493e-01,  2.1396e-02,\n",
       "          -1.4422e+00, -1.0255e+00, -2.6659e-01,  8.8270e-01, -7.1905e-01,\n",
       "          -5.3768e-01, -5.0937e-01, -2.3745e+00,  2.5190e+00, -2.4425e-01,\n",
       "          -1.1590e+00,  7.5048e-01, -5.2847e-01],\n",
       "         [-6.4550e-01,  2.1603e+00, -1.7447e+00, -7.9415e-01,  1.5808e+00,\n",
       "          -4.9916e-01, -9.2136e-02, -4.2149e-01,  6.9621e-01,  4.2118e-01,\n",
       "           8.4263e-01, -3.9709e-01,  1.2098e+00, -4.3368e-01,  5.2091e-01,\n",
       "           1.8392e+00,  1.1452e+00,  6.3158e-01, -3.0530e-01, -9.2984e-01,\n",
       "           7.6194e-01, -3.5257e-01, -4.6112e-01, -6.0489e-01, -1.2676e+00,\n",
       "          -1.0083e+00, -1.2347e+00,  1.1699e-01],\n",
       "         [-1.9218e+00, -1.6454e-01,  5.1573e-01, -8.4082e-01,  1.8873e+00,\n",
       "           2.4867e-01,  1.4367e+00, -1.1259e+00,  1.1065e+00, -1.8433e+00,\n",
       "           1.5223e-01, -1.4020e+00, -4.3343e-01, -2.7178e-01,  1.0286e+00,\n",
       "           5.7165e-01,  9.2952e-01,  1.3336e-02, -5.5915e-01,  2.2829e-01,\n",
       "          -7.9879e-01,  8.8114e-01, -8.3390e-01,  1.1237e+00,  1.6583e-01,\n",
       "          -4.9787e-01, -2.5913e+00, -1.1765e+00]]])"
      ]
     },
     "execution_count": 62,
     "metadata": {},
     "output_type": "execute_result"
    }
   ],
   "source": [
    "rand_image_tensor = torch.randn(size=(1,28,28))\n",
    "rand_image_tensor"
   ]
  },
  {
   "cell_type": "code",
   "execution_count": 63,
   "metadata": {},
   "outputs": [
    {
     "data": {
      "text/plain": [
       "tensor([[ 0.0067, -0.0388, -0.0725,  0.0164, -0.0109, -0.0820, -0.1598,  0.0115,\n",
       "          0.0603,  0.0190]], device='cuda:0', grad_fn=<AddmmBackward0>)"
      ]
     },
     "execution_count": 63,
     "metadata": {},
     "output_type": "execute_result"
    }
   ],
   "source": [
    "# pass image through model \n",
    "model_2(rand_image_tensor.unsqueeze(0).to(device))"
   ]
  },
  {
   "cell_type": "code",
   "execution_count": 64,
   "metadata": {},
   "outputs": [
    {
     "name": "stdout",
     "output_type": "stream",
     "text": [
      "Image batch shape: torch.Size([32, 3, 64, 64])\n",
      "Single image shape: torch.Size([3, 64, 64])\n",
      "Test image:\n",
      "tensor([[[ 1.9269,  1.4873,  0.9007,  ...,  1.8446, -1.1845,  1.3835],\n",
      "         [ 1.4451,  0.8564,  2.2181,  ...,  0.3399,  0.7200,  0.4114],\n",
      "         [ 1.9312,  1.0119, -1.4364,  ..., -0.5558,  0.7043,  0.7099],\n",
      "         ...,\n",
      "         [-0.5610, -0.4830,  0.4770,  ..., -0.2713, -0.9537, -0.6737],\n",
      "         [ 0.3076, -0.1277,  0.0366,  ..., -2.0060,  0.2824, -0.8111],\n",
      "         [-1.5486,  0.0485, -0.7712,  ..., -0.1403,  0.9416, -0.0118]],\n",
      "\n",
      "        [[-0.5197,  1.8524,  1.8365,  ...,  0.8935, -1.5114, -0.8515],\n",
      "         [ 2.0818,  1.0677, -1.4277,  ...,  1.6612, -2.6223, -0.4319],\n",
      "         [-0.1010, -0.4388, -1.9775,  ...,  0.2106,  0.2536, -0.7318],\n",
      "         ...,\n",
      "         [ 0.2779,  0.7342, -0.3736,  ..., -0.4601,  0.1815,  0.1850],\n",
      "         [ 0.7205, -0.2833,  0.0937,  ..., -0.1002, -2.3609,  2.2465],\n",
      "         [-1.3242, -0.1973,  0.2920,  ...,  0.5409,  0.6940,  1.8563]],\n",
      "\n",
      "        [[-0.7978,  1.0261,  1.1465,  ...,  1.2134,  0.9354, -0.0780],\n",
      "         [-1.4647, -1.9571,  0.1017,  ..., -1.9986, -0.7409,  0.7011],\n",
      "         [-1.3938,  0.8466, -1.7191,  ..., -1.1867,  0.1320,  0.3407],\n",
      "         ...,\n",
      "         [ 0.8206, -0.3745,  1.2499,  ..., -0.0676,  0.0385,  0.6335],\n",
      "         [-0.5589, -0.3393,  0.2347,  ...,  2.1181,  2.4569,  1.3083],\n",
      "         [-0.4092,  1.5199,  0.2401,  ..., -0.2558,  0.7870,  0.9924]]])\n"
     ]
    }
   ],
   "source": [
    "torch.manual_seed(42)\n",
    "# Create a batch of images\n",
    "images = torch.randn(size=(32,3,64,64))\n",
    "test_image = images[0]\n",
    "print(f\"Image batch shape: {images.shape}\")\n",
    "print(f\"Single image shape: {test_image.shape}\")\n",
    "print(f\"Test image:\\n{test_image}\")"
   ]
  },
  {
   "cell_type": "code",
   "execution_count": 65,
   "metadata": {},
   "outputs": [
    {
     "data": {
      "text/plain": [
       "<matplotlib.image.AxesImage at 0x220e73c5e20>"
      ]
     },
     "execution_count": 65,
     "metadata": {},
     "output_type": "execute_result"
    },
    {
     "data": {
      "image/png": "[encoded data removed]",
      "text/plain": [
       "<Figure size 640x480 with 1 Axes>"
      ]
     },
     "metadata": {},
     "output_type": "display_data"
    }
   ],
   "source": [
    "plt.imshow(image.squeeze(0), cmap=\"gray\")"
   ]
  },
  {
   "cell_type": "code",
   "execution_count": 66,
   "metadata": {},
   "outputs": [
    {
     "data": {
      "text/plain": [
       "torch.Size([3, 64, 64])"
      ]
     },
     "execution_count": 66,
     "metadata": {},
     "output_type": "execute_result"
    }
   ],
   "source": [
    "test_image.shape"
   ]
  },
  {
   "cell_type": "code",
   "execution_count": 67,
   "metadata": {},
   "outputs": [
    {
     "data": {
      "text/plain": [
       "torch.Size([1, 10, 62, 62])"
      ]
     },
     "execution_count": 67,
     "metadata": {},
     "output_type": "execute_result"
    }
   ],
   "source": [
    "torch.manual_seed(42)\n",
    "# Create a single Conv2d laye \n",
    "conv_layer = nn.Conv2d(in_channels=3,\n",
    "                      out_channels=10,\n",
    "                      kernel_size=3,\n",
    "                      stride=1,\n",
    "                      padding=0)\n",
    "# Pass data through the convolutional layer\n",
    "conv_output = conv_layer(test_image.unsqueeze(0))\n",
    "conv_output.shape"
   ]
  },
  {
   "cell_type": "markdown",
   "metadata": {},
   "source": [
    "### 7.2 stepping through `nn.MaxPool2d`"
   ]
  },
  {
   "cell_type": "code",
   "execution_count": 69,
   "metadata": {},
   "outputs": [
    {
     "name": "stdout",
     "output_type": "stream",
     "text": [
      "Image shape:torch.Size([3, 64, 64])\n",
      "Image shape with unsqueezed:torch.Size([1, 3, 64, 64])\n",
      "Shape after  going through conv_layer: torch.Size([1, 10, 62, 62])\n",
      "Shape after going through conv_layer() and max_pool_layer(): torch.Size([1, 10, 31, 31])\n"
     ]
    }
   ],
   "source": [
    "print(f\"Image shape:{test_image.shape}\")\n",
    "print(f\"Image shape with unsqueezed:{test_image.unsqueeze(0).shape}\")\n",
    "# Create the sample nn.MaxPool2d layer\n",
    "max_pool_layer = nn.MaxPool2d(kernel_size=2)\n",
    "#Pass data through cpmv_layer\n",
    "test_image_through_conv = conv_layer(test_image.unsqueeze(dim=0))\n",
    "print(f\"Shape after  going through conv_layer: {test_image_through_conv.shape}\")\n",
    "# Pass data through the max pool layer \n",
    "test_image_through_conv_and_max_pool = max_pool_layer(test_image_through_conv)\n",
    "print(f\"Shape after going through conv_layer() and max_pool_layer(): {test_image_through_conv_and_max_pool.shape}\")"
   ]
  },
  {
   "cell_type": "code",
   "execution_count": 70,
   "metadata": {},
   "outputs": [
    {
     "name": "stdout",
     "output_type": "stream",
     "text": [
      "\n",
      "Random tensor:tensor([[[[0.3367, 0.1288],\n",
      "          [0.2345, 0.2303]]]])\n",
      "\n",
      "Random tensor shape:torch.Size([1, 1, 2, 2])\n",
      "\n",
      "Max pool tensor:tensor([[[[0.3367]]]])\n",
      "\n",
      "Max pool tensor shape:torch.Size([1, 1, 1, 1])\n"
     ]
    }
   ],
   "source": [
    "torch.manual_seed(42)\n",
    "random_tensor = torch.randn(size=(1,1,2,2))\n",
    "print(f\"\\nRandom tensor:{random_tensor}\")\n",
    "print(f\"\\nRandom tensor shape:{random_tensor.shape}\")\n",
    "max_pool_layer = nn.MaxPool2d(kernel_size=2)\n",
    "max_pool_tensor = max_pool_layer(random_tensor)\n",
    "print(f\"\\nMax pool tensor:{max_pool_tensor}\")\n",
    "print(f\"\\nMax pool tensor shape:{max_pool_tensor.shape}\")"
   ]
  },
  {
   "cell_type": "markdown",
   "metadata": {},
   "source": [
    "### 7.3 Setup a loss function and optimizer for `model_2`"
   ]
  },
  {
   "cell_type": "code",
   "execution_count": 71,
   "metadata": {},
   "outputs": [],
   "source": [
    "# Setup loss function/eval metrics/ optimizer\n",
    "from helper_functions import accuracy_fn\n",
    "loss_fn = nn.CrossEntropyLoss()\n",
    "optimizer = torch.optim.SGD(params=model_2.parameters(),\n",
    "                           lr=0.1)"
   ]
  },
  {
   "cell_type": "code",
   "execution_count": 72,
   "metadata": {},
   "outputs": [
    {
     "data": {
      "text/plain": [
       "OrderedDict([('conv_block_1.0.weight',\n",
       "              tensor([[[[ 0.0765, -0.0793,  0.0914],\n",
       "                        [-0.0170,  0.1424,  0.0794],\n",
       "                        [-0.0383, -0.2695,  0.0761]]],\n",
       "              \n",
       "              \n",
       "                      [[[-0.2951,  0.0438,  0.0222],\n",
       "                        [-0.0733,  0.2726,  0.0222],\n",
       "                        [ 0.1382,  0.1411, -0.1966]]],\n",
       "              \n",
       "              \n",
       "                      [[[-0.1281,  0.3206, -0.3265],\n",
       "                        [-0.0226, -0.0264,  0.2364],\n",
       "                        [-0.0317,  0.0878, -0.0160]]],\n",
       "              \n",
       "              \n",
       "                      [[[-0.1866, -0.1889, -0.1619],\n",
       "                        [-0.3028, -0.2163,  0.0784],\n",
       "                        [ 0.2194,  0.0164, -0.1528]]],\n",
       "              \n",
       "              \n",
       "                      [[[ 0.1465, -0.1280, -0.0738],\n",
       "                        [-0.1827, -0.1047, -0.3089],\n",
       "                        [ 0.1422,  0.1296,  0.0662]]],\n",
       "              \n",
       "              \n",
       "                      [[[ 0.1637,  0.1413,  0.0147],\n",
       "                        [ 0.0353,  0.0255,  0.1779],\n",
       "                        [ 0.2239,  0.2394,  0.1932]]],\n",
       "              \n",
       "              \n",
       "                      [[[-0.0813, -0.0148, -0.0677],\n",
       "                        [ 0.1939,  0.0370,  0.3085],\n",
       "                        [ 0.1691, -0.2849,  0.0975]]],\n",
       "              \n",
       "              \n",
       "                      [[[ 0.3203,  0.2961, -0.0052],\n",
       "                        [ 0.1106, -0.3127, -0.1063],\n",
       "                        [ 0.1625, -0.3037,  0.2904]]],\n",
       "              \n",
       "              \n",
       "                      [[[-0.2192,  0.1054, -0.0126],\n",
       "                        [ 0.0587,  0.0323, -0.3116],\n",
       "                        [-0.0716, -0.2107,  0.2834]]],\n",
       "              \n",
       "              \n",
       "                      [[[-0.0409, -0.3319,  0.0807],\n",
       "                        [ 0.1448, -0.1492, -0.0313],\n",
       "                        [ 0.1441, -0.2074, -0.1762]]]], device='cuda:0')),\n",
       "             ('conv_block_1.0.bias',\n",
       "              tensor([-0.0322, -0.2341,  0.2049,  0.0273,  0.1994,  0.1785, -0.2569, -0.2078,\n",
       "                      -0.2280, -0.1071], device='cuda:0')),\n",
       "             ('conv_block_1.2.weight',\n",
       "              tensor([[[[-0.0385, -0.0170, -0.1020],\n",
       "                        [ 0.0445,  0.0598,  0.0334],\n",
       "                        [ 0.0670,  0.0792, -0.1041]],\n",
       "              \n",
       "                       [[ 0.0159,  0.0978, -0.0764],\n",
       "                        [-0.0469, -0.0056, -0.0656],\n",
       "                        [-0.0199, -0.0156,  0.0939]],\n",
       "              \n",
       "                       [[-0.0066,  0.0572,  0.0772],\n",
       "                        [ 0.0470, -0.0917,  0.0790],\n",
       "                        [ 0.0695, -0.0756, -0.0376]],\n",
       "              \n",
       "                       [[ 0.0717, -0.1025, -0.0924],\n",
       "                        [-0.0714,  0.0328, -0.0430],\n",
       "                        [-0.0940,  0.0409,  0.0533]],\n",
       "              \n",
       "                       [[ 0.0395, -0.0903,  0.1026],\n",
       "                        [-0.0080, -0.1003, -0.0159],\n",
       "                        [ 0.0688,  0.0485, -0.0011]],\n",
       "              \n",
       "                       [[ 0.0743, -0.0962,  0.0731],\n",
       "                        [ 0.1046, -0.0641,  0.0226],\n",
       "                        [-0.0170, -0.0890, -0.0009]],\n",
       "              \n",
       "                       [[-0.0353, -0.0900, -0.0768],\n",
       "                        [ 0.0023,  0.0977,  0.0377],\n",
       "                        [-0.0701,  0.0727,  0.0087]],\n",
       "              \n",
       "                       [[-0.1030,  0.0050,  0.0677],\n",
       "                        [-0.0620, -0.0049, -0.0525],\n",
       "                        [-0.0831, -0.0599,  0.0106]],\n",
       "              \n",
       "                       [[ 0.0681, -0.0196, -0.0948],\n",
       "                        [-0.0009, -0.0917,  0.0062],\n",
       "                        [ 0.0782,  0.0450, -0.0645]],\n",
       "              \n",
       "                       [[-0.0233,  0.0422,  0.0286],\n",
       "                        [-0.0990, -0.0615, -0.0373],\n",
       "                        [ 0.0387,  0.0942,  0.0470]]],\n",
       "              \n",
       "              \n",
       "                      [[[ 0.0398, -0.0894,  0.0682],\n",
       "                        [ 0.0378, -0.0339, -0.0506],\n",
       "                        [ 0.0300, -0.0571,  0.0428]],\n",
       "              \n",
       "                       [[ 0.0806, -0.0696, -0.0658],\n",
       "                        [-0.0438, -0.0902, -0.0121],\n",
       "                        [ 0.0657,  0.0395, -0.0340]],\n",
       "              \n",
       "                       [[-0.0131, -0.0458, -0.0851],\n",
       "                        [-0.0288,  0.0073, -0.0535],\n",
       "                        [-0.0790,  0.0308,  0.0155]],\n",
       "              \n",
       "                       [[-0.0328,  0.0289,  0.0974],\n",
       "                        [ 0.0058, -0.0722,  0.0975],\n",
       "                        [ 0.0759, -0.0101, -0.0476]],\n",
       "              \n",
       "                       [[-0.0445,  0.0919,  0.0551],\n",
       "                        [-0.0542,  0.0042,  0.0216],\n",
       "                        [ 0.0279, -0.0060, -0.0552]],\n",
       "              \n",
       "                       [[-0.0032, -0.0291, -0.0354],\n",
       "                        [-0.0523, -0.0511, -0.0497],\n",
       "                        [ 0.0415, -0.0891, -0.1003]],\n",
       "              \n",
       "                       [[ 0.0902,  0.0378,  0.0583],\n",
       "                        [ 0.0460, -0.0402, -0.0662],\n",
       "                        [-0.0719, -0.0067,  0.0261]],\n",
       "              \n",
       "                       [[-0.0987, -0.0809,  0.0593],\n",
       "                        [ 0.0135,  0.0695,  0.0939],\n",
       "                        [ 0.0641, -0.0224, -0.0469]],\n",
       "              \n",
       "                       [[ 0.0298,  0.0857, -0.1011],\n",
       "                        [ 0.0283, -0.0813, -0.0838],\n",
       "                        [ 0.0381,  0.0536,  0.0361]],\n",
       "              \n",
       "                       [[ 0.0307, -0.0318,  0.0025],\n",
       "                        [-0.0931, -0.0688,  0.0022],\n",
       "                        [-0.0242, -0.0164,  0.0599]]],\n",
       "              \n",
       "              \n",
       "                      [[[ 0.0396, -0.0223, -0.0347],\n",
       "                        [-0.0763,  0.0543, -0.0741],\n",
       "                        [ 0.0327, -0.0192,  0.0821]],\n",
       "              \n",
       "                       [[-0.0673, -0.0689,  0.0122],\n",
       "                        [ 0.0031, -0.0453,  0.1053],\n",
       "                        [-0.0902,  0.0571,  0.0513]],\n",
       "              \n",
       "                       [[-0.0243,  0.0373, -0.0177],\n",
       "                        [-0.0792,  0.0698, -0.0276],\n",
       "                        [-0.0155,  0.1033,  0.1021]],\n",
       "              \n",
       "                       [[-0.0785, -0.0276,  0.0597],\n",
       "                        [ 0.0653, -0.0770, -0.0767],\n",
       "                        [ 0.0442, -0.0720,  0.0759]],\n",
       "              \n",
       "                       [[-0.0807, -0.0618,  0.0411],\n",
       "                        [ 0.0578, -0.0371, -0.0610],\n",
       "                        [ 0.0404,  0.0340,  0.0270]],\n",
       "              \n",
       "                       [[-0.0972, -0.0318, -0.0387],\n",
       "                        [ 0.0011,  0.0944, -0.0765],\n",
       "                        [-0.0014,  0.0404,  0.0593]],\n",
       "              \n",
       "                       [[-0.1044,  0.0043,  0.0831],\n",
       "                        [-0.0688,  0.0656, -0.0150],\n",
       "                        [ 0.0949, -0.0906,  0.0185]],\n",
       "              \n",
       "                       [[ 0.0765,  0.0763, -0.0527],\n",
       "                        [-0.0862,  0.0023, -0.0510],\n",
       "                        [ 0.0665, -0.0547,  0.0111]],\n",
       "              \n",
       "                       [[-0.0922, -0.0003,  0.0924],\n",
       "                        [ 0.0559,  0.0446, -0.0619],\n",
       "                        [ 0.0901, -0.0526,  0.0969]],\n",
       "              \n",
       "                       [[-0.0871, -0.0520, -0.0321],\n",
       "                        [ 0.0177,  0.0573,  0.0225],\n",
       "                        [-0.0395, -0.0840, -0.0308]]],\n",
       "              \n",
       "              \n",
       "                      [[[-0.0499, -0.0636,  0.0654],\n",
       "                        [ 0.0147, -0.0567,  0.0502],\n",
       "                        [-0.0711, -0.0620, -0.0102]],\n",
       "              \n",
       "                       [[ 0.0692,  0.0538, -0.0711],\n",
       "                        [-0.0744,  0.0354, -0.0076],\n",
       "                        [ 0.0108,  0.0030, -0.0755]],\n",
       "              \n",
       "                       [[-0.0178, -0.0337, -0.0182],\n",
       "                        [ 0.0663, -0.0989,  0.0096],\n",
       "                        [ 0.1033, -0.0943,  0.0377]],\n",
       "              \n",
       "                       [[ 0.1045,  0.0590,  0.0565],\n",
       "                        [-0.0398,  0.0433,  0.0123],\n",
       "                        [ 0.1020, -0.1016,  0.0542]],\n",
       "              \n",
       "                       [[-0.0645, -0.0950,  0.0983],\n",
       "                        [ 0.0213, -0.0581, -0.0989],\n",
       "                        [-0.0211, -0.0230, -0.0081]],\n",
       "              \n",
       "                       [[-0.0308,  0.0289,  0.0708],\n",
       "                        [-0.0849, -0.0400,  0.0897],\n",
       "                        [-0.1006,  0.0845, -0.0212]],\n",
       "              \n",
       "                       [[ 0.0289, -0.0548,  0.0500],\n",
       "                        [ 0.0129, -0.0260,  0.0996],\n",
       "                        [-0.0949,  0.0910,  0.0709]],\n",
       "              \n",
       "                       [[-0.0162, -0.0328,  0.0844],\n",
       "                        [ 0.0422, -0.0936, -0.0814],\n",
       "                        [-0.1031, -0.0444, -0.0176]],\n",
       "              \n",
       "                       [[ 0.0386,  0.0618, -0.0940],\n",
       "                        [ 0.0538,  0.0367,  0.0346],\n",
       "                        [-0.0968, -0.0705, -0.0127]],\n",
       "              \n",
       "                       [[ 0.0510, -0.0250, -0.0329],\n",
       "                        [ 0.0096,  0.0083, -0.0128],\n",
       "                        [ 0.0085, -0.0548,  0.0887]]],\n",
       "              \n",
       "              \n",
       "                      [[[ 0.0063,  0.0527, -0.0877],\n",
       "                        [-0.0322,  0.0361, -0.0686],\n",
       "                        [ 0.0051, -0.0574, -0.0329]],\n",
       "              \n",
       "                       [[ 0.0052, -0.0829,  0.0332],\n",
       "                        [ 0.0666, -0.0925, -0.0068],\n",
       "                        [-0.0235, -0.0956, -0.0223]],\n",
       "              \n",
       "                       [[ 0.0866,  0.0137, -0.0036],\n",
       "                        [ 0.0977,  0.0311,  0.0813],\n",
       "                        [-0.0833,  0.0564,  0.0812]],\n",
       "              \n",
       "                       [[ 0.0484, -0.0154,  0.0957],\n",
       "                        [-0.0518,  0.0379, -0.1045],\n",
       "                        [-0.0789, -0.0968, -0.0813]],\n",
       "              \n",
       "                       [[-0.0417, -0.0917, -0.0721],\n",
       "                        [-0.0540,  0.0485,  0.0980],\n",
       "                        [ 0.0546, -0.0456, -0.0622]],\n",
       "              \n",
       "                       [[ 0.0551, -0.0632, -0.0866],\n",
       "                        [-0.0413,  0.0981,  0.0859],\n",
       "                        [-0.0887,  0.1023, -0.0571]],\n",
       "              \n",
       "                       [[-0.0453, -0.0973,  0.0882],\n",
       "                        [ 0.0831,  0.1001,  0.0314],\n",
       "                        [-0.0414,  0.0614, -0.0276]],\n",
       "              \n",
       "                       [[-0.0995, -0.0575,  0.0601],\n",
       "                        [-0.0956, -0.1047,  0.0956],\n",
       "                        [-0.0862,  0.0233,  0.1015]],\n",
       "              \n",
       "                       [[ 0.0269, -0.0129,  0.0387],\n",
       "                        [ 0.1021, -0.0750,  0.0511],\n",
       "                        [-0.0421, -0.0671, -0.0056]],\n",
       "              \n",
       "                       [[ 0.0664, -0.0861, -0.0244],\n",
       "                        [-0.0265,  0.0599,  0.0394],\n",
       "                        [ 0.0530,  0.0814,  0.0575]]],\n",
       "              \n",
       "              \n",
       "                      [[[-0.0417,  0.0132,  0.0801],\n",
       "                        [ 0.0651, -0.0741, -0.0004],\n",
       "                        [ 0.0437,  0.0352, -0.0011]],\n",
       "              \n",
       "                       [[-0.0084,  0.0428, -0.0442],\n",
       "                        [ 0.0673, -0.0811, -0.0909],\n",
       "                        [ 0.0124,  0.0183,  0.0329]],\n",
       "              \n",
       "                       [[-0.0676,  0.0291, -0.0885],\n",
       "                        [ 0.0514,  0.0665, -0.0509],\n",
       "                        [ 0.0182,  0.0665, -0.0163]],\n",
       "              \n",
       "                       [[ 0.0408, -0.0668,  0.0266],\n",
       "                        [ 0.0317,  0.0185, -0.0692],\n",
       "                        [ 0.0032,  0.0673, -0.0803]],\n",
       "              \n",
       "                       [[ 0.0301, -0.0462, -0.0504],\n",
       "                        [-0.0688,  0.0515,  0.0759],\n",
       "                        [-0.0895,  0.0822,  0.0606]],\n",
       "              \n",
       "                       [[ 0.0225,  0.0747,  0.0227],\n",
       "                        [ 0.0177,  0.0701, -0.0080],\n",
       "                        [ 0.0730, -0.0083,  0.0910]],\n",
       "              \n",
       "                       [[ 0.0092, -0.0387, -0.0163],\n",
       "                        [-0.0931, -0.0507,  0.0161],\n",
       "                        [-0.0958, -0.0865,  0.0262]],\n",
       "              \n",
       "                       [[ 0.0312, -0.0428,  0.0994],\n",
       "                        [-0.0362, -0.0619,  0.0203],\n",
       "                        [ 0.0490, -0.0540,  0.0262]],\n",
       "              \n",
       "                       [[ 0.0284,  0.0443,  0.0171],\n",
       "                        [-0.1013, -0.0984,  0.0877],\n",
       "                        [ 0.0569,  0.0994,  0.0566]],\n",
       "              \n",
       "                       [[ 0.0291, -0.0282,  0.0389],\n",
       "                        [ 0.0453, -0.0660, -0.0014],\n",
       "                        [-0.1034,  0.0485, -0.0160]]],\n",
       "              \n",
       "              \n",
       "                      [[[-0.0773,  0.0619, -0.0268],\n",
       "                        [-0.0717, -0.0102, -0.0627],\n",
       "                        [ 0.0118,  0.0378,  0.0052]],\n",
       "              \n",
       "                       [[ 0.0033, -0.0170,  0.0755],\n",
       "                        [ 0.0861,  0.0017, -0.0881],\n",
       "                        [ 0.0496,  0.0412,  0.0492]],\n",
       "              \n",
       "                       [[-0.0390,  0.0446,  0.0797],\n",
       "                        [ 0.0698, -0.0837,  0.0122],\n",
       "                        [-0.0890, -0.0891, -0.0712]],\n",
       "              \n",
       "                       [[ 0.0428,  0.0702, -0.0776],\n",
       "                        [-0.0212,  0.0337,  0.0550],\n",
       "                        [ 0.0474,  0.0713,  0.0606]],\n",
       "              \n",
       "                       [[-0.0727,  0.0419,  0.0174],\n",
       "                        [-0.0870,  0.0682,  0.0642],\n",
       "                        [-0.0698, -0.0043,  0.0524]],\n",
       "              \n",
       "                       [[ 0.0277,  0.1010, -0.0822],\n",
       "                        [-0.0109, -0.1033,  0.1051],\n",
       "                        [-0.0568,  0.0530,  0.0641]],\n",
       "              \n",
       "                       [[-0.0302, -0.0643,  0.0869],\n",
       "                        [ 0.1044, -0.0129, -0.0125],\n",
       "                        [ 0.0909,  0.0090, -0.0602]],\n",
       "              \n",
       "                       [[ 0.0595, -0.0999,  0.0192],\n",
       "                        [-0.0760, -0.0038, -0.0364],\n",
       "                        [-0.0453, -0.0426,  0.0276]],\n",
       "              \n",
       "                       [[ 0.0286, -0.0865,  0.1017],\n",
       "                        [ 0.0674, -0.0831,  0.1001],\n",
       "                        [-0.0183, -0.0672,  0.0461]],\n",
       "              \n",
       "                       [[ 0.0220, -0.0430,  0.0359],\n",
       "                        [ 0.0371,  0.0429, -0.0661],\n",
       "                        [-0.0917, -0.0149, -0.0989]]],\n",
       "              \n",
       "              \n",
       "                      [[[ 0.0220, -0.1026, -0.0188],\n",
       "                        [ 0.0818, -0.0708, -0.0252],\n",
       "                        [ 0.0435, -0.0797, -0.0998]],\n",
       "              \n",
       "                       [[-0.0402,  0.0229,  0.0275],\n",
       "                        [-0.0616, -0.0263, -0.0243],\n",
       "                        [-0.1009,  0.0025, -0.0105]],\n",
       "              \n",
       "                       [[-0.0848, -0.0543,  0.0774],\n",
       "                        [ 0.0396, -0.0889,  0.0393],\n",
       "                        [-0.1046, -0.0617,  0.0163]],\n",
       "              \n",
       "                       [[-0.0110, -0.0686,  0.0174],\n",
       "                        [ 0.0225,  0.0788, -0.0223],\n",
       "                        [ 0.0972,  0.0660, -0.0421]],\n",
       "              \n",
       "                       [[ 0.0797, -0.0545,  0.0209],\n",
       "                        [ 0.0381,  0.0040,  0.0350],\n",
       "                        [ 0.0475, -0.0954,  0.0589]],\n",
       "              \n",
       "                       [[ 0.0374, -0.0514,  0.0831],\n",
       "                        [ 0.0238, -0.0739,  0.0963],\n",
       "                        [ 0.0445,  0.0709,  0.0174]],\n",
       "              \n",
       "                       [[ 0.0295,  0.0196,  0.0956],\n",
       "                        [ 0.0921,  0.0371,  0.0003],\n",
       "                        [-0.0723,  0.0567, -0.0547]],\n",
       "              \n",
       "                       [[ 0.0077,  0.0637, -0.0396],\n",
       "                        [-0.0087, -0.0715, -0.0317],\n",
       "                        [-0.0852, -0.0217,  0.0946]],\n",
       "              \n",
       "                       [[-0.0861, -0.0554, -0.0839],\n",
       "                        [-0.0445,  0.0659,  0.0643],\n",
       "                        [ 0.1039,  0.0396,  0.0908]],\n",
       "              \n",
       "                       [[-0.0490, -0.0475, -0.0961],\n",
       "                        [-0.1051,  0.0236, -0.0195],\n",
       "                        [-0.0780, -0.0165, -0.0948]]],\n",
       "              \n",
       "              \n",
       "                      [[[ 0.0579,  0.0685, -0.0125],\n",
       "                        [-0.0043,  0.0075,  0.0107],\n",
       "                        [ 0.0056, -0.0471, -0.0249]],\n",
       "              \n",
       "                       [[ 0.0409, -0.0139,  0.0497],\n",
       "                        [-0.0338,  0.0973,  0.0716],\n",
       "                        [-0.0680, -0.0918,  0.0493]],\n",
       "              \n",
       "                       [[-0.0886,  0.1029, -0.0945],\n",
       "                        [ 0.0615, -0.0049,  0.0254],\n",
       "                        [ 0.0881,  0.0889, -0.0254]],\n",
       "              \n",
       "                       [[-0.0473,  0.0290, -0.0081],\n",
       "                        [-0.0838, -0.1042, -0.0736],\n",
       "                        [ 0.0761,  0.0039,  0.0117]],\n",
       "              \n",
       "                       [[-0.0572, -0.0492,  0.0298],\n",
       "                        [ 0.0822, -0.0554, -0.0692],\n",
       "                        [ 0.0252, -0.0005, -0.0328]],\n",
       "              \n",
       "                       [[-0.1046,  0.0933, -0.0289],\n",
       "                        [ 0.0405, -0.0854, -0.0865],\n",
       "                        [ 0.0709, -0.0810,  0.0034]],\n",
       "              \n",
       "                       [[ 0.0177,  0.0175, -0.0828],\n",
       "                        [ 0.0598, -0.0084,  0.0363],\n",
       "                        [ 0.0792, -0.0771,  0.0119]],\n",
       "              \n",
       "                       [[ 0.0415, -0.0398,  0.0687],\n",
       "                        [ 0.0859, -0.0575, -0.0186],\n",
       "                        [ 0.0375, -0.0545, -0.1051]],\n",
       "              \n",
       "                       [[ 0.1021, -0.0133,  0.0744],\n",
       "                        [ 0.0474, -0.0092, -0.0625],\n",
       "                        [ 0.0284, -0.0545,  0.0328]],\n",
       "              \n",
       "                       [[-0.0877, -0.0149, -0.0331],\n",
       "                        [-0.0776, -0.0869, -0.0400],\n",
       "                        [-0.0348,  0.0504,  0.0514]]],\n",
       "              \n",
       "              \n",
       "                      [[[-0.0628, -0.0381,  0.0889],\n",
       "                        [-0.0873, -0.0245,  0.0383],\n",
       "                        [-0.0978, -0.0992,  0.0510]],\n",
       "              \n",
       "                       [[-0.0524,  0.0888,  0.0703],\n",
       "                        [ 0.0855, -0.0768, -0.0370],\n",
       "                        [ 0.0580, -0.0849,  0.0061]],\n",
       "              \n",
       "                       [[ 0.0746,  0.0289,  0.0518],\n",
       "                        [-0.0480,  0.0066, -0.0703],\n",
       "                        [ 0.0345, -0.0012,  0.0679]],\n",
       "              \n",
       "                       [[-0.0272, -0.0581,  0.0871],\n",
       "                        [ 0.0848,  0.0527, -0.0680],\n",
       "                        [-0.0611, -0.0229, -0.0879]],\n",
       "              \n",
       "                       [[ 0.0306,  0.0716,  0.0873],\n",
       "                        [-0.0353, -0.0761, -0.0907],\n",
       "                        [-0.0009,  0.0950, -0.0198]],\n",
       "              \n",
       "                       [[ 0.0872, -0.0185, -0.0780],\n",
       "                        [ 0.0246, -0.0378, -0.0430],\n",
       "                        [ 0.1047, -0.0670, -0.0949]],\n",
       "              \n",
       "                       [[ 0.0970, -0.0080, -0.0163],\n",
       "                        [-0.0501, -0.0473, -0.0680],\n",
       "                        [-0.0030, -0.0425,  0.1049]],\n",
       "              \n",
       "                       [[-0.0125,  0.0249, -0.0631],\n",
       "                        [ 0.0044, -0.0242,  0.0004],\n",
       "                        [-0.0571, -0.0273, -0.0014]],\n",
       "              \n",
       "                       [[ 0.0626, -0.0190,  0.0748],\n",
       "                        [ 0.0945, -0.0835, -0.0011],\n",
       "                        [-0.0348,  0.0837, -0.0557]],\n",
       "              \n",
       "                       [[ 0.0187, -0.0905, -0.0992],\n",
       "                        [ 0.0827, -0.1037,  0.0230],\n",
       "                        [ 0.0317,  0.0025, -0.0654]]]], device='cuda:0')),\n",
       "             ('conv_block_1.2.bias',\n",
       "              tensor([-0.0533, -0.0812, -0.0649, -0.0253,  0.0692, -0.0413,  0.0038, -0.0319,\n",
       "                       0.0101,  0.1000], device='cuda:0')),\n",
       "             ('conv_block_2.0.weight',\n",
       "              tensor([[[[ 3.6676e-03, -7.0577e-02, -9.0921e-02],\n",
       "                        [-4.8701e-02,  9.1866e-02, -4.7747e-02],\n",
       "                        [-1.0086e-01, -1.7912e-02,  6.2208e-03]],\n",
       "              \n",
       "                       [[ 1.0032e-01,  2.0411e-02,  1.0347e-02],\n",
       "                        [-8.6947e-02, -3.3492e-02, -1.3242e-02],\n",
       "                        [-2.5651e-03,  3.0016e-02,  4.8091e-02]],\n",
       "              \n",
       "                       [[ 3.2220e-03,  1.2928e-02,  2.1835e-02],\n",
       "                        [ 9.5235e-02, -9.6707e-03,  8.4585e-02],\n",
       "                        [-9.9130e-02,  3.9297e-02, -3.9046e-02]],\n",
       "              \n",
       "                       [[-8.5077e-02,  2.0377e-02,  4.6973e-02],\n",
       "                        [-5.2925e-02, -4.5458e-02,  4.5469e-02],\n",
       "                        [ 4.6831e-02, -7.9275e-02,  1.6395e-03]],\n",
       "              \n",
       "                       [[-1.0045e-02,  7.9641e-02,  6.9356e-02],\n",
       "                        [-5.7859e-02, -2.8497e-02, -8.8787e-03],\n",
       "                        [-1.0445e-01,  3.8763e-03,  8.1619e-02]],\n",
       "              \n",
       "                       [[ 9.7655e-02,  1.7803e-02,  3.7294e-02],\n",
       "                        [ 1.2518e-02,  3.3764e-02,  2.1343e-02],\n",
       "                        [ 6.2072e-02,  7.1384e-02,  4.2997e-02]],\n",
       "              \n",
       "                       [[-1.0273e-01, -9.5810e-02,  2.2621e-02],\n",
       "                        [-6.2366e-02, -4.1359e-02, -5.5206e-02],\n",
       "                        [-1.6420e-02,  9.2159e-02, -3.0080e-02]],\n",
       "              \n",
       "                       [[ 1.0246e-02, -6.2043e-02, -9.1801e-02],\n",
       "                        [-6.3767e-02, -8.4656e-02, -7.4833e-02],\n",
       "                        [-1.4453e-02,  4.9973e-02,  2.3217e-02]],\n",
       "              \n",
       "                       [[ 8.7448e-02,  9.1755e-02,  6.0529e-02],\n",
       "                        [ 3.3086e-02, -5.2573e-02,  7.5845e-02],\n",
       "                        [ 4.4103e-02, -9.9771e-02,  7.7376e-02]],\n",
       "              \n",
       "                       [[-8.6216e-02,  5.3451e-02,  8.7646e-02],\n",
       "                        [ 4.4795e-02, -9.2936e-02,  2.6769e-02],\n",
       "                        [ 1.9087e-02,  2.6320e-02, -4.7166e-03]]],\n",
       "              \n",
       "              \n",
       "                      [[[-9.2262e-02, -4.8109e-02, -1.9262e-02],\n",
       "                        [ 1.6621e-02,  1.0140e-01, -2.6639e-02],\n",
       "                        [-3.4271e-02,  2.5420e-02, -9.2012e-02]],\n",
       "              \n",
       "                       [[ 5.4135e-02, -5.2583e-02, -7.3199e-02],\n",
       "                        [-9.3959e-02,  8.6806e-02,  1.0068e-01],\n",
       "                        [ 4.8244e-02, -2.6134e-02,  8.8190e-02]],\n",
       "              \n",
       "                       [[-1.7130e-02, -4.1540e-02, -2.8020e-02],\n",
       "                        [ 9.6254e-02, -8.2670e-02, -1.0183e-01],\n",
       "                        [ 4.5951e-02,  8.3953e-02, -8.8715e-02]],\n",
       "              \n",
       "                       [[-6.7995e-02, -1.4179e-02,  3.4630e-02],\n",
       "                        [ 7.1372e-02, -5.2805e-02, -5.1117e-02],\n",
       "                        [ 2.1744e-02,  7.7701e-02, -4.5170e-03]],\n",
       "              \n",
       "                       [[-1.8231e-02, -2.6473e-02,  9.9341e-02],\n",
       "                        [-7.3147e-02, -8.4378e-02,  9.3824e-02],\n",
       "                        [ 1.1283e-02, -5.4507e-02, -1.0133e-01]],\n",
       "              \n",
       "                       [[-1.5721e-02,  6.2696e-03, -9.4841e-03],\n",
       "                        [ 1.2556e-02,  6.9976e-02,  1.0501e-01],\n",
       "                        [ 1.8782e-02, -4.3737e-02, -2.7334e-02]],\n",
       "              \n",
       "                       [[-8.5552e-02, -1.0435e-02,  7.3198e-02],\n",
       "                        [ 5.8121e-02, -8.0160e-02,  8.0882e-02],\n",
       "                        [-1.5493e-02, -2.5455e-02,  7.6239e-02]],\n",
       "              \n",
       "                       [[ 3.7656e-02, -5.1588e-02, -9.9187e-02],\n",
       "                        [-7.6718e-02,  8.7800e-02, -5.4333e-02],\n",
       "                        [ 5.2283e-02, -3.6845e-02,  8.0359e-02]],\n",
       "              \n",
       "                       [[ 7.5712e-02,  4.4850e-02, -3.8852e-02],\n",
       "                        [ 4.6203e-02,  6.2276e-02, -4.6279e-02],\n",
       "                        [-2.9846e-02,  6.5597e-02,  9.9764e-02]],\n",
       "              \n",
       "                       [[-5.6324e-02,  3.0030e-02,  6.5812e-02],\n",
       "                        [ 8.2380e-02,  1.8848e-02,  9.1255e-02],\n",
       "                        [-9.3041e-02, -9.9987e-02,  1.1610e-02]]],\n",
       "              \n",
       "              \n",
       "                      [[[-1.2273e-02,  5.1391e-02,  2.3058e-02],\n",
       "                        [ 7.3096e-03, -6.1335e-02, -1.2417e-02],\n",
       "                        [ 1.0450e-02,  2.1286e-02, -4.0391e-02]],\n",
       "              \n",
       "                       [[ 6.1864e-02, -3.1568e-02,  1.0509e-01],\n",
       "                        [ 9.7798e-03,  9.2794e-02,  1.0825e-02],\n",
       "                        [-8.2971e-02,  8.5599e-03,  6.6463e-02]],\n",
       "              \n",
       "                       [[ 5.4407e-02,  7.3261e-02, -1.5818e-02],\n",
       "                        [ 2.1989e-02,  8.3435e-04, -3.9481e-02],\n",
       "                        [-3.4029e-02,  1.0255e-01, -5.6180e-02]],\n",
       "              \n",
       "                       [[-1.4684e-02,  9.5395e-02, -5.8249e-02],\n",
       "                        [-9.1279e-02, -9.1871e-02,  9.6880e-02],\n",
       "                        [-4.7370e-02,  7.7541e-02, -2.4450e-02]],\n",
       "              \n",
       "                       [[ 1.7396e-02, -1.2328e-02, -9.2841e-02],\n",
       "                        [-8.8774e-02, -7.8168e-02,  3.9702e-02],\n",
       "                        [-8.5016e-02,  8.6527e-02, -7.1802e-02]],\n",
       "              \n",
       "                       [[ 3.9596e-02,  6.8089e-04,  8.2417e-02],\n",
       "                        [-6.6503e-02,  5.3614e-02,  2.7363e-02],\n",
       "                        [-5.4406e-02,  1.9130e-02,  5.3665e-02]],\n",
       "              \n",
       "                       [[ 1.8450e-02, -7.5493e-02,  9.3002e-02],\n",
       "                        [-3.5836e-03, -4.0924e-02,  9.7316e-02],\n",
       "                        [ 4.0219e-02, -4.0320e-02, -8.0519e-02]],\n",
       "              \n",
       "                       [[ 9.5713e-02,  5.3265e-02, -4.7282e-02],\n",
       "                        [ 2.6573e-02,  6.7133e-02,  1.6062e-02],\n",
       "                        [ 1.6278e-02, -8.2507e-02, -1.0089e-01]],\n",
       "              \n",
       "                       [[-5.6563e-03, -7.5337e-02, -9.5894e-02],\n",
       "                        [-2.7030e-03, -5.0219e-02,  6.1433e-02],\n",
       "                        [-8.6375e-02, -4.9382e-02, -7.5601e-02]],\n",
       "              \n",
       "                       [[ 5.2153e-03,  5.4592e-02,  6.4583e-02],\n",
       "                        [ 3.4364e-02, -1.0074e-01, -5.7980e-02],\n",
       "                        [-3.5332e-02,  5.3388e-03, -2.9332e-02]]],\n",
       "              \n",
       "              \n",
       "                      [[[ 7.7663e-02,  8.0083e-02, -3.6597e-02],\n",
       "                        [-4.7785e-02,  7.2570e-02, -6.4225e-02],\n",
       "                        [-6.2336e-03, -8.7395e-02,  8.9665e-02]],\n",
       "              \n",
       "                       [[ 3.6939e-02, -7.2212e-02,  1.3399e-03],\n",
       "                        [ 8.0988e-02,  2.3317e-02,  8.0362e-02],\n",
       "                        [-6.4954e-02,  2.1094e-02, -5.4474e-02]],\n",
       "              \n",
       "                       [[-3.0376e-02,  4.4926e-02, -7.2537e-02],\n",
       "                        [-1.8726e-02,  5.5021e-02, -6.4808e-02],\n",
       "                        [-3.8635e-02,  7.5745e-02,  9.2683e-02]],\n",
       "              \n",
       "                       [[-8.5922e-02,  8.0408e-02, -6.0173e-02],\n",
       "                        [ 4.1183e-03, -5.8748e-02, -9.2582e-02],\n",
       "                        [-4.8488e-02,  6.2601e-04, -2.4949e-03]],\n",
       "              \n",
       "                       [[ 5.4238e-03,  5.8890e-03,  1.0115e-01],\n",
       "                        [ 2.5620e-02, -1.0140e-01,  7.2803e-02],\n",
       "                        [-5.2649e-02,  9.0496e-02, -7.7465e-02]],\n",
       "              \n",
       "                       [[-9.4320e-02,  7.7219e-02,  3.0324e-02],\n",
       "                        [-1.0104e-01,  3.8939e-03,  6.1958e-02],\n",
       "                        [ 2.2918e-02,  6.3251e-02,  1.1501e-02]],\n",
       "              \n",
       "                       [[ 7.8660e-02, -6.6793e-02,  9.8793e-02],\n",
       "                        [-8.9971e-02,  8.7453e-03,  4.8903e-02],\n",
       "                        [ 1.0127e-01, -2.1841e-02, -1.5410e-02]],\n",
       "              \n",
       "                       [[-4.5071e-02,  9.1788e-03, -9.4788e-02],\n",
       "                        [ 4.3794e-02, -1.0058e-01, -5.6511e-02],\n",
       "                        [-3.5854e-02,  6.9673e-03, -8.4221e-02]],\n",
       "              \n",
       "                       [[ 5.1178e-02, -3.6313e-02, -5.1821e-02],\n",
       "                        [ 9.5430e-02,  7.2443e-02, -8.3710e-02],\n",
       "                        [-4.7530e-02, -3.1157e-02, -2.6315e-02]],\n",
       "              \n",
       "                       [[ 2.1692e-02, -1.0399e-02,  1.0246e-01],\n",
       "                        [ 1.0401e-01, -1.1954e-02,  8.2054e-03],\n",
       "                        [-3.3014e-02, -1.0971e-02,  5.5670e-02]]],\n",
       "              \n",
       "              \n",
       "                      [[[-4.8717e-02,  9.7242e-02, -3.1836e-02],\n",
       "                        [-3.6710e-02, -7.7865e-02, -3.9708e-02],\n",
       "                        [ 8.5217e-02, -9.1709e-02, -4.3128e-02]],\n",
       "              \n",
       "                       [[-6.8407e-02,  9.5407e-02,  9.4583e-02],\n",
       "                        [ 9.2043e-02, -9.3887e-03, -4.7988e-02],\n",
       "                        [ 1.2589e-02, -8.2195e-03, -9.4724e-02]],\n",
       "              \n",
       "                       [[-8.0063e-02, -8.3648e-02,  5.4558e-02],\n",
       "                        [ 1.8953e-02,  1.6782e-02, -8.0190e-03],\n",
       "                        [ 4.4865e-02,  1.0272e-01,  6.5160e-02]],\n",
       "              \n",
       "                       [[-6.8652e-02, -1.0012e-02, -8.0126e-02],\n",
       "                        [-8.7467e-02,  9.6131e-02, -1.0242e-01],\n",
       "                        [ 4.0948e-02,  2.6587e-02,  6.3868e-02]],\n",
       "              \n",
       "                       [[ 1.0806e-02, -6.2018e-02,  1.7712e-02],\n",
       "                        [-2.1258e-03, -8.7924e-02, -1.0785e-02],\n",
       "                        [-6.2142e-02,  8.1469e-04,  9.3651e-02]],\n",
       "              \n",
       "                       [[ 7.8900e-02, -2.3608e-02,  6.6222e-02],\n",
       "                        [ 5.0164e-02, -5.6587e-02, -2.8434e-02],\n",
       "                        [ 7.1176e-02,  2.1314e-02,  2.3329e-02]],\n",
       "              \n",
       "                       [[ 5.9709e-02,  6.2013e-02,  1.0524e-01],\n",
       "                        [ 3.9402e-02, -3.7765e-02, -3.8597e-02],\n",
       "                        [ 6.7506e-02, -6.6532e-02, -5.5162e-02]],\n",
       "              \n",
       "                       [[-7.4087e-02, -9.9026e-02, -4.9640e-02],\n",
       "                        [-1.0238e-01,  5.3105e-02,  9.2137e-02],\n",
       "                        [ 2.3251e-02, -9.1664e-02,  9.6544e-02]],\n",
       "              \n",
       "                       [[-1.1296e-02,  1.6885e-02, -2.6606e-02],\n",
       "                        [ 5.1127e-02, -1.6281e-03, -3.4297e-02],\n",
       "                        [ 8.2558e-03,  1.0411e-01,  4.7771e-02]],\n",
       "              \n",
       "                       [[ 4.1434e-02,  5.7655e-02,  1.1592e-02],\n",
       "                        [ 7.5308e-02, -6.9005e-02,  8.9299e-02],\n",
       "                        [-3.6372e-02,  1.2680e-02,  9.3776e-02]]],\n",
       "              \n",
       "              \n",
       "                      [[[-2.4319e-02, -4.7894e-02, -9.7581e-02],\n",
       "                        [-2.6530e-02, -8.9857e-02,  6.9013e-02],\n",
       "                        [-1.7685e-02,  1.3379e-02, -2.0073e-02]],\n",
       "              \n",
       "                       [[-8.9319e-02, -4.8511e-03, -2.7959e-02],\n",
       "                        [-6.7464e-02,  7.8759e-03, -6.6309e-02],\n",
       "                        [ 6.4043e-02, -1.5167e-02, -1.0433e-01]],\n",
       "              \n",
       "                       [[ 9.3134e-02,  7.1414e-03,  1.0119e-01],\n",
       "                        [-4.6632e-02, -1.1414e-02, -8.4087e-02],\n",
       "                        [ 5.1764e-02,  6.4484e-03,  3.5300e-02]],\n",
       "              \n",
       "                       [[-6.4156e-02,  7.0042e-02, -9.0016e-02],\n",
       "                        [ 9.4760e-02,  9.6116e-02, -6.1126e-02],\n",
       "                        [ 4.3388e-04, -4.8529e-02,  9.7436e-02]],\n",
       "              \n",
       "                       [[-7.7162e-02,  3.6788e-03, -3.7430e-02],\n",
       "                        [-9.7391e-02,  6.5618e-02, -7.7823e-02],\n",
       "                        [ 3.0350e-02, -8.7099e-02,  5.3520e-02]],\n",
       "              \n",
       "                       [[-6.2189e-02, -1.0415e-01, -3.7137e-02],\n",
       "                        [-6.2544e-02, -2.6016e-02, -3.8884e-02],\n",
       "                        [ 1.9429e-02, -1.0270e-01, -5.4253e-03]],\n",
       "              \n",
       "                       [[-2.5762e-02, -4.8839e-02, -3.3560e-02],\n",
       "                        [-8.0403e-03,  1.6586e-02,  6.4380e-02],\n",
       "                        [-2.3604e-02,  7.9017e-02,  1.9394e-02]],\n",
       "              \n",
       "                       [[ 9.4173e-02, -2.0734e-02,  7.8752e-03],\n",
       "                        [-3.6276e-02,  3.2500e-02, -5.9371e-02],\n",
       "                        [ 1.0056e-01, -2.9662e-02, -5.4393e-02]],\n",
       "              \n",
       "                       [[-1.0443e-01, -7.2073e-02, -8.4844e-03],\n",
       "                        [ 1.0303e-01,  6.6475e-02, -5.8610e-02],\n",
       "                        [ 1.0180e-01, -5.4503e-02,  2.7353e-02]],\n",
       "              \n",
       "                       [[-8.6553e-02, -6.5158e-02, -1.2369e-02],\n",
       "                        [ 5.7755e-02,  1.1978e-02, -8.5676e-02],\n",
       "                        [-8.1190e-02,  8.4762e-02,  9.1560e-02]]],\n",
       "              \n",
       "              \n",
       "                      [[[-8.3041e-02, -1.1370e-02, -4.5057e-02],\n",
       "                        [ 1.4300e-02, -8.8521e-02,  4.4016e-02],\n",
       "                        [ 2.6516e-02,  8.3386e-02,  1.0294e-01]],\n",
       "              \n",
       "                       [[ 3.9639e-02, -7.2309e-02, -1.0510e-01],\n",
       "                        [-8.3543e-02,  3.3587e-02, -5.7507e-02],\n",
       "                        [ 6.7868e-02,  2.2509e-03,  9.0050e-02]],\n",
       "              \n",
       "                       [[-7.6746e-03,  5.3250e-02,  4.3185e-02],\n",
       "                        [-4.1575e-02, -5.1722e-02, -5.3944e-03],\n",
       "                        [ 3.9939e-02, -8.3084e-02, -6.6554e-02]],\n",
       "              \n",
       "                       [[ 4.9372e-02, -5.5502e-02,  9.0598e-02],\n",
       "                        [-6.1478e-02,  1.0426e-01,  4.3471e-02],\n",
       "                        [ 1.3405e-03,  9.0044e-02,  7.4873e-02]],\n",
       "              \n",
       "                       [[-5.3849e-02,  8.1026e-02, -8.6270e-03],\n",
       "                        [-7.8368e-02,  6.1286e-02,  3.9253e-02],\n",
       "                        [-7.9274e-05, -4.5559e-02, -2.6928e-02]],\n",
       "              \n",
       "                       [[ 4.3295e-02, -7.3154e-02,  6.1572e-02],\n",
       "                        [-9.4288e-02, -4.5018e-02, -6.5073e-02],\n",
       "                        [-1.9134e-02, -6.8678e-02,  7.0841e-02]],\n",
       "              \n",
       "                       [[-1.0621e-02,  4.0531e-02,  1.0798e-02],\n",
       "                        [ 8.3102e-02,  9.1542e-02, -4.9281e-02],\n",
       "                        [-1.0114e-03,  6.8896e-02,  2.7827e-02]],\n",
       "              \n",
       "                       [[ 8.3855e-03, -1.6210e-02,  1.0335e-01],\n",
       "                        [-8.2527e-03,  1.1220e-02,  9.1089e-02],\n",
       "                        [ 1.0455e-01,  7.8707e-02,  4.4022e-02]],\n",
       "              \n",
       "                       [[ 1.0302e-01,  6.3695e-02, -1.9552e-03],\n",
       "                        [-7.3818e-02, -2.2453e-02,  1.3132e-02],\n",
       "                        [ 1.0787e-02, -9.6347e-02,  8.4198e-02]],\n",
       "              \n",
       "                       [[ 3.3869e-02,  7.9101e-04,  3.7230e-02],\n",
       "                        [ 8.3459e-02,  8.0769e-02, -3.5757e-02],\n",
       "                        [-4.2212e-02,  9.5836e-02,  6.3421e-02]]],\n",
       "              \n",
       "              \n",
       "                      [[[-6.1656e-02, -8.6252e-02,  6.1074e-03],\n",
       "                        [ 7.3984e-02,  1.0159e-01,  4.8106e-02],\n",
       "                        [-1.0500e-01, -1.8917e-02, -9.2369e-02]],\n",
       "              \n",
       "                       [[-1.2331e-05, -4.1295e-02,  2.7888e-02],\n",
       "                        [-7.0492e-02, -5.6001e-02,  1.6302e-02],\n",
       "                        [-8.3916e-02, -7.8147e-02, -7.8740e-02]],\n",
       "              \n",
       "                       [[ 6.7801e-02, -9.7834e-02,  1.0245e-01],\n",
       "                        [ 8.8033e-02, -1.9687e-02, -3.3813e-02],\n",
       "                        [ 2.3494e-02,  2.9147e-02,  7.0486e-03]],\n",
       "              \n",
       "                       [[-4.1126e-03, -2.6449e-02,  8.2478e-02],\n",
       "                        [ 5.5594e-02, -2.0438e-02, -9.1527e-02],\n",
       "                        [-8.4961e-02,  5.9582e-02, -5.9380e-04]],\n",
       "              \n",
       "                       [[-3.0117e-03, -2.0636e-03,  1.8540e-02],\n",
       "                        [-1.5967e-02, -1.2263e-02, -4.8138e-04],\n",
       "                        [ 6.7601e-02, -1.4215e-02,  6.5864e-02]],\n",
       "              \n",
       "                       [[ 2.8973e-02,  5.8180e-02, -7.2405e-02],\n",
       "                        [ 7.8340e-02,  4.7309e-02,  4.0292e-02],\n",
       "                        [-8.1362e-02,  7.7575e-02,  4.8011e-03]],\n",
       "              \n",
       "                       [[ 2.3857e-02,  9.6705e-02, -8.5682e-02],\n",
       "                        [-5.8765e-02, -8.7657e-02,  8.2685e-02],\n",
       "                        [ 3.3332e-02, -7.2483e-02,  2.8317e-02]],\n",
       "              \n",
       "                       [[ 1.0425e-01,  4.5284e-02,  6.8274e-02],\n",
       "                        [ 5.5155e-02, -8.6717e-02, -8.1929e-02],\n",
       "                        [ 8.2945e-03,  1.3812e-02,  2.4854e-02]],\n",
       "              \n",
       "                       [[-1.0114e-01, -4.0725e-02, -1.2842e-02],\n",
       "                        [ 4.2558e-02, -8.5065e-02, -1.0017e-01],\n",
       "                        [-4.6502e-02, -1.3898e-02, -5.6269e-02]],\n",
       "              \n",
       "                       [[-2.5797e-02,  3.1562e-02,  1.0985e-02],\n",
       "                        [-7.7335e-02, -2.8606e-02, -2.1933e-02],\n",
       "                        [-9.7327e-02, -6.3044e-03, -7.2701e-02]]],\n",
       "              \n",
       "              \n",
       "                      [[[-7.1590e-02, -3.0114e-02, -3.4343e-03],\n",
       "                        [ 9.2041e-02, -2.5975e-02,  7.6217e-02],\n",
       "                        [-1.5748e-03,  5.7957e-02, -5.1711e-02]],\n",
       "              \n",
       "                       [[-4.5269e-02, -8.6415e-02,  6.9962e-03],\n",
       "                        [-2.2872e-02,  1.5775e-02,  8.1212e-02],\n",
       "                        [-9.0666e-02,  1.0128e-01, -4.2592e-03]],\n",
       "              \n",
       "                       [[ 3.4313e-03,  9.3270e-03, -6.6027e-02],\n",
       "                        [-8.7261e-02, -8.8270e-02,  8.1047e-02],\n",
       "                        [-2.0574e-02,  2.5808e-02, -2.4646e-02]],\n",
       "              \n",
       "                       [[ 7.9129e-02, -7.4532e-02, -1.6241e-02],\n",
       "                        [ 8.9071e-02, -7.2111e-03, -3.3360e-02],\n",
       "                        [ 2.4165e-02, -8.4151e-02, -2.1169e-02]],\n",
       "              \n",
       "                       [[-8.9502e-02,  9.2965e-02, -5.1033e-02],\n",
       "                        [-6.7114e-02, -9.5457e-02, -1.4488e-02],\n",
       "                        [ 2.7785e-02, -7.5206e-02, -2.6602e-02]],\n",
       "              \n",
       "                       [[ 8.2261e-02, -2.6186e-02, -3.7912e-02],\n",
       "                        [-3.8010e-02, -5.5431e-02,  3.7908e-02],\n",
       "                        [-4.1333e-02, -1.0384e-01, -1.1624e-02]],\n",
       "              \n",
       "                       [[-4.8775e-02, -8.3817e-02, -9.8855e-02],\n",
       "                        [-8.5381e-02, -9.9925e-02, -4.7722e-02],\n",
       "                        [-3.6155e-02,  7.7293e-02,  9.3654e-02]],\n",
       "              \n",
       "                       [[-3.4002e-02,  8.7591e-02,  9.6387e-03],\n",
       "                        [-4.2558e-04, -6.1372e-02, -1.6727e-02],\n",
       "                        [-8.0684e-02,  7.8892e-02, -6.6095e-02]],\n",
       "              \n",
       "                       [[ 5.9795e-02,  2.6688e-02,  6.7003e-02],\n",
       "                        [-4.6556e-02,  7.9801e-02,  1.2341e-02],\n",
       "                        [ 8.1840e-02, -9.4434e-02, -3.5940e-02]],\n",
       "              \n",
       "                       [[-4.1346e-02, -6.4182e-02, -1.5360e-02],\n",
       "                        [-5.8846e-02, -5.0463e-02, -2.0855e-02],\n",
       "                        [-4.1922e-02,  5.6745e-02, -3.7802e-02]]],\n",
       "              \n",
       "              \n",
       "                      [[[-6.2330e-02, -9.7524e-02,  7.0996e-02],\n",
       "                        [ 6.4333e-02, -7.5703e-02,  5.7875e-02],\n",
       "                        [ 3.3766e-02,  8.7716e-02,  5.4483e-03]],\n",
       "              \n",
       "                       [[ 7.4210e-02,  7.9847e-02, -7.9086e-02],\n",
       "                        [ 1.6831e-02,  4.6555e-02, -6.8471e-02],\n",
       "                        [ 9.0015e-02,  1.0440e-01, -4.2405e-02]],\n",
       "              \n",
       "                       [[ 5.4799e-02, -2.6770e-02, -5.8017e-02],\n",
       "                        [-1.0337e-02,  4.5511e-02,  1.0441e-01],\n",
       "                        [ 7.1798e-02,  2.4832e-02,  6.8458e-03]],\n",
       "              \n",
       "                       [[ 6.0106e-02,  1.0163e-01, -1.2767e-02],\n",
       "                        [ 5.8752e-02, -5.2151e-02, -6.5217e-02],\n",
       "                        [ 7.2696e-02,  5.3394e-02, -1.0267e-01]],\n",
       "              \n",
       "                       [[-9.8691e-02,  7.0211e-02,  3.7954e-02],\n",
       "                        [ 3.7424e-02, -6.8711e-02,  6.2114e-02],\n",
       "                        [ 2.0446e-03, -5.8039e-02,  9.1731e-02]],\n",
       "              \n",
       "                       [[ 8.9746e-02,  8.3379e-02,  6.0018e-02],\n",
       "                        [-2.1040e-02,  8.5971e-02,  7.6127e-02],\n",
       "                        [ 1.3502e-02, -1.7998e-02, -6.1937e-02]],\n",
       "              \n",
       "                       [[-2.3773e-02, -6.8472e-02,  4.2128e-02],\n",
       "                        [-8.6313e-03,  3.3538e-02, -1.3923e-02],\n",
       "                        [ 8.1848e-02, -7.6925e-02,  6.8574e-02]],\n",
       "              \n",
       "                       [[ 3.8364e-02, -6.4137e-03,  2.3122e-02],\n",
       "                        [ 1.0036e-01,  8.4557e-02, -2.5208e-04],\n",
       "                        [ 3.1784e-02, -9.5316e-02,  7.9396e-02]],\n",
       "              \n",
       "                       [[ 2.0819e-02, -5.1027e-02, -9.0586e-02],\n",
       "                        [ 6.3318e-02, -9.7335e-02, -2.5189e-02],\n",
       "                        [ 9.2967e-03,  7.1144e-02, -5.8403e-02]],\n",
       "              \n",
       "                       [[-4.7090e-02, -1.0163e-01,  3.0728e-02],\n",
       "                        [ 2.4622e-02,  6.3016e-02, -7.1901e-02],\n",
       "                        [ 9.1395e-02,  8.1223e-03,  1.0330e-01]]]], device='cuda:0')),\n",
       "             ('conv_block_2.0.bias',\n",
       "              tensor([ 0.0438,  0.0784, -0.0253,  0.0456, -0.0562, -0.0001,  0.0019, -0.0593,\n",
       "                      -0.0665, -0.0885], device='cuda:0')),\n",
       "             ('conv_block_2.2.weight',\n",
       "              tensor([[[[ 1.7396e-02,  6.5800e-02, -9.3511e-02],\n",
       "                        [-8.5569e-02, -1.0092e-01, -4.7655e-03],\n",
       "                        [ 7.4670e-02,  8.3487e-02,  4.6314e-02]],\n",
       "              \n",
       "                       [[-8.6656e-02,  7.5582e-02,  8.1349e-02],\n",
       "                        [ 1.0092e-02, -7.5477e-02, -8.9698e-02],\n",
       "                        [ 9.4963e-02,  5.7207e-03, -8.4453e-02]],\n",
       "              \n",
       "                       [[ 4.5535e-02,  1.9484e-03, -2.4026e-02],\n",
       "                        [ 3.6303e-02,  7.8994e-03,  7.7168e-02],\n",
       "                        [-6.9315e-03, -9.2880e-02, -6.9539e-02]],\n",
       "              \n",
       "                       [[-7.2006e-03, -7.3354e-02,  1.1480e-02],\n",
       "                        [ 7.3422e-02, -2.2089e-02, -8.0738e-02],\n",
       "                        [ 9.9605e-02,  2.6914e-02,  2.7471e-02]],\n",
       "              \n",
       "                       [[-2.3760e-02, -1.0467e-01,  5.6780e-02],\n",
       "                        [-1.6511e-02, -1.6466e-02, -1.1426e-02],\n",
       "                        [-8.6026e-02, -9.6995e-02, -8.4230e-02]],\n",
       "              \n",
       "                       [[-7.5081e-02,  7.9702e-02, -7.4263e-02],\n",
       "                        [-3.8166e-02, -1.5166e-02,  1.1237e-02],\n",
       "                        [ 2.4715e-03,  4.0509e-02, -5.7314e-02]],\n",
       "              \n",
       "                       [[ 7.3910e-02,  9.6056e-02, -4.8240e-02],\n",
       "                        [-1.6160e-02, -8.7669e-02, -7.0379e-02],\n",
       "                        [-5.8852e-02, -4.8345e-02,  2.2126e-02]],\n",
       "              \n",
       "                       [[ 4.5875e-02,  2.7030e-02,  3.6139e-02],\n",
       "                        [-1.1555e-02,  4.4321e-02, -1.6871e-02],\n",
       "                        [ 6.7167e-02, -5.9620e-02, -3.9115e-03]],\n",
       "              \n",
       "                       [[ 8.0860e-02, -4.3535e-02, -6.7415e-02],\n",
       "                        [-3.8091e-02, -1.7044e-02, -9.1042e-02],\n",
       "                        [ 9.8597e-02,  3.3092e-02, -6.4994e-02]],\n",
       "              \n",
       "                       [[ 5.8479e-02,  6.0764e-02,  9.7081e-03],\n",
       "                        [-8.7750e-02, -6.8760e-02, -5.4848e-02],\n",
       "                        [-6.5974e-02,  5.6134e-02,  1.9269e-02]]],\n",
       "              \n",
       "              \n",
       "                      [[[-6.4249e-02, -1.5812e-02,  7.3367e-02],\n",
       "                        [ 6.6591e-02, -9.7109e-02, -1.0309e-01],\n",
       "                        [ 6.9232e-02, -6.6928e-02, -4.3468e-02]],\n",
       "              \n",
       "                       [[ 9.7902e-02, -8.9014e-02, -3.3872e-02],\n",
       "                        [ 8.6003e-03,  1.8841e-02, -3.0174e-02],\n",
       "                        [-3.5004e-02, -5.2432e-02, -3.9357e-02]],\n",
       "              \n",
       "                       [[-7.1712e-02,  7.9880e-03, -4.9160e-02],\n",
       "                        [-3.0618e-02, -9.2350e-02, -2.1662e-02],\n",
       "                        [ 5.9886e-02, -5.5642e-02,  3.3456e-02]],\n",
       "              \n",
       "                       [[-1.0250e-01,  1.1669e-02,  4.0170e-02],\n",
       "                        [-4.8311e-02,  4.6465e-02,  7.8856e-03],\n",
       "                        [-9.8788e-02,  9.8995e-02, -8.3289e-02]],\n",
       "              \n",
       "                       [[ 5.4987e-02, -1.0363e-02,  3.6589e-02],\n",
       "                        [-1.4598e-02,  7.1855e-03, -4.0019e-02],\n",
       "                        [-9.4808e-02,  6.8132e-02,  2.3335e-02]],\n",
       "              \n",
       "                       [[ 5.5214e-02, -7.4808e-02, -4.6472e-02],\n",
       "                        [ 9.8457e-02,  5.0824e-02, -1.0249e-01],\n",
       "                        [ 2.4444e-02, -6.5874e-02,  1.0116e-01]],\n",
       "              \n",
       "                       [[ 2.7726e-02,  5.7387e-02, -5.3660e-03],\n",
       "                        [ 2.3057e-02, -2.2923e-02,  1.0214e-01],\n",
       "                        [ 5.8980e-02,  9.6308e-02, -8.3771e-02]],\n",
       "              \n",
       "                       [[ 9.5398e-02,  2.8159e-02,  2.9438e-02],\n",
       "                        [-9.7871e-02, -9.5647e-02,  8.9668e-02],\n",
       "                        [ 3.5184e-02,  5.5782e-02,  2.2541e-02]],\n",
       "              \n",
       "                       [[ 4.3211e-02, -1.0357e-01,  3.5457e-02],\n",
       "                        [-1.9765e-02, -1.9729e-02,  5.3931e-02],\n",
       "                        [ 1.5028e-02, -6.4190e-03, -4.6184e-02]],\n",
       "              \n",
       "                       [[-4.6871e-02, -1.0220e-01,  4.8668e-02],\n",
       "                        [ 7.5953e-02, -2.4922e-02,  4.1842e-02],\n",
       "                        [ 7.8795e-02,  7.0360e-02, -5.0832e-02]]],\n",
       "              \n",
       "              \n",
       "                      [[[ 6.1652e-02,  5.5599e-02, -6.6717e-03],\n",
       "                        [ 6.0566e-03, -8.4917e-02, -3.8617e-02],\n",
       "                        [ 5.6632e-02,  6.5566e-02, -1.9168e-02]],\n",
       "              \n",
       "                       [[ 9.7532e-02, -8.3553e-02,  1.0132e-01],\n",
       "                        [-9.8307e-02,  8.7647e-02, -6.7856e-02],\n",
       "                        [-8.9825e-02, -4.5287e-02,  9.0188e-02]],\n",
       "              \n",
       "                       [[-1.9905e-02,  4.6308e-02,  7.2649e-03],\n",
       "                        [-1.0400e-01, -9.6408e-02, -3.5486e-02],\n",
       "                        [ 4.1725e-02,  8.6729e-02,  5.1831e-02]],\n",
       "              \n",
       "                       [[-5.9102e-02, -1.2157e-02,  4.0936e-02],\n",
       "                        [-2.5504e-02,  8.9896e-02, -1.0454e-01],\n",
       "                        [ 9.1577e-02,  2.4694e-02, -6.8933e-03]],\n",
       "              \n",
       "                       [[-5.1991e-02,  1.3223e-02, -9.9869e-02],\n",
       "                        [ 5.4143e-02,  1.7696e-02,  5.6011e-02],\n",
       "                        [ 5.6508e-02,  3.9743e-02,  9.0458e-02]],\n",
       "              \n",
       "                       [[ 5.3455e-02,  5.6362e-02,  4.8901e-03],\n",
       "                        [ 7.6170e-02,  5.3923e-02,  5.7328e-02],\n",
       "                        [ 2.4897e-02, -3.0261e-02,  9.2917e-02]],\n",
       "              \n",
       "                       [[-1.0305e-01,  8.8604e-02,  7.1112e-04],\n",
       "                        [-6.9925e-02,  6.8761e-02, -2.3642e-02],\n",
       "                        [-2.3244e-02, -1.2136e-02, -2.6839e-02]],\n",
       "              \n",
       "                       [[-5.1506e-02,  3.9700e-02,  1.9289e-02],\n",
       "                        [ 7.4064e-02,  6.7131e-02, -2.2570e-02],\n",
       "                        [-2.0141e-02,  3.9613e-02,  2.7766e-02]],\n",
       "              \n",
       "                       [[ 9.1500e-02, -4.1448e-02,  5.9403e-02],\n",
       "                        [-9.6441e-03, -7.5345e-02,  4.0243e-02],\n",
       "                        [-4.2611e-02,  1.0326e-01, -6.0176e-02]],\n",
       "              \n",
       "                       [[-6.7333e-02,  9.0791e-02, -7.2285e-02],\n",
       "                        [-5.4350e-02, -9.1005e-02,  8.6487e-02],\n",
       "                        [ 2.2125e-02,  9.3056e-02, -6.2447e-02]]],\n",
       "              \n",
       "              \n",
       "                      [[[-2.1930e-02,  2.3233e-02,  8.5758e-02],\n",
       "                        [-9.6548e-02,  1.0009e-01, -2.7989e-02],\n",
       "                        [-9.5071e-02,  2.2703e-02, -5.4122e-02]],\n",
       "              \n",
       "                       [[-1.9635e-03, -5.4108e-03,  5.8280e-02],\n",
       "                        [-3.8578e-02,  4.8707e-02, -9.6280e-02],\n",
       "                        [ 1.6214e-02,  2.7163e-02, -7.6307e-03]],\n",
       "              \n",
       "                       [[-1.0252e-01, -9.5018e-03, -1.9958e-02],\n",
       "                        [ 5.8562e-02, -7.6761e-02,  5.5829e-02],\n",
       "                        [-7.3920e-02,  5.3218e-02, -8.6252e-04]],\n",
       "              \n",
       "                       [[-2.9280e-02, -3.2171e-02,  6.7197e-02],\n",
       "                        [ 4.6120e-02,  9.3106e-03,  2.7240e-03],\n",
       "                        [-4.1093e-02,  4.1264e-02,  8.6372e-02]],\n",
       "              \n",
       "                       [[-7.5479e-02, -1.6498e-02, -2.0506e-02],\n",
       "                        [ 3.5604e-02,  8.9178e-02,  5.1879e-02],\n",
       "                        [ 7.6811e-02, -5.6446e-03, -5.7321e-02]],\n",
       "              \n",
       "                       [[-2.9979e-03, -4.6053e-02, -2.5456e-02],\n",
       "                        [ 7.8616e-02,  1.7287e-04, -9.7985e-02],\n",
       "                        [ 7.2004e-02, -1.3544e-02, -3.2335e-02]],\n",
       "              \n",
       "                       [[-2.7139e-02, -1.0109e-02, -2.1004e-02],\n",
       "                        [ 8.6454e-02,  8.9058e-03, -2.1973e-02],\n",
       "                        [-8.9446e-02,  9.2948e-02,  3.6469e-02]],\n",
       "              \n",
       "                       [[ 9.7868e-02,  2.0637e-02, -1.0210e-01],\n",
       "                        [-1.2384e-02, -8.2290e-02,  2.2916e-02],\n",
       "                        [-5.0409e-02, -3.8493e-02,  7.6796e-02]],\n",
       "              \n",
       "                       [[-1.3273e-02,  2.9714e-02,  7.3327e-02],\n",
       "                        [ 9.3531e-02, -7.4983e-02, -6.0651e-02],\n",
       "                        [ 3.9027e-02, -6.6134e-02, -3.5961e-02]],\n",
       "              \n",
       "                       [[-5.7998e-02, -7.8738e-02,  8.6573e-02],\n",
       "                        [ 1.0520e-01, -7.4926e-02, -4.5057e-02],\n",
       "                        [-2.0264e-02, -6.3743e-02, -9.6817e-02]]],\n",
       "              \n",
       "              \n",
       "                      [[[-1.9067e-02, -2.4676e-02, -5.7414e-02],\n",
       "                        [ 6.6807e-03, -1.0254e-02,  6.8079e-02],\n",
       "                        [-5.4834e-03, -8.6648e-03,  9.8932e-02]],\n",
       "              \n",
       "                       [[ 2.7719e-02, -2.0968e-02, -9.8027e-02],\n",
       "                        [ 3.2978e-02,  2.0864e-02,  7.3380e-02],\n",
       "                        [-1.0393e-01,  4.3616e-02,  6.9959e-02]],\n",
       "              \n",
       "                       [[-9.7290e-02,  6.9895e-02, -7.3419e-02],\n",
       "                        [ 9.2229e-02,  3.9899e-03, -5.4956e-02],\n",
       "                        [-9.8245e-02,  6.5072e-03,  7.9845e-02]],\n",
       "              \n",
       "                       [[-8.0676e-02, -6.9435e-02,  7.8178e-02],\n",
       "                        [ 2.3642e-02, -1.9493e-02,  8.1690e-03],\n",
       "                        [ 4.0326e-02,  7.5145e-02, -3.5427e-02]],\n",
       "              \n",
       "                       [[-6.5372e-02,  8.5428e-02, -1.9602e-02],\n",
       "                        [ 1.0244e-01,  7.2365e-03,  8.3678e-02],\n",
       "                        [-2.5932e-02,  3.5793e-02, -2.1425e-02]],\n",
       "              \n",
       "                       [[-4.4703e-02,  9.9347e-02, -3.3124e-02],\n",
       "                        [-7.8144e-02,  2.0011e-02,  3.9239e-02],\n",
       "                        [ 9.2417e-02,  8.1766e-02, -3.0426e-02]],\n",
       "              \n",
       "                       [[-1.0956e-03,  8.5004e-02, -2.6773e-02],\n",
       "                        [-7.3380e-02, -7.6161e-02,  9.9949e-02],\n",
       "                        [-7.6180e-02,  5.9225e-02, -8.4548e-02]],\n",
       "              \n",
       "                       [[ 5.1163e-02,  2.7876e-02,  3.4648e-02],\n",
       "                        [-9.4301e-02, -1.6142e-02,  4.8280e-03],\n",
       "                        [ 1.9599e-02,  8.7943e-02,  4.6799e-02]],\n",
       "              \n",
       "                       [[-9.6062e-03,  7.2286e-02,  8.6707e-02],\n",
       "                        [-5.5835e-02,  8.1713e-02, -4.1382e-02],\n",
       "                        [ 7.7073e-02, -7.7501e-02,  7.4330e-02]],\n",
       "              \n",
       "                       [[-5.5289e-02,  4.6490e-02,  6.8766e-02],\n",
       "                        [-6.4406e-02, -2.9643e-02,  9.7574e-02],\n",
       "                        [-5.9402e-02,  6.6462e-02,  1.2216e-02]]],\n",
       "              \n",
       "              \n",
       "                      [[[ 2.9756e-02, -1.8639e-02, -4.3284e-02],\n",
       "                        [ 4.3240e-02,  2.2335e-02,  2.6196e-02],\n",
       "                        [-9.4034e-02,  8.7339e-02, -4.0898e-02]],\n",
       "              \n",
       "                       [[ 7.5147e-02,  6.0498e-02,  5.9033e-02],\n",
       "                        [ 2.1368e-02, -1.6723e-02, -8.1386e-02],\n",
       "                        [-7.5730e-02, -1.2647e-02,  2.4737e-02]],\n",
       "              \n",
       "                       [[-9.7496e-02,  1.0164e-01, -9.2218e-02],\n",
       "                        [-4.5795e-02, -5.7712e-02,  9.2578e-02],\n",
       "                        [ 2.1078e-02,  9.5679e-02, -3.9055e-02]],\n",
       "              \n",
       "                       [[ 8.2043e-02,  6.5414e-02, -3.2973e-03],\n",
       "                        [-4.3791e-02, -8.9039e-03, -1.0275e-01],\n",
       "                        [-6.2928e-02,  6.1760e-02, -8.3814e-02]],\n",
       "              \n",
       "                       [[ 1.0661e-02,  6.7476e-02,  1.4299e-02],\n",
       "                        [ 4.2306e-02,  4.0564e-02, -1.4640e-02],\n",
       "                        [-1.3944e-02,  9.0363e-03, -3.0692e-02]],\n",
       "              \n",
       "                       [[-5.1058e-02, -2.0337e-02, -5.6378e-02],\n",
       "                        [-7.2696e-02,  3.9588e-02,  6.1446e-02],\n",
       "                        [ 1.2716e-02, -7.3050e-02, -2.2243e-02]],\n",
       "              \n",
       "                       [[-1.4308e-02, -2.4403e-02,  6.2662e-02],\n",
       "                        [ 1.0138e-01, -3.4979e-02,  5.1077e-02],\n",
       "                        [ 3.6265e-02, -1.0340e-01,  1.5864e-02]],\n",
       "              \n",
       "                       [[ 7.9407e-02,  7.8184e-02, -9.7450e-02],\n",
       "                        [-4.0589e-02, -1.3614e-02, -3.2326e-02],\n",
       "                        [ 1.9483e-02,  1.2534e-02, -2.0060e-02]],\n",
       "              \n",
       "                       [[ 7.3937e-02,  7.3708e-02,  3.2825e-02],\n",
       "                        [ 4.0923e-02, -7.6904e-02,  7.8001e-02],\n",
       "                        [-1.6440e-02, -6.7354e-02,  6.4499e-02]],\n",
       "              \n",
       "                       [[ 7.8736e-02,  1.2766e-02,  5.8821e-02],\n",
       "                        [ 5.2453e-02,  4.9684e-02, -1.1668e-02],\n",
       "                        [ 1.9616e-02, -1.0382e-02, -8.9119e-02]]],\n",
       "              \n",
       "              \n",
       "                      [[[ 8.0581e-02, -2.1547e-02,  7.4890e-02],\n",
       "                        [-8.3652e-02, -3.8742e-02,  2.2599e-02],\n",
       "                        [-7.8199e-02,  2.2973e-02,  3.5417e-02]],\n",
       "              \n",
       "                       [[-8.6688e-02, -2.8864e-02, -2.0755e-02],\n",
       "                        [-5.6548e-02,  1.8657e-02,  1.0339e-01],\n",
       "                        [-9.5452e-02, -4.0731e-02,  8.7863e-02]],\n",
       "              \n",
       "                       [[-8.0992e-02,  6.0381e-02, -9.1401e-02],\n",
       "                        [-7.0471e-02,  3.7122e-02,  8.9090e-02],\n",
       "                        [-8.0918e-03, -6.4146e-02,  8.7701e-03]],\n",
       "              \n",
       "                       [[ 5.2956e-02,  2.4167e-02,  1.0023e-01],\n",
       "                        [ 3.2552e-02, -3.5024e-02,  5.4299e-02],\n",
       "                        [ 4.7758e-02, -5.0781e-02,  3.9754e-02]],\n",
       "              \n",
       "                       [[-5.2197e-02, -7.5506e-02, -2.5570e-02],\n",
       "                        [ 1.7002e-02,  1.0496e-01, -2.3931e-02],\n",
       "                        [ 9.8045e-02,  2.2477e-02, -9.5329e-02]],\n",
       "              \n",
       "                       [[-5.1874e-02,  6.5932e-02, -1.0264e-01],\n",
       "                        [ 6.1760e-02, -4.8469e-02, -4.1391e-02],\n",
       "                        [-4.2176e-02, -5.0107e-02, -5.5785e-02]],\n",
       "              \n",
       "                       [[ 7.3291e-02, -9.8388e-02,  3.9482e-02],\n",
       "                        [ 7.0563e-02, -5.1837e-02, -4.7089e-02],\n",
       "                        [-5.8215e-02,  3.4602e-02,  3.2087e-02]],\n",
       "              \n",
       "                       [[-5.7375e-02,  2.6853e-02, -4.2530e-02],\n",
       "                        [ 9.6852e-02, -5.5080e-02,  3.1753e-02],\n",
       "                        [ 1.0255e-01,  6.7110e-02,  7.4938e-02]],\n",
       "              \n",
       "                       [[ 8.2010e-03,  4.8990e-02, -8.4936e-02],\n",
       "                        [-2.6483e-02, -9.4043e-02, -1.9922e-03],\n",
       "                        [ 7.9508e-02, -8.3126e-02,  1.5996e-05]],\n",
       "              \n",
       "                       [[ 3.0321e-02, -9.5226e-02, -2.9167e-02],\n",
       "                        [-7.5755e-02, -1.0213e-01, -7.2054e-02],\n",
       "                        [-2.3085e-02,  2.2166e-02,  9.6206e-02]]],\n",
       "              \n",
       "              \n",
       "                      [[[-1.0302e-01, -9.0633e-02, -3.1983e-02],\n",
       "                        [ 4.7315e-02,  3.3837e-02, -2.2055e-02],\n",
       "                        [-6.6025e-02, -5.7132e-02, -2.1488e-02]],\n",
       "              \n",
       "                       [[-3.5043e-02, -1.0326e-01, -9.2700e-02],\n",
       "                        [-9.6407e-02, -3.3993e-02, -5.3174e-02],\n",
       "                        [ 1.0128e-01,  4.1204e-02,  9.0947e-02]],\n",
       "              \n",
       "                       [[-2.3201e-02,  3.0092e-02, -2.1653e-02],\n",
       "                        [-5.7534e-02, -9.5386e-02, -8.7457e-02],\n",
       "                        [-5.7914e-02, -4.1839e-02, -4.8239e-02]],\n",
       "              \n",
       "                       [[-4.7815e-02,  5.2703e-02, -3.0360e-02],\n",
       "                        [-6.6057e-02,  4.0326e-03, -3.4144e-02],\n",
       "                        [-5.7716e-02, -9.8014e-02, -2.3895e-02]],\n",
       "              \n",
       "                       [[-5.1010e-02,  7.9665e-02, -3.3266e-02],\n",
       "                        [ 7.9302e-02, -6.0149e-02,  5.5895e-02],\n",
       "                        [ 6.9067e-02, -5.1540e-02, -5.4152e-02]],\n",
       "              \n",
       "                       [[-8.0930e-03, -3.7729e-03, -3.2123e-02],\n",
       "                        [ 6.5223e-02,  2.6007e-02, -7.0213e-02],\n",
       "                        [ 3.9288e-02,  6.1453e-02,  4.6648e-02]],\n",
       "              \n",
       "                       [[ 3.5574e-02, -3.1511e-02,  2.2947e-02],\n",
       "                        [ 1.0031e-01, -6.5693e-02, -5.2379e-02],\n",
       "                        [-3.8724e-02, -8.4944e-02, -1.0105e-01]],\n",
       "              \n",
       "                       [[ 6.8037e-02,  7.4202e-02,  3.4898e-02],\n",
       "                        [-4.9194e-02, -8.3441e-02, -4.1790e-02],\n",
       "                        [-8.7467e-02,  5.4027e-02, -6.8880e-02]],\n",
       "              \n",
       "                       [[-6.1003e-03, -5.0320e-02,  3.4906e-02],\n",
       "                        [-8.3881e-02, -6.1500e-02,  5.5404e-02],\n",
       "                        [-8.2106e-02, -2.4811e-02,  2.4012e-02]],\n",
       "              \n",
       "                       [[ 6.8452e-02,  5.9401e-03,  5.3772e-02],\n",
       "                        [ 5.7226e-02,  8.7281e-02,  2.4792e-02],\n",
       "                        [-9.2936e-02,  2.8416e-02, -8.1487e-02]]],\n",
       "              \n",
       "              \n",
       "                      [[[ 5.8272e-02, -7.0958e-02, -9.7463e-02],\n",
       "                        [ 9.6705e-02,  8.5956e-02, -4.5513e-02],\n",
       "                        [ 8.3669e-02,  4.0231e-03, -9.2803e-02]],\n",
       "              \n",
       "                       [[ 5.0188e-03,  5.9631e-02, -1.0526e-01],\n",
       "                        [-6.1190e-02, -9.7043e-02, -3.1110e-02],\n",
       "                        [-1.5759e-02, -1.0126e-01, -1.6954e-02]],\n",
       "              \n",
       "                       [[ 2.6601e-02, -8.7434e-03,  9.2504e-02],\n",
       "                        [ 2.9804e-02, -9.7298e-02,  5.6858e-02],\n",
       "                        [-4.3624e-02, -2.2258e-02,  1.2609e-02]],\n",
       "              \n",
       "                       [[ 4.0469e-02, -8.8836e-02, -3.0964e-02],\n",
       "                        [-7.7830e-02,  3.7014e-02, -8.8309e-02],\n",
       "                        [-5.9850e-02,  2.3950e-02,  8.5875e-02]],\n",
       "              \n",
       "                       [[-8.2127e-03, -1.0402e-01, -3.0023e-02],\n",
       "                        [-7.7435e-02,  1.5750e-02, -1.0165e-01],\n",
       "                        [ 6.1634e-02,  2.2016e-02, -1.2176e-02]],\n",
       "              \n",
       "                       [[-6.1581e-02,  8.9892e-02,  3.0198e-02],\n",
       "                        [ 4.6596e-02, -6.3989e-03, -5.7699e-02],\n",
       "                        [-1.2196e-02,  8.0917e-02,  4.4974e-02]],\n",
       "              \n",
       "                       [[ 7.5399e-02, -3.7842e-02, -9.2014e-02],\n",
       "                        [-4.4833e-02, -5.0627e-02,  1.0456e-01],\n",
       "                        [ 8.0832e-02,  3.5881e-03, -3.6121e-02]],\n",
       "              \n",
       "                       [[-4.9226e-02,  1.3937e-02, -8.1519e-02],\n",
       "                        [-5.2368e-03, -8.9294e-02,  2.8756e-02],\n",
       "                        [-7.5558e-02, -1.5961e-02, -3.4311e-02]],\n",
       "              \n",
       "                       [[-8.4885e-02,  5.7174e-02, -7.1042e-02],\n",
       "                        [-4.7563e-02, -6.7014e-02,  1.4661e-02],\n",
       "                        [-7.1474e-02,  6.0770e-02,  5.2372e-02]],\n",
       "              \n",
       "                       [[-8.8624e-02,  7.5355e-02,  1.6182e-02],\n",
       "                        [-8.8377e-02, -6.0539e-03, -3.9949e-02],\n",
       "                        [-5.3763e-02,  8.6545e-02,  7.9906e-03]]],\n",
       "              \n",
       "              \n",
       "                      [[[-2.1273e-02,  7.7678e-02,  4.4585e-02],\n",
       "                        [-1.0056e-01, -5.5325e-02,  9.5048e-03],\n",
       "                        [-7.0477e-02, -8.8194e-02,  6.5563e-02]],\n",
       "              \n",
       "                       [[-9.8015e-02, -2.4840e-02,  6.2123e-02],\n",
       "                        [ 6.2353e-02, -7.7687e-02,  1.1421e-02],\n",
       "                        [-8.5751e-02,  6.9158e-02,  2.1151e-02]],\n",
       "              \n",
       "                       [[-5.2080e-02,  5.8476e-03,  8.7420e-02],\n",
       "                        [-2.0116e-03, -3.9111e-02, -3.2863e-02],\n",
       "                        [ 6.1903e-02,  3.8071e-02, -1.3419e-02]],\n",
       "              \n",
       "                       [[ 5.3586e-02,  5.5493e-02, -7.8240e-02],\n",
       "                        [ 2.0181e-02,  7.6605e-02, -1.0268e-01],\n",
       "                        [-8.9423e-02,  8.6638e-02,  3.2209e-02]],\n",
       "              \n",
       "                       [[ 3.0582e-02, -4.5377e-02, -1.0029e-01],\n",
       "                        [ 1.0513e-01, -5.5831e-02, -9.4839e-02],\n",
       "                        [-3.3590e-03, -5.7646e-02,  3.9616e-02]],\n",
       "              \n",
       "                       [[-2.4212e-02, -4.7843e-02, -6.7824e-02],\n",
       "                        [-9.9594e-02,  1.9051e-02, -8.6638e-02],\n",
       "                        [-9.5971e-02, -6.0805e-02, -6.4036e-02]],\n",
       "              \n",
       "                       [[-7.1725e-02,  9.2440e-02, -2.0071e-02],\n",
       "                        [ 9.2984e-03,  5.6182e-02, -3.0646e-02],\n",
       "                        [-1.0387e-01, -6.7985e-03,  1.0221e-01]],\n",
       "              \n",
       "                       [[ 1.3609e-03,  4.9749e-02,  2.1083e-02],\n",
       "                        [-6.1885e-02, -4.3002e-02, -1.0301e-01],\n",
       "                        [-4.4958e-02,  3.1068e-03,  7.8892e-02]],\n",
       "              \n",
       "                       [[ 4.1673e-02,  1.9427e-02,  1.0520e-01],\n",
       "                        [ 9.2122e-02,  4.9114e-02,  4.5301e-02],\n",
       "                        [ 5.8665e-02, -9.5304e-02,  1.3228e-02]],\n",
       "              \n",
       "                       [[ 5.5613e-03,  1.8144e-02,  1.5142e-02],\n",
       "                        [ 1.0139e-01,  7.8332e-04,  6.5213e-02],\n",
       "                        [-2.4207e-02,  7.4233e-02, -2.0121e-02]]]], device='cuda:0')),\n",
       "             ('conv_block_2.2.bias',\n",
       "              tensor([ 0.0663,  0.0283,  0.0832, -0.0207,  0.0944, -0.0362,  0.0632,  0.0132,\n",
       "                      -0.0339,  0.0257], device='cuda:0')),\n",
       "             ('classifier.1.weight',\n",
       "              tensor([[-0.0178, -0.0144, -0.0295,  ..., -0.0440, -0.0413,  0.0090],\n",
       "                      [-0.0203,  0.0335, -0.0016,  ..., -0.0252, -0.0246, -0.0159],\n",
       "                      [ 0.0204, -0.0291,  0.0243,  ...,  0.0157,  0.0151, -0.0388],\n",
       "                      ...,\n",
       "                      [ 0.0051,  0.0174, -0.0230,  ..., -0.0091, -0.0253, -0.0289],\n",
       "                      [ 0.0219,  0.0200,  0.0062,  ...,  0.0355,  0.0404,  0.0144],\n",
       "                      [ 0.0332,  0.0139,  0.0172,  ...,  0.0020, -0.0055,  0.0290]],\n",
       "                     device='cuda:0')),\n",
       "             ('classifier.1.bias',\n",
       "              tensor([-0.0308, -0.0130, -0.0161, -0.0360, -0.0176, -0.0424, -0.0167, -0.0033,\n",
       "                       0.0204,  0.0312], device='cuda:0'))])"
      ]
     },
     "execution_count": 72,
     "metadata": {},
     "output_type": "execute_result"
    }
   ],
   "source": [
    "model_2.state_dict()"
   ]
  },
  {
   "cell_type": "code",
   "execution_count": 73,
   "metadata": {},
   "outputs": [
    {
     "data": {
      "application/vnd.jupyter.widget-view+json": {
       "model_id": "6668cf61fedd46fc87160833b3f54e81",
       "version_major": 2,
       "version_minor": 0
      },
      "text/plain": [
       "  0%|          | 0/3 [00:00<?, ?it/s]"
      ]
     },
     "metadata": {},
     "output_type": "display_data"
    },
    {
     "name": "stdout",
     "output_type": "stream",
     "text": [
      "Epoch: 0\n",
      "-------\n",
      "Train loss: 0.56844 | Train acc: 79.49%\n",
      "\n",
      "Test loss: 0.39979 | Test acc: 85.61%\n",
      "\n",
      "Epoch: 1\n",
      "-------\n",
      "Train loss: 0.35340 | Train acc: 87.42%\n",
      "\n",
      "Test loss: 0.34212 | Test acc: 87.39%\n",
      "\n",
      "Epoch: 2\n",
      "-------\n",
      "Train loss: 0.31724 | Train acc: 88.59%\n",
      "\n",
      "Test loss: 0.32040 | Test acc: 88.61%\n",
      "\n",
      "Train time on cuda: 29.070 seconds\n"
     ]
    }
   ],
   "source": [
    "torch.manual_seed(42)\n",
    "torch.cuda.manual_seed(42)\n",
    "# Measure time\n",
    "from timeit import default_timer as timer\n",
    "train_time_start_model_2 = timer()\n",
    "# Train and test model\n",
    "epochs = 3\n",
    "for epoch in tqdm(range(epochs)):\n",
    "    print(f\"Epoch: {epoch}\\n-------\")\n",
    "    train_step(model=model_2,\n",
    "              data_loader=train_dataloader,\n",
    "              loss_fn=loss_fn,\n",
    "              optimizer=optimizer,\n",
    "              accuracy_fn=accuracy_fn,\n",
    "              device=device)\n",
    "    test_step(model=model_2,\n",
    "             data_loader=test_dataloader,\n",
    "             loss_fn=loss_fn,\n",
    "             accuracy_fn=accuracy_fn,\n",
    "             device=device)\n",
    "train_time_end_model_2 = timer()\n",
    "total_train_time_model_2 = print_train_time(start=train_time_start_model_2,\n",
    "                                           end=train_time_end_model_2,\n",
    "                                           device=device)"
   ]
  },
  {
   "cell_type": "markdown",
   "metadata": {},
   "source": [
    "# Get model_2 results"
   ]
  },
  {
   "cell_type": "code",
   "execution_count": 77,
   "metadata": {},
   "outputs": [
    {
     "data": {
      "application/vnd.jupyter.widget-view+json": {
       "model_id": "0fe0b18b3c3a4702b91f3ec3a86b7223",
       "version_major": 2,
       "version_minor": 0
      },
      "text/plain": [
       "  0%|          | 0/313 [00:00<?, ?it/s]"
      ]
     },
     "metadata": {},
     "output_type": "display_data"
    },
    {
     "data": {
      "text/plain": [
       "{'model_name': 'FashionMNISTModelV2',\n",
       " 'model_loss': 0.32039979100227356,\n",
       " 'model_acc': 88.6082268370607}"
      ]
     },
     "execution_count": 77,
     "metadata": {},
     "output_type": "execute_result"
    }
   ],
   "source": [
    "model_2_results = eval_model(\n",
    "    model = model_2,\n",
    "    data_loader = test_dataloader,\n",
    "    loss_fn = loss_fn,\n",
    "    accuracy_fn = accuracy_fn\n",
    ")\n",
    "model_2_results"
   ]
  },
  {
   "cell_type": "code",
   "execution_count": 74,
   "metadata": {},
   "outputs": [
    {
     "data": {
      "text/plain": [
       "{'model_name': 'FashionMNISTModelV0',\n",
       " 'model_loss': 0.47663894295692444,\n",
       " 'model_acc': 83.42651757188499}"
      ]
     },
     "execution_count": 74,
     "metadata": {},
     "output_type": "execute_result"
    }
   ],
   "source": [
    "model_0_results"
   ]
  },
  {
   "cell_type": "code",
   "execution_count": 75,
   "metadata": {},
   "outputs": [
    {
     "data": {
      "text/plain": [
       "{'model_name': 'FashionMNISTModelV1',\n",
       " 'model_loss': 0.6597086191177368,\n",
       " 'model_acc': 75.93849840255591}"
      ]
     },
     "execution_count": 75,
     "metadata": {},
     "output_type": "execute_result"
    }
   ],
   "source": [
    "model_1_results"
   ]
  },
  {
   "cell_type": "markdown",
   "metadata": {},
   "source": [
    "## 8. Compare model results and training  time"
   ]
  },
  {
   "cell_type": "code",
   "execution_count": 78,
   "metadata": {},
   "outputs": [
    {
     "data": {
      "text/html": [
       "<div>\n",
       "<style scoped>\n",
       "    .dataframe tbody tr th:only-of-type {\n",
       "        vertical-align: middle;\n",
       "    }\n",
       "\n",
       "    .dataframe tbody tr th {\n",
       "        vertical-align: top;\n",
       "    }\n",
       "\n",
       "    .dataframe thead th {\n",
       "        text-align: right;\n",
       "    }\n",
       "</style>\n",
       "<table border=\"1\" class=\"dataframe\">\n",
       "  <thead>\n",
       "    <tr style=\"text-align: right;\">\n",
       "      <th></th>\n",
       "      <th>model_name</th>\n",
       "      <th>model_loss</th>\n",
       "      <th>model_acc</th>\n",
       "    </tr>\n",
       "  </thead>\n",
       "  <tbody>\n",
       "    <tr>\n",
       "      <th>0</th>\n",
       "      <td>FashionMNISTModelV0</td>\n",
       "      <td>0.476639</td>\n",
       "      <td>83.426518</td>\n",
       "    </tr>\n",
       "    <tr>\n",
       "      <th>1</th>\n",
       "      <td>FashionMNISTModelV1</td>\n",
       "      <td>0.659709</td>\n",
       "      <td>75.938498</td>\n",
       "    </tr>\n",
       "    <tr>\n",
       "      <th>2</th>\n",
       "      <td>FashionMNISTModelV2</td>\n",
       "      <td>0.320400</td>\n",
       "      <td>88.608227</td>\n",
       "    </tr>\n",
       "  </tbody>\n",
       "</table>\n",
       "</div>"
      ],
      "text/plain": [
       "            model_name  model_loss  model_acc\n",
       "0  FashionMNISTModelV0    0.476639  83.426518\n",
       "1  FashionMNISTModelV1    0.659709  75.938498\n",
       "2  FashionMNISTModelV2    0.320400  88.608227"
      ]
     },
     "execution_count": 78,
     "metadata": {},
     "output_type": "execute_result"
    }
   ],
   "source": [
    "import pandas as pd \n",
    "compare_results = pd.DataFrame([model_0_results,\n",
    "                               model_1_results,\n",
    "                               model_2_results])\n",
    "compare_results"
   ]
  },
  {
   "cell_type": "code",
   "execution_count": 79,
   "metadata": {},
   "outputs": [
    {
     "data": {
      "text/html": [
       "<div>\n",
       "<style scoped>\n",
       "    .dataframe tbody tr th:only-of-type {\n",
       "        vertical-align: middle;\n",
       "    }\n",
       "\n",
       "    .dataframe tbody tr th {\n",
       "        vertical-align: top;\n",
       "    }\n",
       "\n",
       "    .dataframe thead th {\n",
       "        text-align: right;\n",
       "    }\n",
       "</style>\n",
       "<table border=\"1\" class=\"dataframe\">\n",
       "  <thead>\n",
       "    <tr style=\"text-align: right;\">\n",
       "      <th></th>\n",
       "      <th>model_name</th>\n",
       "      <th>model_loss</th>\n",
       "      <th>model_acc</th>\n",
       "      <th>training_time</th>\n",
       "    </tr>\n",
       "  </thead>\n",
       "  <tbody>\n",
       "    <tr>\n",
       "      <th>0</th>\n",
       "      <td>FashionMNISTModelV0</td>\n",
       "      <td>0.476639</td>\n",
       "      <td>83.426518</td>\n",
       "      <td>13.016759</td>\n",
       "    </tr>\n",
       "    <tr>\n",
       "      <th>1</th>\n",
       "      <td>FashionMNISTModelV1</td>\n",
       "      <td>0.659709</td>\n",
       "      <td>75.938498</td>\n",
       "      <td>13.921400</td>\n",
       "    </tr>\n",
       "    <tr>\n",
       "      <th>2</th>\n",
       "      <td>FashionMNISTModelV2</td>\n",
       "      <td>0.320400</td>\n",
       "      <td>88.608227</td>\n",
       "      <td>29.070355</td>\n",
       "    </tr>\n",
       "  </tbody>\n",
       "</table>\n",
       "</div>"
      ],
      "text/plain": [
       "            model_name  model_loss  model_acc  training_time\n",
       "0  FashionMNISTModelV0    0.476639  83.426518      13.016759\n",
       "1  FashionMNISTModelV1    0.659709  75.938498      13.921400\n",
       "2  FashionMNISTModelV2    0.320400  88.608227      29.070355"
      ]
     },
     "execution_count": 79,
     "metadata": {},
     "output_type": "execute_result"
    }
   ],
   "source": [
    "# Add training time to results comparision\n",
    "compare_results[\"training_time\"] = [total_train_time_model_0,\n",
    "                                   total_train_time_model_1,\n",
    "                                   total_train_time_model_2]\n",
    "compare_results"
   ]
  },
  {
   "cell_type": "code",
   "execution_count": 80,
   "metadata": {},
   "outputs": [
    {
     "data": {
      "text/plain": [
       "Text(0, 0.5, 'model')"
      ]
     },
     "execution_count": 80,
     "metadata": {},
     "output_type": "execute_result"
    },
    {
     "data": {
      "image/png": "[encoded data removed]",
      "text/plain": [
       "<Figure size 640x480 with 1 Axes>"
      ]
     },
     "metadata": {},
     "output_type": "display_data"
    }
   ],
   "source": [
    "# Visualize our model results\n",
    "compare_results.set_index(\"model_name\")[\"model_acc\"].plot(kind=\"barh\")\n",
    "plt.xlabel(\"accuracy(%)\")\n",
    "plt.ylabel(\"model\")"
   ]
  },
  {
   "cell_type": "markdown",
   "metadata": {},
   "source": [
    "## 9. Make and evaluate random prediction with best model"
   ]
  },
  {
   "cell_type": "code",
   "execution_count": 81,
   "metadata": {},
   "outputs": [],
   "source": [
    "def make_predictions(model:torch.nn.Module,\n",
    "                   data: list,\n",
    "                   device: torch.device = device):\n",
    "    pred_probs = []\n",
    "    model.to(device)\n",
    "    model.eval()\n",
    "    with torch.inference_mode():\n",
    "        for sample in data:\n",
    "            # Prepare the sample (add a batch dimension and pass to target device)\n",
    "            sample = torch.unsqueeze(sample, dim=0).to(device)\n",
    "            # Forward pass (model outputs raw logist)\n",
    "            pred_logit = model(sample)\n",
    "            # Get prediction probability (logit -> pred probability)\n",
    "            pred_prob = torch.softmax(pred_logit.squeeze(), dim=0)\n",
    "            # Get pred _prob off the GPU for the futher calculations\n",
    "            pred_probs.append(pred_prob.cpu())\n",
    "    # Stack the pred_prob to turn list into a tensor \n",
    "    return torch.stack(pred_probs)"
   ]
  },
  {
   "cell_type": "code",
   "execution_count": 86,
   "metadata": {},
   "outputs": [
    {
     "data": {
      "text/plain": [
       "torch.Size([1, 28, 28])"
      ]
     },
     "execution_count": 86,
     "metadata": {},
     "output_type": "execute_result"
    }
   ],
   "source": [
    "import random \n",
    "# random.seed(42)\n",
    "test_samples = []\n",
    "test_labels = [] \n",
    "for sample, label in random.sample(list(test_data), k=9):\n",
    "    test_samples.append(sample)\n",
    "    test_labels.append(label)\n",
    "# View first sample shape \n",
    "test_samples[0].shape"
   ]
  },
  {
   "cell_type": "code",
   "execution_count": 87,
   "metadata": {},
   "outputs": [
    {
     "data": {
      "text/plain": [
       "Text(0.5, 1.0, 'Trouser')"
      ]
     },
     "execution_count": 87,
     "metadata": {},
     "output_type": "execute_result"
    },
    {
     "data": {
      "image/png": "[encoded data removed]",
      "text/plain": [
       "<Figure size 640x480 with 1 Axes>"
      ]
     },
     "metadata": {},
     "output_type": "display_data"
    }
   ],
   "source": [
    "plt.imshow(test_samples[0].squeeze(),cmap=\"gray\")\n",
    "plt.title(class_names[test_labels[0]])"
   ]
  },
  {
   "cell_type": "code",
   "execution_count": 88,
   "metadata": {},
   "outputs": [
    {
     "data": {
      "text/plain": [
       "tensor([[6.5240e-05, 9.9978e-01, 9.4694e-07, 8.5320e-05, 5.4260e-05, 2.4537e-06,\n",
       "         4.5967e-06, 1.1398e-07, 4.1247e-06, 1.7496e-07],\n",
       "        [2.9954e-03, 2.1773e-02, 7.4153e-05, 9.7247e-01, 1.5601e-03, 1.8893e-05,\n",
       "         5.1355e-04, 1.0389e-04, 2.9367e-04, 1.9738e-04]])"
      ]
     },
     "execution_count": 88,
     "metadata": {},
     "output_type": "execute_result"
    }
   ],
   "source": [
    "# Make predictions \n",
    "pred_probs = make_predictions(model=model_2,\n",
    "                             data=test_samples)\n",
    "# View first 2 prediction probabilities\n",
    "pred_probs[:2]"
   ]
  },
  {
   "cell_type": "code",
   "execution_count": 89,
   "metadata": {},
   "outputs": [
    {
     "data": {
      "text/plain": [
       "tensor([1, 3, 2, 8, 3, 4, 9, 9, 1])"
      ]
     },
     "execution_count": 89,
     "metadata": {},
     "output_type": "execute_result"
    }
   ],
   "source": [
    "# Convert  prediction probabilities to labels\n",
    "pred_classes = pred_probs.argmax(dim=1)\n",
    "pred_classes"
   ]
  },
  {
   "cell_type": "code",
   "execution_count": 90,
   "metadata": {},
   "outputs": [
    {
     "data": {
      "text/plain": [
       "[1, 3, 2, 8, 3, 4, 9, 9, 1]"
      ]
     },
     "execution_count": 90,
     "metadata": {},
     "output_type": "execute_result"
    }
   ],
   "source": [
    "test_labels"
   ]
  },
  {
   "cell_type": "code",
   "execution_count": 92,
   "metadata": {},
   "outputs": [
    {
     "data": {
      "image/png": "[encoded data removed]",
      "text/plain": [
       "<Figure size 900x900 with 9 Axes>"
      ]
     },
     "metadata": {},
     "output_type": "display_data"
    }
   ],
   "source": [
    "# Plot predictions \n",
    "plt.figure(figsize=(9,9))\n",
    "nrows=3\n",
    "ncols=3\n",
    "for i, samples in enumerate(test_samples):\n",
    "    # Create a subplot\n",
    "    plt.subplot(nrows, ncols, i+1)\n",
    "    # Plot the target image\n",
    "    plt.imshow(samples.squeeze(), cmap=\"gray\")\n",
    "    # Find prediction (in text form e.g:\"Sandal\")\n",
    "    pred_label = class_names[pred_classes[i]]\n",
    "    # Get the turth label (in text form)\n",
    "    truth_label = class_names[test_labels[i]]\n",
    "    # Create a title for the plot \n",
    "    title_text = f\"Pred:{pred_label} | Truth: {truth_label}\"\n",
    "    # Check for equality between pred and truth and change color of title text\n",
    "    if pred_label == truth_label:\n",
    "        plt.title(title_text, fontsize=10, c=\"g\")\n",
    "    else: \n",
    "        plt.title(title_text, fontsize=10, c='r')\n",
    "    plt.axis(False)"
   ]
  },
  {
   "cell_type": "markdown",
   "metadata": {},
   "source": [
    "# 10. Making a confusion matrix for futher prediction evaluation\n",
    "\n",
    "1. Make prediction with out trained model of the test dataset\n",
    "2. Make a confusion matric for `torchmetrics.ConfusionMatrix()`\n",
    "3. Plot the  confusion matric using `mlxtend.plotting.plot_confusion_matrix()`"
   ]
  },
  {
   "cell_type": "code",
   "execution_count": 93,
   "metadata": {},
   "outputs": [
    {
     "data": {
      "application/vnd.jupyter.widget-view+json": {
       "model_id": "c5c65b1b167f49129703fd28e7d886b7",
       "version_major": 2,
       "version_minor": 0
      },
      "text/plain": [
       "Making preictions.....:   0%|          | 0/313 [00:00<?, ?it/s]"
      ]
     },
     "metadata": {},
     "output_type": "display_data"
    },
    {
     "data": {
      "text/plain": [
       "tensor([9, 2, 1, 1, 6, 1, 4, 6, 5, 7])"
      ]
     },
     "execution_count": 93,
     "metadata": {},
     "output_type": "execute_result"
    }
   ],
   "source": [
    "from tqdm.auto import tqdm\n",
    "# 1. Make predictions with trained model\n",
    "y_preds = []\n",
    "model_2.eval()\n",
    "with torch.inference_mode():\n",
    "    for X,y in tqdm(test_dataloader, desc=\"Making preictions.....\"):\n",
    "        # Send the data and targets to target device\n",
    "        X, y = X.to(device), y.to(device)\n",
    "        # Do the forward pass\n",
    "        y_logits = model_2(X)\n",
    "        # Turn predictions from logits -> prediction probabilities -> prediction labels\n",
    "        y_pred = torch.softmax(y_logits.squeeze(), dim=0).argmax(dim=1)\n",
    "        # Predictions on cpu \n",
    "        y_preds.append(y_pred.cpu())\n",
    "# Concatenate list  of predictions into a tensor \n",
    "\n",
    "y_pred_tensor = torch.cat(y_preds)\n",
    "y_pred_tensor[:10]"
   ]
  },
  {
   "cell_type": "code",
   "execution_count": 94,
   "metadata": {},
   "outputs": [
    {
     "data": {
      "text/plain": [
       "10000"
      ]
     },
     "execution_count": 94,
     "metadata": {},
     "output_type": "execute_result"
    }
   ],
   "source": [
    "len(y_pred_tensor)"
   ]
  },
  {
   "cell_type": "code",
   "execution_count": 97,
   "metadata": {},
   "outputs": [
    {
     "data": {
      "text/plain": [
       "('1.3.2', '0.23.1')"
      ]
     },
     "execution_count": 97,
     "metadata": {},
     "output_type": "execute_result"
    }
   ],
   "source": [
    "import torchmetrics, mlxtend\n",
    "torchmetrics.__version__, mlxtend.__version__"
   ]
  },
  {
   "cell_type": "code",
   "execution_count": 98,
   "metadata": {},
   "outputs": [
    {
     "data": {
      "image/png": "[encoded data removed]",
      "text/plain": [
       "<Figure size 1000x700 with 1 Axes>"
      ]
     },
     "metadata": {},
     "output_type": "display_data"
    }
   ],
   "source": [
    "from torchmetrics import ConfusionMatrix \n",
    "from mlxtend.plotting import plot_confusion_matrix\n",
    "# 2. Setup confusion instance and compare predictions to targets\n",
    "confmat = ConfusionMatrix(num_classes=len(class_names),task=\"multiclass\")\n",
    "confmat_tensor = confmat(preds=y_pred_tensor,\n",
    "                        target=test_data.targets) \n",
    "# 3. Plot the confusion matric\n",
    "fig, ax = plot_confusion_matrix(\n",
    "    conf_mat=confmat_tensor.numpy(),\n",
    "    class_names = class_names,\n",
    "    figsize=(10,7)\n",
    ")"
   ]
  },
  {
   "cell_type": "markdown",
   "metadata": {},
   "source": [
    "## 11. Save and load best performing model"
   ]
  },
  {
   "cell_type": "code",
   "execution_count": 99,
   "metadata": {},
   "outputs": [
    {
     "name": "stdout",
     "output_type": "stream",
     "text": [
      "Saving model to : models\\03_pytorch_computer_vision_model_2.pth\n"
     ]
    }
   ],
   "source": [
    "from pathlib import Path \n",
    "# Create model dictory path\n",
    "MODEL_PATH = Path(\"models\")\n",
    "MODEL_PATH.mkdir(parents=True,\n",
    "                exist_ok=True)\n",
    "# Create model save \n",
    "MODEL_NAME = \"03_pytorch_computer_vision_model_2.pth\"\n",
    "MODEL_SAVE_PATH = MODEL_PATH/MODEL_NAME\n",
    "# Save the model state dict \n",
    "print(f\"Saving model to : {MODEL_SAVE_PATH}\")\n",
    "torch.save(obj=model_2.state_dict(),\n",
    "          f=MODEL_SAVE_PATH)"
   ]
  },
  {
   "cell_type": "code",
   "execution_count": 100,
   "metadata": {},
   "outputs": [
    {
     "data": {
      "text/plain": [
       "FashionMNISTModelV2(\n",
       "  (conv_block_1): Sequential(\n",
       "    (0): Conv2d(1, 10, kernel_size=(3, 3), stride=(1, 1), padding=(1, 1))\n",
       "    (1): ReLU()\n",
       "    (2): Conv2d(10, 10, kernel_size=(3, 3), stride=(1, 1), padding=(1, 1))\n",
       "    (3): ReLU()\n",
       "    (4): MaxPool2d(kernel_size=2, stride=2, padding=0, dilation=1, ceil_mode=False)\n",
       "  )\n",
       "  (conv_block_2): Sequential(\n",
       "    (0): Conv2d(10, 10, kernel_size=(3, 3), stride=(1, 1), padding=(1, 1))\n",
       "    (1): ReLU()\n",
       "    (2): Conv2d(10, 10, kernel_size=(3, 3), stride=(1, 1), padding=(1, 1))\n",
       "    (3): ReLU()\n",
       "    (4): MaxPool2d(kernel_size=2, stride=2, padding=0, dilation=1, ceil_mode=False)\n",
       "  )\n",
       "  (classifier): Sequential(\n",
       "    (0): Flatten(start_dim=1, end_dim=-1)\n",
       "    (1): Linear(in_features=490, out_features=10, bias=True)\n",
       "  )\n",
       ")"
      ]
     },
     "execution_count": 100,
     "metadata": {},
     "output_type": "execute_result"
    }
   ],
   "source": [
    "# Create a new instance\n",
    "torch.manual_seed(42)\n",
    "\n",
    "loaded_model_2 = FashionMNISTModelV2(input_shape=1,\n",
    "                                    hidden_units=10,\n",
    "                                    output_shape=len(class_names)) \n",
    "# Load in the save state_dict()\n",
    "loaded_model_2.load_state_dict(torch.load(f=MODEL_SAVE_PATH))\n",
    "# Send model to the target device\n",
    "loaded_model_2.to(device)"
   ]
  },
  {
   "cell_type": "code",
   "execution_count": 101,
   "metadata": {},
   "outputs": [
    {
     "data": {
      "text/plain": [
       "{'model_name': 'FashionMNISTModelV2',\n",
       " 'model_loss': 0.32039979100227356,\n",
       " 'model_acc': 88.6082268370607}"
      ]
     },
     "execution_count": 101,
     "metadata": {},
     "output_type": "execute_result"
    }
   ],
   "source": [
    "model_2_results"
   ]
  },
  {
   "cell_type": "code",
   "execution_count": 102,
   "metadata": {},
   "outputs": [
    {
     "data": {
      "application/vnd.jupyter.widget-view+json": {
       "model_id": "51e68e17dabb4ac2bcdfd19600099bc1",
       "version_major": 2,
       "version_minor": 0
      },
      "text/plain": [
       "  0%|          | 0/313 [00:00<?, ?it/s]"
      ]
     },
     "metadata": {},
     "output_type": "display_data"
    },
    {
     "data": {
      "text/plain": [
       "{'model_name': 'FashionMNISTModelV2',\n",
       " 'model_loss': 0.32039979100227356,\n",
       " 'model_acc': 88.6082268370607}"
      ]
     },
     "execution_count": 102,
     "metadata": {},
     "output_type": "execute_result"
    }
   ],
   "source": [
    "# Evaluate loaded model\n",
    "torch.manual_seed(42)\n",
    "loaded_model_2_results = eval_model(\n",
    "    model=loaded_model_2,\n",
    "    data_loader=test_dataloader,\n",
    "    loss_fn=loss_fn,\n",
    "    accuracy_fn=accuracy_fn\n",
    ")\n",
    "loaded_model_2_results"
   ]
  },
  {
   "cell_type": "code",
   "execution_count": 103,
   "metadata": {},
   "outputs": [
    {
     "data": {
      "text/plain": [
       "tensor(True)"
      ]
     },
     "execution_count": 103,
     "metadata": {},
     "output_type": "execute_result"
    }
   ],
   "source": [
    "# Check if model results are close to each other\n",
    "torch.isclose(torch.tensor(model_2_results[\"model_loss\"]),\n",
    "              torch.tensor(loaded_model_2_results[\"model_loss\"]))"
   ]
  },
  {
   "cell_type": "code",
   "execution_count": 104,
   "metadata": {},
   "outputs": [
    {
     "name": "stderr",
     "output_type": "stream",
     "text": [
      "3.0%"
     ]
    },
    {
     "name": "stdout",
     "output_type": "stream",
     "text": [
      "Downloading http://yann.lecun.com/exdb/mnist/train-images-idx3-ubyte.gz\n",
      "Downloading http://yann.lecun.com/exdb/mnist/train-images-idx3-ubyte.gz to data\\MNIST\\raw\\train-images-idx3-ubyte.gz\n"
     ]
    },
    {
     "name": "stderr",
     "output_type": "stream",
     "text": [
      "100.0%\n"
     ]
    },
    {
     "name": "stdout",
     "output_type": "stream",
     "text": [
      "Extracting data\\MNIST\\raw\\train-images-idx3-ubyte.gz to data\\MNIST\\raw\n",
      "\n",
      "Downloading http://yann.lecun.com/exdb/mnist/train-labels-idx1-ubyte.gz\n",
      "Downloading http://yann.lecun.com/exdb/mnist/train-labels-idx1-ubyte.gz to data\\MNIST\\raw\\train-labels-idx1-ubyte.gz\n"
     ]
    },
    {
     "name": "stderr",
     "output_type": "stream",
     "text": [
      "100.0%\n",
      "100.0%\n",
      "100.0%"
     ]
    },
    {
     "name": "stdout",
     "output_type": "stream",
     "text": [
      "Extracting data\\MNIST\\raw\\train-labels-idx1-ubyte.gz to data\\MNIST\\raw\n",
      "\n",
      "Downloading http://yann.lecun.com/exdb/mnist/t10k-images-idx3-ubyte.gz\n",
      "Downloading http://yann.lecun.com/exdb/mnist/t10k-images-idx3-ubyte.gz to data\\MNIST\\raw\\t10k-images-idx3-ubyte.gz\n",
      "Extracting data\\MNIST\\raw\\t10k-images-idx3-ubyte.gz to data\\MNIST\\raw\n",
      "\n",
      "Downloading http://yann.lecun.com/exdb/mnist/t10k-labels-idx1-ubyte.gz\n",
      "Downloading http://yann.lecun.com/exdb/mnist/t10k-labels-idx1-ubyte.gz to data\\MNIST\\raw\\t10k-labels-idx1-ubyte.gz\n",
      "Extracting data\\MNIST\\raw\\t10k-labels-idx1-ubyte.gz to data\\MNIST\\raw\n",
      "\n"
     ]
    },
    {
     "name": "stderr",
     "output_type": "stream",
     "text": [
      "\n"
     ]
    }
   ],
   "source": [
    "train_data = datasets.MNIST(\n",
    "    root='data',\n",
    "    train=True,\n",
    "    transform=ToTensor(),\n",
    "    download=True\n",
    ")\n",
    "test_data = datasets.MNIST(\n",
    "    root='data',\n",
    "    train=False,\n",
    "    transform=ToTensor(),\n",
    "    download=True\n",
    ")"
   ]
  },
  {
   "cell_type": "code",
   "execution_count": 105,
   "metadata": {},
   "outputs": [
    {
     "data": {
      "text/plain": [
       "Dataset MNIST\n",
       "    Number of datapoints: 60000\n",
       "    Root location: data\n",
       "    Split: Train\n",
       "    StandardTransform\n",
       "Transform: ToTensor()"
      ]
     },
     "execution_count": 105,
     "metadata": {},
     "output_type": "execute_result"
    }
   ],
   "source": [
    "train_data"
   ]
  },
  {
   "cell_type": "code",
   "execution_count": 106,
   "metadata": {},
   "outputs": [
    {
     "data": {
      "text/plain": [
       "Dataset MNIST\n",
       "    Number of datapoints: 10000\n",
       "    Root location: data\n",
       "    Split: Test\n",
       "    StandardTransform\n",
       "Transform: ToTensor()"
      ]
     },
     "execution_count": 106,
     "metadata": {},
     "output_type": "execute_result"
    }
   ],
   "source": [
    "test_data"
   ]
  },
  {
   "cell_type": "code",
   "execution_count": 107,
   "metadata": {},
   "outputs": [
    {
     "data": {
      "text/plain": [
       "torch.Size([60000, 28, 28])"
      ]
     },
     "execution_count": 107,
     "metadata": {},
     "output_type": "execute_result"
    }
   ],
   "source": [
    "train_data.data.shape"
   ]
  },
  {
   "cell_type": "code",
   "execution_count": 109,
   "metadata": {},
   "outputs": [
    {
     "data": {
      "text/plain": [
       "torch.Size([60000])"
      ]
     },
     "execution_count": 109,
     "metadata": {},
     "output_type": "execute_result"
    }
   ],
   "source": [
    "train_data.targets.shape"
   ]
  },
  {
   "cell_type": "code",
   "execution_count": 110,
   "metadata": {},
   "outputs": [
    {
     "data": {
      "text/plain": [
       "tensor([5, 0, 4,  ..., 5, 6, 8])"
      ]
     },
     "execution_count": 110,
     "metadata": {},
     "output_type": "execute_result"
    }
   ],
   "source": [
    "train_data.targets"
   ]
  },
  {
   "cell_type": "code",
   "execution_count": 111,
   "metadata": {},
   "outputs": [
    {
     "data": {
      "text/plain": [
       "{'train': <torch.utils.data.dataloader.DataLoader at 0x22117adeb70>,\n",
       " 'test': <torch.utils.data.dataloader.DataLoader at 0x22117d4a4b0>}"
      ]
     },
     "execution_count": 111,
     "metadata": {},
     "output_type": "execute_result"
    }
   ],
   "source": [
    "from torch.utils.data import DataLoader\n",
    "loaders = {\n",
    "    'train': DataLoader(train_data,\n",
    "                        batch_size=100,\n",
    "                        shuffle=True,\n",
    "                        num_workers=1),\n",
    "    'test': DataLoader(test_data,\n",
    "                       batch_size=100,\n",
    "                       shuffle=True,\n",
    "                       num_workers=1)\n",
    "}\n",
    "loaders"
   ]
  },
  {
   "cell_type": "code",
   "execution_count": 112,
   "metadata": {},
   "outputs": [],
   "source": [
    "from torch import nn\n",
    "import torch.nn.functional as F \n",
    "import torch.optim as optim"
   ]
  },
  {
   "cell_type": "code",
   "execution_count": 119,
   "metadata": {},
   "outputs": [],
   "source": [
    "class CNN(nn.Module):\n",
    "    def __init__(self):\n",
    "        super().__init__()\n",
    "        self.conv1 = nn.Conv2d(in_channels=1,\n",
    "                               out_channels=10,\n",
    "                               kernel_size=5)\n",
    "        self.conv2 = nn.Conv2d(10,20,kernel_size=5)\n",
    "        self.conv2_drop = nn.Dropout2d()\n",
    "        self.fc1 = nn.Linear(in_features=320,\n",
    "                             out_features=50)\n",
    "        self.fc2 = nn.Linear(50,10)\n",
    "    def forward(self,x):\n",
    "        x=F.relu(F.max_pool2d(self.conv1(x),2))\n",
    "        x=F.relu(F.max_pool2d(self.conv2_drop(self.conv2(x)),2))\n",
    "        x=x.view(-1,320)\n",
    "        x=F.relu(self.fc1(x))\n",
    "        x=F.dropout(x,training=self.training)\n",
    "        x=self.fc2(x)\n",
    "        return F.softmax(x, dim=1)"
   ]
  },
  {
   "cell_type": "code",
   "execution_count": 120,
   "metadata": {},
   "outputs": [],
   "source": [
    "device = \"cuda\" if torch.cuda.is_available() else \"cpu\"\n",
    "model = CNN().to(device)\n",
    "optimizer = optim.Adam(model.parameters(),lr=0.001)\n",
    "loss_fn = nn.CrossEntropyLoss()"
   ]
  },
  {
   "cell_type": "code",
   "execution_count": 121,
   "metadata": {},
   "outputs": [],
   "source": [
    "def train(epoch):\n",
    "    model.train()\n",
    "    for batch_idx, (data,target) in enumerate(loaders[\"train\"]):\n",
    "        data,target=data.to(device), target.to(device)\n",
    "        optimizer.zero_grad()\n",
    "        output=model(data)\n",
    "        loss=loss_fn(output,target)\n",
    "        loss.backward()\n",
    "        optimizer.step()\n",
    "        if batch_idx%20==0:\n",
    "            print(f\"Epoch: {epoch}[{batch_idx*len(data)}/{len(loaders['train'].dataset)}({100.*batch_idx/len(loaders['train'].dataset):.0f}%)]\\t{loss.item():.6f}\")\n",
    "def test(epoch):\n",
    "    model.eval()\n",
    "    test_loss=0\n",
    "    correct=0\n",
    "    with torch.inference_mode():\n",
    "        for data, target in loaders[\"test\"]:\n",
    "            data,target=data.to(device), target.to(device)\n",
    "            output=model(data)\n",
    "            test_loss += loss_fn(output,target).item()\n",
    "            pred=output.argmax(dim=1,keepdim=True)\n",
    "            correct+=pred.eq(target.view_as(pred)).sum().item()\n",
    "    test_loss/=len(loaders[\"test\"].dataset)\n",
    "    print(f\"\\nTest set: Average loss:{test_loss:.4f}, Accuracy:{correct}/{len(loaders['test'].dataset)}({100.*correct/len(loaders['test'].dataset):.0f}%)\")\n",
    "            "
   ]
  },
  {
   "cell_type": "code",
   "execution_count": 122,
   "metadata": {},
   "outputs": [
    {
     "name": "stdout",
     "output_type": "stream",
     "text": [
      "Epoch: 1[0/60000(0%)]\t2.302451\n",
      "Epoch: 1[2000/60000(0%)]\t2.277496\n",
      "Epoch: 1[4000/60000(0%)]\t2.118422\n",
      "Epoch: 1[6000/60000(0%)]\t2.029901\n",
      "Epoch: 1[8000/60000(0%)]\t1.938369\n",
      "Epoch: 1[10000/60000(0%)]\t1.849252\n",
      "Epoch: 1[12000/60000(0%)]\t1.781682\n",
      "Epoch: 1[14000/60000(0%)]\t1.844573\n",
      "Epoch: 1[16000/60000(0%)]\t1.794070\n",
      "Epoch: 1[18000/60000(0%)]\t1.780917\n",
      "Epoch: 1[20000/60000(0%)]\t1.725738\n",
      "Epoch: 1[22000/60000(0%)]\t1.664475\n",
      "Epoch: 1[24000/60000(0%)]\t1.722915\n",
      "Epoch: 1[26000/60000(0%)]\t1.719745\n",
      "Epoch: 1[28000/60000(0%)]\t1.684502\n",
      "Epoch: 1[30000/60000(0%)]\t1.760965\n",
      "Epoch: 1[32000/60000(1%)]\t1.681257\n",
      "Epoch: 1[34000/60000(1%)]\t1.651320\n",
      "Epoch: 1[36000/60000(1%)]\t1.700146\n",
      "Epoch: 1[38000/60000(1%)]\t1.680980\n",
      "Epoch: 1[40000/60000(1%)]\t1.671350\n",
      "Epoch: 1[42000/60000(1%)]\t1.662535\n",
      "Epoch: 1[44000/60000(1%)]\t1.705662\n",
      "Epoch: 1[46000/60000(1%)]\t1.686348\n",
      "Epoch: 1[48000/60000(1%)]\t1.661647\n",
      "Epoch: 1[50000/60000(1%)]\t1.609253\n",
      "Epoch: 1[52000/60000(1%)]\t1.647561\n",
      "Epoch: 1[54000/60000(1%)]\t1.628210\n",
      "Epoch: 1[56000/60000(1%)]\t1.646091\n",
      "Epoch: 1[58000/60000(1%)]\t1.593501\n",
      "\n",
      "Test set: Average loss:0.0154, Accuracy:9232/10000(92%)\n",
      "Epoch: 2[0/60000(0%)]\t1.673019\n",
      "Epoch: 2[2000/60000(0%)]\t1.613292\n",
      "Epoch: 2[4000/60000(0%)]\t1.605498\n",
      "Epoch: 2[6000/60000(0%)]\t1.648178\n",
      "Epoch: 2[8000/60000(0%)]\t1.666636\n",
      "Epoch: 2[10000/60000(0%)]\t1.607653\n",
      "Epoch: 2[12000/60000(0%)]\t1.545748\n",
      "Epoch: 2[14000/60000(0%)]\t1.604718\n",
      "Epoch: 2[16000/60000(0%)]\t1.535592\n",
      "Epoch: 2[18000/60000(0%)]\t1.600271\n",
      "Epoch: 2[20000/60000(0%)]\t1.602320\n",
      "Epoch: 2[22000/60000(0%)]\t1.584312\n",
      "Epoch: 2[24000/60000(0%)]\t1.630482\n",
      "Epoch: 2[26000/60000(0%)]\t1.593205\n",
      "Epoch: 2[28000/60000(0%)]\t1.572286\n",
      "Epoch: 2[30000/60000(0%)]\t1.558921\n",
      "Epoch: 2[32000/60000(1%)]\t1.588088\n",
      "Epoch: 2[34000/60000(1%)]\t1.637743\n",
      "Epoch: 2[36000/60000(1%)]\t1.568242\n",
      "Epoch: 2[38000/60000(1%)]\t1.550903\n",
      "Epoch: 2[40000/60000(1%)]\t1.618940\n",
      "Epoch: 2[42000/60000(1%)]\t1.596300\n",
      "Epoch: 2[44000/60000(1%)]\t1.572342\n",
      "Epoch: 2[46000/60000(1%)]\t1.590574\n",
      "Epoch: 2[48000/60000(1%)]\t1.572103\n",
      "Epoch: 2[50000/60000(1%)]\t1.620778\n",
      "Epoch: 2[52000/60000(1%)]\t1.622101\n",
      "Epoch: 2[54000/60000(1%)]\t1.565060\n",
      "Epoch: 2[56000/60000(1%)]\t1.536707\n",
      "Epoch: 2[58000/60000(1%)]\t1.556782\n",
      "\n",
      "Test set: Average loss:0.0151, Accuracy:9494/10000(95%)\n",
      "Epoch: 3[0/60000(0%)]\t1.563133\n",
      "Epoch: 3[2000/60000(0%)]\t1.639053\n",
      "Epoch: 3[4000/60000(0%)]\t1.560541\n",
      "Epoch: 3[6000/60000(0%)]\t1.539870\n",
      "Epoch: 3[8000/60000(0%)]\t1.558440\n",
      "Epoch: 3[10000/60000(0%)]\t1.596568\n",
      "Epoch: 3[12000/60000(0%)]\t1.615125\n",
      "Epoch: 3[14000/60000(0%)]\t1.536374\n",
      "Epoch: 3[16000/60000(0%)]\t1.557060\n",
      "Epoch: 3[18000/60000(0%)]\t1.580686\n",
      "Epoch: 3[20000/60000(0%)]\t1.581727\n",
      "Epoch: 3[22000/60000(0%)]\t1.542797\n",
      "Epoch: 3[24000/60000(0%)]\t1.541686\n",
      "Epoch: 3[26000/60000(0%)]\t1.579298\n",
      "Epoch: 3[28000/60000(0%)]\t1.548060\n",
      "Epoch: 3[30000/60000(0%)]\t1.542001\n",
      "Epoch: 3[32000/60000(1%)]\t1.558038\n",
      "Epoch: 3[34000/60000(1%)]\t1.604519\n",
      "Epoch: 3[36000/60000(1%)]\t1.525424\n",
      "Epoch: 3[38000/60000(1%)]\t1.631859\n",
      "Epoch: 3[40000/60000(1%)]\t1.583826\n",
      "Epoch: 3[42000/60000(1%)]\t1.541649\n",
      "Epoch: 3[44000/60000(1%)]\t1.540599\n",
      "Epoch: 3[46000/60000(1%)]\t1.556552\n",
      "Epoch: 3[48000/60000(1%)]\t1.576340\n",
      "Epoch: 3[50000/60000(1%)]\t1.552539\n",
      "Epoch: 3[52000/60000(1%)]\t1.510085\n",
      "Epoch: 3[54000/60000(1%)]\t1.522478\n",
      "Epoch: 3[56000/60000(1%)]\t1.521430\n",
      "Epoch: 3[58000/60000(1%)]\t1.581241\n",
      "\n",
      "Test set: Average loss:0.0151, Accuracy:9554/10000(96%)\n",
      "Epoch: 4[0/60000(0%)]\t1.519367\n",
      "Epoch: 4[2000/60000(0%)]\t1.579154\n",
      "Epoch: 4[4000/60000(0%)]\t1.546208\n",
      "Epoch: 4[6000/60000(0%)]\t1.572524\n",
      "Epoch: 4[8000/60000(0%)]\t1.561189\n",
      "Epoch: 4[10000/60000(0%)]\t1.536645\n",
      "Epoch: 4[12000/60000(0%)]\t1.609765\n",
      "Epoch: 4[14000/60000(0%)]\t1.579921\n",
      "Epoch: 4[16000/60000(0%)]\t1.523650\n",
      "Epoch: 4[18000/60000(0%)]\t1.571118\n",
      "Epoch: 4[20000/60000(0%)]\t1.522924\n",
      "Epoch: 4[22000/60000(0%)]\t1.540124\n",
      "Epoch: 4[24000/60000(0%)]\t1.544003\n",
      "Epoch: 4[26000/60000(0%)]\t1.526483\n",
      "Epoch: 4[28000/60000(0%)]\t1.605400\n",
      "Epoch: 4[30000/60000(0%)]\t1.539559\n",
      "Epoch: 4[32000/60000(1%)]\t1.556515\n",
      "Epoch: 4[34000/60000(1%)]\t1.582451\n",
      "Epoch: 4[36000/60000(1%)]\t1.527161\n",
      "Epoch: 4[38000/60000(1%)]\t1.590609\n",
      "Epoch: 4[40000/60000(1%)]\t1.570371\n",
      "Epoch: 4[42000/60000(1%)]\t1.593557\n",
      "Epoch: 4[44000/60000(1%)]\t1.571173\n",
      "Epoch: 4[46000/60000(1%)]\t1.520895\n",
      "Epoch: 4[48000/60000(1%)]\t1.580618\n",
      "Epoch: 4[50000/60000(1%)]\t1.536234\n",
      "Epoch: 4[52000/60000(1%)]\t1.554195\n",
      "Epoch: 4[54000/60000(1%)]\t1.577388\n",
      "Epoch: 4[56000/60000(1%)]\t1.538978\n",
      "Epoch: 4[58000/60000(1%)]\t1.581333\n",
      "\n",
      "Test set: Average loss:0.0150, Accuracy:9605/10000(96%)\n",
      "Epoch: 5[0/60000(0%)]\t1.579977\n",
      "Epoch: 5[2000/60000(0%)]\t1.558337\n",
      "Epoch: 5[4000/60000(0%)]\t1.527786\n",
      "Epoch: 5[6000/60000(0%)]\t1.567488\n",
      "Epoch: 5[8000/60000(0%)]\t1.553390\n",
      "Epoch: 5[10000/60000(0%)]\t1.564427\n",
      "Epoch: 5[12000/60000(0%)]\t1.574615\n",
      "Epoch: 5[14000/60000(0%)]\t1.482671\n",
      "Epoch: 5[16000/60000(0%)]\t1.551076\n",
      "Epoch: 5[18000/60000(0%)]\t1.550663\n",
      "Epoch: 5[20000/60000(0%)]\t1.556036\n",
      "Epoch: 5[22000/60000(0%)]\t1.530147\n",
      "Epoch: 5[24000/60000(0%)]\t1.567898\n",
      "Epoch: 5[26000/60000(0%)]\t1.526612\n",
      "Epoch: 5[28000/60000(0%)]\t1.520916\n",
      "Epoch: 5[30000/60000(0%)]\t1.548020\n",
      "Epoch: 5[32000/60000(1%)]\t1.554418\n",
      "Epoch: 5[34000/60000(1%)]\t1.564198\n",
      "Epoch: 5[36000/60000(1%)]\t1.572496\n",
      "Epoch: 5[38000/60000(1%)]\t1.507818\n",
      "Epoch: 5[40000/60000(1%)]\t1.579751\n",
      "Epoch: 5[42000/60000(1%)]\t1.527993\n",
      "Epoch: 5[44000/60000(1%)]\t1.576538\n",
      "Epoch: 5[46000/60000(1%)]\t1.505597\n",
      "Epoch: 5[48000/60000(1%)]\t1.527270\n",
      "Epoch: 5[50000/60000(1%)]\t1.580901\n",
      "Epoch: 5[52000/60000(1%)]\t1.575933\n",
      "Epoch: 5[54000/60000(1%)]\t1.535977\n",
      "Epoch: 5[56000/60000(1%)]\t1.524823\n",
      "Epoch: 5[58000/60000(1%)]\t1.520628\n",
      "\n",
      "Test set: Average loss:0.0150, Accuracy:9644/10000(96%)\n",
      "Epoch: 6[0/60000(0%)]\t1.561594\n",
      "Epoch: 6[2000/60000(0%)]\t1.507342\n",
      "Epoch: 6[4000/60000(0%)]\t1.552786\n",
      "Epoch: 6[6000/60000(0%)]\t1.542814\n",
      "Epoch: 6[8000/60000(0%)]\t1.542710\n",
      "Epoch: 6[10000/60000(0%)]\t1.577543\n",
      "Epoch: 6[12000/60000(0%)]\t1.557647\n",
      "Epoch: 6[14000/60000(0%)]\t1.531173\n",
      "Epoch: 6[16000/60000(0%)]\t1.532736\n",
      "Epoch: 6[18000/60000(0%)]\t1.508225\n",
      "Epoch: 6[20000/60000(0%)]\t1.531145\n",
      "Epoch: 6[22000/60000(0%)]\t1.515334\n",
      "Epoch: 6[24000/60000(0%)]\t1.581258\n",
      "Epoch: 6[26000/60000(0%)]\t1.524742\n",
      "Epoch: 6[28000/60000(0%)]\t1.541848\n",
      "Epoch: 6[30000/60000(0%)]\t1.620932\n",
      "Epoch: 6[32000/60000(1%)]\t1.566238\n",
      "Epoch: 6[34000/60000(1%)]\t1.508812\n",
      "Epoch: 6[36000/60000(1%)]\t1.527005\n",
      "Epoch: 6[38000/60000(1%)]\t1.553270\n",
      "Epoch: 6[40000/60000(1%)]\t1.551776\n",
      "Epoch: 6[42000/60000(1%)]\t1.538656\n",
      "Epoch: 6[44000/60000(1%)]\t1.578063\n",
      "Epoch: 6[46000/60000(1%)]\t1.496648\n",
      "Epoch: 6[48000/60000(1%)]\t1.589409\n",
      "Epoch: 6[50000/60000(1%)]\t1.540013\n",
      "Epoch: 6[52000/60000(1%)]\t1.513620\n",
      "Epoch: 6[54000/60000(1%)]\t1.530526\n",
      "Epoch: 6[56000/60000(1%)]\t1.515719\n",
      "Epoch: 6[58000/60000(1%)]\t1.579628\n",
      "\n",
      "Test set: Average loss:0.0149, Accuracy:9688/10000(97%)\n",
      "Epoch: 7[0/60000(0%)]\t1.568242\n",
      "Epoch: 7[2000/60000(0%)]\t1.551209\n",
      "Epoch: 7[4000/60000(0%)]\t1.552601\n",
      "Epoch: 7[6000/60000(0%)]\t1.548820\n",
      "Epoch: 7[8000/60000(0%)]\t1.510576\n",
      "Epoch: 7[10000/60000(0%)]\t1.525250\n",
      "Epoch: 7[12000/60000(0%)]\t1.550368\n",
      "Epoch: 7[14000/60000(0%)]\t1.547660\n",
      "Epoch: 7[16000/60000(0%)]\t1.498393\n",
      "Epoch: 7[18000/60000(0%)]\t1.530853\n",
      "Epoch: 7[20000/60000(0%)]\t1.525740\n",
      "Epoch: 7[22000/60000(0%)]\t1.536923\n",
      "Epoch: 7[24000/60000(0%)]\t1.511059\n",
      "Epoch: 7[26000/60000(0%)]\t1.537433\n",
      "Epoch: 7[28000/60000(0%)]\t1.509674\n",
      "Epoch: 7[30000/60000(0%)]\t1.533890\n",
      "Epoch: 7[32000/60000(1%)]\t1.525262\n",
      "Epoch: 7[34000/60000(1%)]\t1.537847\n",
      "Epoch: 7[36000/60000(1%)]\t1.515383\n",
      "Epoch: 7[38000/60000(1%)]\t1.549000\n",
      "Epoch: 7[40000/60000(1%)]\t1.598794\n",
      "Epoch: 7[42000/60000(1%)]\t1.527564\n",
      "Epoch: 7[44000/60000(1%)]\t1.518790\n",
      "Epoch: 7[46000/60000(1%)]\t1.520586\n",
      "Epoch: 7[48000/60000(1%)]\t1.525019\n",
      "Epoch: 7[50000/60000(1%)]\t1.542910\n",
      "Epoch: 7[52000/60000(1%)]\t1.563060\n",
      "Epoch: 7[54000/60000(1%)]\t1.508689\n",
      "Epoch: 7[56000/60000(1%)]\t1.527589\n",
      "Epoch: 7[58000/60000(1%)]\t1.558107\n",
      "\n",
      "Test set: Average loss:0.0149, Accuracy:9706/10000(97%)\n",
      "Epoch: 8[0/60000(0%)]\t1.523654\n",
      "Epoch: 8[2000/60000(0%)]\t1.505548\n",
      "Epoch: 8[4000/60000(0%)]\t1.537966\n",
      "Epoch: 8[6000/60000(0%)]\t1.569755\n",
      "Epoch: 8[8000/60000(0%)]\t1.533075\n",
      "Epoch: 8[10000/60000(0%)]\t1.526764\n",
      "Epoch: 8[12000/60000(0%)]\t1.515319\n",
      "Epoch: 8[14000/60000(0%)]\t1.528956\n",
      "Epoch: 8[16000/60000(0%)]\t1.520690\n",
      "Epoch: 8[18000/60000(0%)]\t1.520925\n",
      "Epoch: 8[20000/60000(0%)]\t1.546569\n",
      "Epoch: 8[22000/60000(0%)]\t1.520427\n",
      "Epoch: 8[24000/60000(0%)]\t1.541626\n",
      "Epoch: 8[26000/60000(0%)]\t1.541621\n",
      "Epoch: 8[28000/60000(0%)]\t1.509651\n",
      "Epoch: 8[30000/60000(0%)]\t1.517880\n",
      "Epoch: 8[32000/60000(1%)]\t1.520009\n",
      "Epoch: 8[34000/60000(1%)]\t1.516204\n",
      "Epoch: 8[36000/60000(1%)]\t1.546050\n",
      "Epoch: 8[38000/60000(1%)]\t1.496602\n",
      "Epoch: 8[40000/60000(1%)]\t1.547795\n",
      "Epoch: 8[42000/60000(1%)]\t1.525840\n",
      "Epoch: 8[44000/60000(1%)]\t1.517842\n",
      "Epoch: 8[46000/60000(1%)]\t1.523799\n",
      "Epoch: 8[48000/60000(1%)]\t1.533833\n",
      "Epoch: 8[50000/60000(1%)]\t1.528978\n",
      "Epoch: 8[52000/60000(1%)]\t1.519710\n",
      "Epoch: 8[54000/60000(1%)]\t1.538594\n",
      "Epoch: 8[56000/60000(1%)]\t1.485616\n",
      "Epoch: 8[58000/60000(1%)]\t1.559590\n",
      "\n",
      "Test set: Average loss:0.0149, Accuracy:9721/10000(97%)\n",
      "Epoch: 9[0/60000(0%)]\t1.557925\n",
      "Epoch: 9[2000/60000(0%)]\t1.572696\n",
      "Epoch: 9[4000/60000(0%)]\t1.550414\n",
      "Epoch: 9[6000/60000(0%)]\t1.557226\n",
      "Epoch: 9[8000/60000(0%)]\t1.544931\n",
      "Epoch: 9[10000/60000(0%)]\t1.496780\n",
      "Epoch: 9[12000/60000(0%)]\t1.562719\n",
      "Epoch: 9[14000/60000(0%)]\t1.568876\n",
      "Epoch: 9[16000/60000(0%)]\t1.510466\n",
      "Epoch: 9[18000/60000(0%)]\t1.513921\n",
      "Epoch: 9[20000/60000(0%)]\t1.544062\n",
      "Epoch: 9[22000/60000(0%)]\t1.508744\n",
      "Epoch: 9[24000/60000(0%)]\t1.537490\n",
      "Epoch: 9[26000/60000(0%)]\t1.485566\n",
      "Epoch: 9[28000/60000(0%)]\t1.554848\n",
      "Epoch: 9[30000/60000(0%)]\t1.501138\n",
      "Epoch: 9[32000/60000(1%)]\t1.488883\n",
      "Epoch: 9[34000/60000(1%)]\t1.519509\n",
      "Epoch: 9[36000/60000(1%)]\t1.524099\n",
      "Epoch: 9[38000/60000(1%)]\t1.573786\n",
      "Epoch: 9[40000/60000(1%)]\t1.541509\n",
      "Epoch: 9[42000/60000(1%)]\t1.542107\n",
      "Epoch: 9[44000/60000(1%)]\t1.496669\n",
      "Epoch: 9[46000/60000(1%)]\t1.543637\n",
      "Epoch: 9[48000/60000(1%)]\t1.523606\n",
      "Epoch: 9[50000/60000(1%)]\t1.491304\n",
      "Epoch: 9[52000/60000(1%)]\t1.511288\n",
      "Epoch: 9[54000/60000(1%)]\t1.537131\n",
      "Epoch: 9[56000/60000(1%)]\t1.512937\n",
      "Epoch: 9[58000/60000(1%)]\t1.545582\n",
      "\n",
      "Test set: Average loss:0.0149, Accuracy:9711/10000(97%)\n",
      "Epoch: 10[0/60000(0%)]\t1.565082\n",
      "Epoch: 10[2000/60000(0%)]\t1.490880\n",
      "Epoch: 10[4000/60000(0%)]\t1.494611\n",
      "Epoch: 10[6000/60000(0%)]\t1.525279\n",
      "Epoch: 10[8000/60000(0%)]\t1.530999\n",
      "Epoch: 10[10000/60000(0%)]\t1.532732\n",
      "Epoch: 10[12000/60000(0%)]\t1.536748\n",
      "Epoch: 10[14000/60000(0%)]\t1.521131\n",
      "Epoch: 10[16000/60000(0%)]\t1.545715\n",
      "Epoch: 10[18000/60000(0%)]\t1.519020\n",
      "Epoch: 10[20000/60000(0%)]\t1.538239\n",
      "Epoch: 10[22000/60000(0%)]\t1.511131\n",
      "Epoch: 10[24000/60000(0%)]\t1.561589\n",
      "Epoch: 10[26000/60000(0%)]\t1.515098\n",
      "Epoch: 10[28000/60000(0%)]\t1.532462\n",
      "Epoch: 10[30000/60000(0%)]\t1.505681\n",
      "Epoch: 10[32000/60000(1%)]\t1.522765\n",
      "Epoch: 10[34000/60000(1%)]\t1.499720\n",
      "Epoch: 10[36000/60000(1%)]\t1.585809\n",
      "Epoch: 10[38000/60000(1%)]\t1.542317\n",
      "Epoch: 10[40000/60000(1%)]\t1.534889\n",
      "Epoch: 10[42000/60000(1%)]\t1.521555\n",
      "Epoch: 10[44000/60000(1%)]\t1.546509\n",
      "Epoch: 10[46000/60000(1%)]\t1.526718\n",
      "Epoch: 10[48000/60000(1%)]\t1.529832\n",
      "Epoch: 10[50000/60000(1%)]\t1.516624\n",
      "Epoch: 10[52000/60000(1%)]\t1.532887\n",
      "Epoch: 10[54000/60000(1%)]\t1.504196\n",
      "Epoch: 10[56000/60000(1%)]\t1.538122\n",
      "Epoch: 10[58000/60000(1%)]\t1.538297\n",
      "\n",
      "Test set: Average loss:0.0149, Accuracy:9726/10000(97%)\n"
     ]
    }
   ],
   "source": [
    "for epoch in range(1,11):\n",
    "    train(epoch)\n",
    "    test(epoch)"
   ]
  },
  {
   "cell_type": "code",
   "execution_count": 123,
   "metadata": {},
   "outputs": [
    {
     "name": "stdout",
     "output_type": "stream",
     "text": [
      "prediction:7\n"
     ]
    },
    {
     "data": {
      "image/png": "[encoded data removed]",
      "text/plain": [
       "<Figure size 640x480 with 1 Axes>"
      ]
     },
     "metadata": {},
     "output_type": "display_data"
    }
   ],
   "source": [
    "import matplotlib.pyplot as plt \n",
    "model.eval()\n",
    "data,target = test_data[0]\n",
    "data=data.unsqueeze(0).to(device)\n",
    "output=model(data)\n",
    "prediction=output.argmax(dim=1,keepdim=True).item()\n",
    "print(f\"prediction:{prediction}\")\n",
    "image = data.squeeze(0).squeeze(0).cpu().numpy()\n",
    "plt.imshow(image,cmap=\"gray\")\n",
    "plt.show()"
   ]
  },
  {
   "cell_type": "code",
   "execution_count": null,
   "metadata": {},
   "outputs": [],
   "source": []
  },
  {
   "cell_type": "code",
   "execution_count": null,
   "metadata": {},
   "outputs": [],
   "source": []
  },
  {
   "cell_type": "code",
   "execution_count": null,
   "metadata": {},
   "outputs": [],
   "source": []
  }
 ],
 "metadata": {
  "kernelspec": {
   "display_name": "Python 3 (ipykernel)",
   "language": "python",
   "name": "python3"
  },
  "language_info": {
   "codemirror_mode": {
    "name": "ipython",
    "version": 3
   },
   "file_extension": ".py",
   "mimetype": "text/x-python",
   "name": "python",
   "nbconvert_exporter": "python",
   "pygments_lexer": "ipython3",
   "version": "3.12.2"
  }
 },
 "nbformat": 4,
 "nbformat_minor": 4
}

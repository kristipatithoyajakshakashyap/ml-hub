{
 "cells": [
  {
   "cell_type": "code",
   "execution_count": 1,
   "metadata": {},
   "outputs": [],
   "source": [
    "from torchvision import datasets\n",
    "from torchvision.transforms import ToTensor"
   ]
  },
  {
   "cell_type": "code",
   "execution_count": 2,
   "metadata": {},
   "outputs": [
    {
     "name": "stdout",
     "output_type": "stream",
     "text": [
      "Downloading http://yann.lecun.com/exdb/mnist/train-images-idx3-ubyte.gz\n",
      "Failed to download (trying next):\n",
      "HTTP Error 403: Forbidden\n",
      "\n",
      "Downloading https://ossci-datasets.s3.amazonaws.com/mnist/train-images-idx3-ubyte.gz\n",
      "Downloading https://ossci-datasets.s3.amazonaws.com/mnist/train-images-idx3-ubyte.gz to data\\MNIST\\raw\\train-images-idx3-ubyte.gz\n"
     ]
    },
    {
     "name": "stderr",
     "output_type": "stream",
     "text": [
      "100%|██████████| 9912422/9912422 [00:02<00:00, 3832728.24it/s]\n"
     ]
    },
    {
     "name": "stdout",
     "output_type": "stream",
     "text": [
      "Extracting data\\MNIST\\raw\\train-images-idx3-ubyte.gz to data\\MNIST\\raw\n",
      "\n",
      "Downloading http://yann.lecun.com/exdb/mnist/train-labels-idx1-ubyte.gz\n",
      "Failed to download (trying next):\n",
      "HTTP Error 403: Forbidden\n",
      "\n",
      "Downloading https://ossci-datasets.s3.amazonaws.com/mnist/train-labels-idx1-ubyte.gz\n",
      "Downloading https://ossci-datasets.s3.amazonaws.com/mnist/train-labels-idx1-ubyte.gz to data\\MNIST\\raw\\train-labels-idx1-ubyte.gz\n"
     ]
    },
    {
     "name": "stderr",
     "output_type": "stream",
     "text": [
      "100%|██████████| 28881/28881 [00:00<00:00, 128636.90it/s]\n"
     ]
    },
    {
     "name": "stdout",
     "output_type": "stream",
     "text": [
      "Extracting data\\MNIST\\raw\\train-labels-idx1-ubyte.gz to data\\MNIST\\raw\n",
      "\n",
      "Downloading http://yann.lecun.com/exdb/mnist/t10k-images-idx3-ubyte.gz\n",
      "Failed to download (trying next):\n",
      "HTTP Error 403: Forbidden\n",
      "\n",
      "Downloading https://ossci-datasets.s3.amazonaws.com/mnist/t10k-images-idx3-ubyte.gz\n",
      "Downloading https://ossci-datasets.s3.amazonaws.com/mnist/t10k-images-idx3-ubyte.gz to data\\MNIST\\raw\\t10k-images-idx3-ubyte.gz\n"
     ]
    },
    {
     "name": "stderr",
     "output_type": "stream",
     "text": [
      "100%|██████████| 1648877/1648877 [00:03<00:00, 419391.51it/s]\n"
     ]
    },
    {
     "name": "stdout",
     "output_type": "stream",
     "text": [
      "Extracting data\\MNIST\\raw\\t10k-images-idx3-ubyte.gz to data\\MNIST\\raw\n",
      "\n",
      "Downloading http://yann.lecun.com/exdb/mnist/t10k-labels-idx1-ubyte.gz\n",
      "Failed to download (trying next):\n",
      "HTTP Error 403: Forbidden\n",
      "\n",
      "Downloading https://ossci-datasets.s3.amazonaws.com/mnist/t10k-labels-idx1-ubyte.gz\n",
      "Downloading https://ossci-datasets.s3.amazonaws.com/mnist/t10k-labels-idx1-ubyte.gz to data\\MNIST\\raw\\t10k-labels-idx1-ubyte.gz\n"
     ]
    },
    {
     "name": "stderr",
     "output_type": "stream",
     "text": [
      "100%|██████████| 4542/4542 [00:00<?, ?it/s]"
     ]
    },
    {
     "name": "stdout",
     "output_type": "stream",
     "text": [
      "Extracting data\\MNIST\\raw\\t10k-labels-idx1-ubyte.gz to data\\MNIST\\raw\n",
      "\n"
     ]
    },
    {
     "name": "stderr",
     "output_type": "stream",
     "text": [
      "\n"
     ]
    }
   ],
   "source": [
    "train_data = datasets.MNIST(\n",
    "    root='data',\n",
    "    train=True,\n",
    "    transform=ToTensor(),\n",
    "    download=True\n",
    ")\n",
    "test_data = datasets.MNIST(\n",
    "    root='data',\n",
    "    train=False,\n",
    "    transform=ToTensor(),\n",
    "    download=True\n",
    ")"
   ]
  },
  {
   "cell_type": "code",
   "execution_count": 3,
   "metadata": {},
   "outputs": [
    {
     "data": {
      "text/plain": [
       "(Dataset MNIST\n",
       "     Number of datapoints: 60000\n",
       "     Root location: data\n",
       "     Split: Train\n",
       "     StandardTransform\n",
       " Transform: ToTensor(),\n",
       " Dataset MNIST\n",
       "     Number of datapoints: 10000\n",
       "     Root location: data\n",
       "     Split: Test\n",
       "     StandardTransform\n",
       " Transform: ToTensor())"
      ]
     },
     "execution_count": 3,
     "metadata": {},
     "output_type": "execute_result"
    }
   ],
   "source": [
    "train_data, test_data"
   ]
  },
  {
   "cell_type": "code",
   "execution_count": 4,
   "metadata": {},
   "outputs": [
    {
     "data": {
      "text/plain": [
       "torch.Size([60000, 28, 28])"
      ]
     },
     "execution_count": 4,
     "metadata": {},
     "output_type": "execute_result"
    }
   ],
   "source": [
    "train_data.data.size()"
   ]
  },
  {
   "cell_type": "code",
   "execution_count": 5,
   "metadata": {},
   "outputs": [
    {
     "data": {
      "text/plain": [
       "torch.Size([10000, 28, 28])"
      ]
     },
     "execution_count": 5,
     "metadata": {},
     "output_type": "execute_result"
    }
   ],
   "source": [
    "test_data.data.shape"
   ]
  },
  {
   "cell_type": "code",
   "execution_count": 6,
   "metadata": {},
   "outputs": [
    {
     "data": {
      "text/plain": [
       "torch.Size([60000])"
      ]
     },
     "execution_count": 6,
     "metadata": {},
     "output_type": "execute_result"
    }
   ],
   "source": [
    "train_data.targets.shape"
   ]
  },
  {
   "cell_type": "code",
   "execution_count": 7,
   "metadata": {},
   "outputs": [],
   "source": [
    "from torch.utils.data import DataLoader \n",
    "\n",
    "loaders = {\n",
    "    'train': DataLoader(dataset=train_data,\n",
    "                        batch_size=100,\n",
    "                        shuffle=True,\n",
    "                        num_workers=1),\n",
    "    'test': DataLoader(dataset=test_data,\n",
    "                       batch_size=100,\n",
    "                       shuffle=True,\n",
    "                       num_workers=1)\n",
    "}"
   ]
  },
  {
   "cell_type": "code",
   "execution_count": 8,
   "metadata": {},
   "outputs": [
    {
     "data": {
      "text/plain": [
       "{'train': <torch.utils.data.dataloader.DataLoader at 0x135f297c1d0>,\n",
       " 'test': <torch.utils.data.dataloader.DataLoader at 0x135f2952390>}"
      ]
     },
     "execution_count": 8,
     "metadata": {},
     "output_type": "execute_result"
    }
   ],
   "source": [
    "loaders"
   ]
  },
  {
   "cell_type": "code",
   "execution_count": 9,
   "metadata": {},
   "outputs": [],
   "source": [
    "import torch.nn as nn \n",
    "import torch.nn.functional as F \n",
    "import torch.optim as optim \n",
    "\n",
    "class CNN(nn.Module):\n",
    "    def __init__(self):\n",
    "        super().__init__()\n",
    "        self.conv1 = nn.Conv2d(1,10, kernel_size=5)\n",
    "        self.conv2 = nn.Conv2d(10,20, kernel_size=5)\n",
    "        self.conv2_drop = nn.Dropout2d()\n",
    "        self.fc1 = nn.Linear(320, 50)\n",
    "        self.fc2 = nn.Linear(50,10)\n",
    "    def forward(self, x):\n",
    "        x = F.relu(F.max_pool2d(self.conv1(x), 2)) \n",
    "        x = F.relu(F.max_pool2d(self.conv2_drop(self.conv2(x)), 2))\n",
    "        x = x.view(-1, 320)  \n",
    "        x = F.relu(self.fc1(x))\n",
    "        x = F.dropout(x, training=self.training)\n",
    "        x = self.fc2(x) \n",
    "        return F.softmax(x)     "
   ]
  },
  {
   "cell_type": "code",
   "execution_count": 10,
   "metadata": {},
   "outputs": [],
   "source": [
    "import torch \n",
    "\n",
    "device = \"cuda\" if torch.cuda.is_available() else \"cpu\"\n",
    "\n",
    "model = CNN().to(device)\n",
    "\n",
    "optimizer = optim.Adam(model.parameters(), lr=0.001)\n",
    "\n",
    "loss_fn = nn.CrossEntropyLoss()\n",
    "\n",
    "def train(epoch):\n",
    "    model.train()\n",
    "    for batch_idx, (data, target) in enumerate(loaders['train']):\n",
    "        data, target = data.to(device), target.to(device)\n",
    "        optimizer.zero_grad()\n",
    "        output = model(data)\n",
    "        loss = loss_fn(output, target)\n",
    "        loss.backward()\n",
    "        optimizer.step()\n",
    "        if batch_idx % 20 == 0:\n",
    "            print(f\"Train Epoch: {epoch} [{batch_idx * len(data)}/{len(loaders['train'].dataset)}({100. * batch_idx / len(loaders['train']):.0f}%)]\\t{loss.item():.6f}\")\n",
    "\n",
    "def test(epoch):\n",
    "    model.eval()\n",
    "    test_loss = 0\n",
    "    correct = 0 \n",
    "    with torch.inference_mode():\n",
    "        for data, target in loaders['test']:\n",
    "            data, target = data.to(device), target.to(device)\n",
    "            output = model(data)\n",
    "            test_loss += loss_fn(output, target).item()\n",
    "            pred = output.argmax(dim=1, keepdim=True)\n",
    "            correct += pred.eq(target.view_as(pred)).sum().item()\n",
    "    test_loss /= len(loaders['test'].dataset)\n",
    "    print(f\"\\nTest set: Average loss: {test_loss:.4f}, Accuracy = {correct}/{len(loaders['test'].dataset)} ({100. * correct/ len(loaders['test'].dataset):.0f}%\\n)\")"
   ]
  },
  {
   "cell_type": "code",
   "execution_count": 11,
   "metadata": {},
   "outputs": [
    {
     "name": "stderr",
     "output_type": "stream",
     "text": [
      "c:\\Users\\Thoyajaksha Kashyap\\AppData\\Local\\Programs\\Python\\Python312\\Lib\\site-packages\\torch\\nn\\modules\\conv.py:456: UserWarning: Plan failed with a cudnnException: CUDNN_BACKEND_EXECUTION_PLAN_DESCRIPTOR: cudnnFinalize Descriptor Failed cudnn_status: CUDNN_STATUS_NOT_SUPPORTED (Triggered internally at ..\\aten\\src\\ATen\\native\\cudnn\\Conv_v8.cpp:919.)\n",
      "  return F.conv2d(input, weight, bias, self.stride,\n",
      "C:\\Users\\Thoyajaksha Kashyap\\AppData\\Local\\Temp\\ipykernel_19952\\2589193086.py:20: UserWarning: Implicit dimension choice for softmax has been deprecated. Change the call to include dim=X as an argument.\n",
      "  return F.softmax(x)\n"
     ]
    },
    {
     "name": "stdout",
     "output_type": "stream",
     "text": [
      "Train Epoch: 1 [0/60000(0%)]\t2.304908\n",
      "Train Epoch: 1 [2000/60000(3%)]\t2.274835\n",
      "Train Epoch: 1 [4000/60000(7%)]\t2.178362\n",
      "Train Epoch: 1 [6000/60000(10%)]\t2.048921\n",
      "Train Epoch: 1 [8000/60000(13%)]\t1.936804\n",
      "Train Epoch: 1 [10000/60000(17%)]\t1.934414\n",
      "Train Epoch: 1 [12000/60000(20%)]\t1.942286\n",
      "Train Epoch: 1 [14000/60000(23%)]\t1.857213\n",
      "Train Epoch: 1 [16000/60000(27%)]\t1.765370\n",
      "Train Epoch: 1 [18000/60000(30%)]\t1.766619\n",
      "Train Epoch: 1 [20000/60000(33%)]\t1.673455\n",
      "Train Epoch: 1 [22000/60000(37%)]\t1.598257\n",
      "Train Epoch: 1 [24000/60000(40%)]\t1.679322\n",
      "Train Epoch: 1 [26000/60000(43%)]\t1.642440\n",
      "Train Epoch: 1 [28000/60000(47%)]\t1.677540\n",
      "Train Epoch: 1 [30000/60000(50%)]\t1.545586\n",
      "Train Epoch: 1 [32000/60000(53%)]\t1.719895\n",
      "Train Epoch: 1 [34000/60000(57%)]\t1.601263\n",
      "Train Epoch: 1 [36000/60000(60%)]\t1.624784\n",
      "Train Epoch: 1 [38000/60000(63%)]\t1.627057\n",
      "Train Epoch: 1 [40000/60000(67%)]\t1.590897\n",
      "Train Epoch: 1 [42000/60000(70%)]\t1.634953\n",
      "Train Epoch: 1 [44000/60000(73%)]\t1.611942\n",
      "Train Epoch: 1 [46000/60000(77%)]\t1.571485\n",
      "Train Epoch: 1 [48000/60000(80%)]\t1.656862\n",
      "Train Epoch: 1 [50000/60000(83%)]\t1.607429\n",
      "Train Epoch: 1 [52000/60000(87%)]\t1.585479\n",
      "Train Epoch: 1 [54000/60000(90%)]\t1.566491\n",
      "Train Epoch: 1 [56000/60000(93%)]\t1.591105\n",
      "Train Epoch: 1 [58000/60000(97%)]\t1.543402\n",
      "\n",
      "Test set: Average loss: 0.0152, Accuracy = 9386/10000 (94%\n",
      ")\n",
      "Train Epoch: 2 [0/60000(0%)]\t1.569391\n",
      "Train Epoch: 2 [2000/60000(3%)]\t1.598094\n",
      "Train Epoch: 2 [4000/60000(7%)]\t1.578300\n",
      "Train Epoch: 2 [6000/60000(10%)]\t1.619193\n",
      "Train Epoch: 2 [8000/60000(13%)]\t1.592256\n",
      "Train Epoch: 2 [10000/60000(17%)]\t1.608821\n",
      "Train Epoch: 2 [12000/60000(20%)]\t1.579905\n",
      "Train Epoch: 2 [14000/60000(23%)]\t1.552293\n",
      "Train Epoch: 2 [16000/60000(27%)]\t1.579462\n",
      "Train Epoch: 2 [18000/60000(30%)]\t1.542639\n",
      "Train Epoch: 2 [20000/60000(33%)]\t1.589577\n",
      "Train Epoch: 2 [22000/60000(37%)]\t1.576458\n",
      "Train Epoch: 2 [24000/60000(40%)]\t1.566929\n",
      "Train Epoch: 2 [26000/60000(43%)]\t1.536659\n",
      "Train Epoch: 2 [28000/60000(47%)]\t1.563262\n",
      "Train Epoch: 2 [30000/60000(50%)]\t1.556026\n",
      "Train Epoch: 2 [32000/60000(53%)]\t1.562394\n",
      "Train Epoch: 2 [34000/60000(57%)]\t1.553427\n",
      "Train Epoch: 2 [36000/60000(60%)]\t1.560192\n",
      "Train Epoch: 2 [38000/60000(63%)]\t1.519560\n",
      "Train Epoch: 2 [40000/60000(67%)]\t1.588517\n",
      "Train Epoch: 2 [42000/60000(70%)]\t1.555201\n",
      "Train Epoch: 2 [44000/60000(73%)]\t1.542755\n",
      "Train Epoch: 2 [46000/60000(77%)]\t1.568061\n",
      "Train Epoch: 2 [48000/60000(80%)]\t1.525766\n",
      "Train Epoch: 2 [50000/60000(83%)]\t1.527214\n",
      "Train Epoch: 2 [52000/60000(87%)]\t1.570768\n",
      "Train Epoch: 2 [54000/60000(90%)]\t1.565370\n",
      "Train Epoch: 2 [56000/60000(93%)]\t1.567909\n",
      "Train Epoch: 2 [58000/60000(97%)]\t1.623087\n",
      "\n",
      "Test set: Average loss: 0.0151, Accuracy = 9540/10000 (95%\n",
      ")\n",
      "Train Epoch: 3 [0/60000(0%)]\t1.547910\n",
      "Train Epoch: 3 [2000/60000(3%)]\t1.532366\n",
      "Train Epoch: 3 [4000/60000(7%)]\t1.546053\n",
      "Train Epoch: 3 [6000/60000(10%)]\t1.535248\n",
      "Train Epoch: 3 [8000/60000(13%)]\t1.550527\n",
      "Train Epoch: 3 [10000/60000(17%)]\t1.579209\n",
      "Train Epoch: 3 [12000/60000(20%)]\t1.542639\n",
      "Train Epoch: 3 [14000/60000(23%)]\t1.528784\n",
      "Train Epoch: 3 [16000/60000(27%)]\t1.581891\n",
      "Train Epoch: 3 [18000/60000(30%)]\t1.575865\n",
      "Train Epoch: 3 [20000/60000(33%)]\t1.544034\n",
      "Train Epoch: 3 [22000/60000(37%)]\t1.550788\n",
      "Train Epoch: 3 [24000/60000(40%)]\t1.533679\n",
      "Train Epoch: 3 [26000/60000(43%)]\t1.533263\n",
      "Train Epoch: 3 [28000/60000(47%)]\t1.542191\n",
      "Train Epoch: 3 [30000/60000(50%)]\t1.561245\n",
      "Train Epoch: 3 [32000/60000(53%)]\t1.544627\n",
      "Train Epoch: 3 [34000/60000(57%)]\t1.538604\n",
      "Train Epoch: 3 [36000/60000(60%)]\t1.518239\n",
      "Train Epoch: 3 [38000/60000(63%)]\t1.557420\n",
      "Train Epoch: 3 [40000/60000(67%)]\t1.532619\n",
      "Train Epoch: 3 [42000/60000(70%)]\t1.550612\n",
      "Train Epoch: 3 [44000/60000(73%)]\t1.578408\n",
      "Train Epoch: 3 [46000/60000(77%)]\t1.526094\n",
      "Train Epoch: 3 [48000/60000(80%)]\t1.546754\n",
      "Train Epoch: 3 [50000/60000(83%)]\t1.631863\n",
      "Train Epoch: 3 [52000/60000(87%)]\t1.590638\n",
      "Train Epoch: 3 [54000/60000(90%)]\t1.581104\n",
      "Train Epoch: 3 [56000/60000(93%)]\t1.555776\n",
      "Train Epoch: 3 [58000/60000(97%)]\t1.530935\n",
      "\n",
      "Test set: Average loss: 0.0150, Accuracy = 9607/10000 (96%\n",
      ")\n",
      "Train Epoch: 4 [0/60000(0%)]\t1.545430\n",
      "Train Epoch: 4 [2000/60000(3%)]\t1.561611\n",
      "Train Epoch: 4 [4000/60000(7%)]\t1.526078\n",
      "Train Epoch: 4 [6000/60000(10%)]\t1.511616\n",
      "Train Epoch: 4 [8000/60000(13%)]\t1.518573\n",
      "Train Epoch: 4 [10000/60000(17%)]\t1.536575\n",
      "Train Epoch: 4 [12000/60000(20%)]\t1.525896\n",
      "Train Epoch: 4 [14000/60000(23%)]\t1.479167\n",
      "Train Epoch: 4 [16000/60000(27%)]\t1.552429\n",
      "Train Epoch: 4 [18000/60000(30%)]\t1.585872\n",
      "Train Epoch: 4 [20000/60000(33%)]\t1.549030\n",
      "Train Epoch: 4 [22000/60000(37%)]\t1.550488\n",
      "Train Epoch: 4 [24000/60000(40%)]\t1.588310\n",
      "Train Epoch: 4 [26000/60000(43%)]\t1.529805\n",
      "Train Epoch: 4 [28000/60000(47%)]\t1.500547\n",
      "Train Epoch: 4 [30000/60000(50%)]\t1.550169\n",
      "Train Epoch: 4 [32000/60000(53%)]\t1.514309\n",
      "Train Epoch: 4 [34000/60000(57%)]\t1.530010\n",
      "Train Epoch: 4 [36000/60000(60%)]\t1.563821\n",
      "Train Epoch: 4 [38000/60000(63%)]\t1.543189\n",
      "Train Epoch: 4 [40000/60000(67%)]\t1.528781\n",
      "Train Epoch: 4 [42000/60000(70%)]\t1.544727\n",
      "Train Epoch: 4 [44000/60000(73%)]\t1.512588\n",
      "Train Epoch: 4 [46000/60000(77%)]\t1.599270\n",
      "Train Epoch: 4 [48000/60000(80%)]\t1.534666\n",
      "Train Epoch: 4 [50000/60000(83%)]\t1.532665\n",
      "Train Epoch: 4 [52000/60000(87%)]\t1.550206\n",
      "Train Epoch: 4 [54000/60000(90%)]\t1.535257\n",
      "Train Epoch: 4 [56000/60000(93%)]\t1.547446\n",
      "Train Epoch: 4 [58000/60000(97%)]\t1.541481\n",
      "\n",
      "Test set: Average loss: 0.0150, Accuracy = 9664/10000 (97%\n",
      ")\n",
      "Train Epoch: 5 [0/60000(0%)]\t1.535594\n",
      "Train Epoch: 5 [2000/60000(3%)]\t1.530808\n",
      "Train Epoch: 5 [4000/60000(7%)]\t1.540010\n",
      "Train Epoch: 5 [6000/60000(10%)]\t1.509289\n",
      "Train Epoch: 5 [8000/60000(13%)]\t1.554467\n",
      "Train Epoch: 5 [10000/60000(17%)]\t1.601439\n",
      "Train Epoch: 5 [12000/60000(20%)]\t1.537385\n",
      "Train Epoch: 5 [14000/60000(23%)]\t1.545759\n",
      "Train Epoch: 5 [16000/60000(27%)]\t1.551369\n",
      "Train Epoch: 5 [18000/60000(30%)]\t1.592950\n",
      "Train Epoch: 5 [20000/60000(33%)]\t1.522024\n",
      "Train Epoch: 5 [22000/60000(37%)]\t1.597270\n",
      "Train Epoch: 5 [24000/60000(40%)]\t1.562450\n",
      "Train Epoch: 5 [26000/60000(43%)]\t1.539413\n",
      "Train Epoch: 5 [28000/60000(47%)]\t1.541586\n",
      "Train Epoch: 5 [30000/60000(50%)]\t1.501824\n",
      "Train Epoch: 5 [32000/60000(53%)]\t1.524901\n",
      "Train Epoch: 5 [34000/60000(57%)]\t1.524763\n",
      "Train Epoch: 5 [36000/60000(60%)]\t1.521446\n",
      "Train Epoch: 5 [38000/60000(63%)]\t1.544743\n",
      "Train Epoch: 5 [40000/60000(67%)]\t1.538366\n",
      "Train Epoch: 5 [42000/60000(70%)]\t1.521893\n",
      "Train Epoch: 5 [44000/60000(73%)]\t1.520105\n",
      "Train Epoch: 5 [46000/60000(77%)]\t1.566002\n",
      "Train Epoch: 5 [48000/60000(80%)]\t1.538186\n",
      "Train Epoch: 5 [50000/60000(83%)]\t1.533268\n",
      "Train Epoch: 5 [52000/60000(87%)]\t1.545626\n",
      "Train Epoch: 5 [54000/60000(90%)]\t1.557698\n",
      "Train Epoch: 5 [56000/60000(93%)]\t1.536885\n",
      "Train Epoch: 5 [58000/60000(97%)]\t1.517076\n",
      "\n",
      "Test set: Average loss: 0.0149, Accuracy = 9696/10000 (97%\n",
      ")\n",
      "Train Epoch: 6 [0/60000(0%)]\t1.501370\n",
      "Train Epoch: 6 [2000/60000(3%)]\t1.545794\n",
      "Train Epoch: 6 [4000/60000(7%)]\t1.556397\n",
      "Train Epoch: 6 [6000/60000(10%)]\t1.533980\n",
      "Train Epoch: 6 [8000/60000(13%)]\t1.566789\n",
      "Train Epoch: 6 [10000/60000(17%)]\t1.521465\n",
      "Train Epoch: 6 [12000/60000(20%)]\t1.533882\n",
      "Train Epoch: 6 [14000/60000(23%)]\t1.560383\n",
      "Train Epoch: 6 [16000/60000(27%)]\t1.513577\n",
      "Train Epoch: 6 [18000/60000(30%)]\t1.542612\n",
      "Train Epoch: 6 [20000/60000(33%)]\t1.535488\n",
      "Train Epoch: 6 [22000/60000(37%)]\t1.508212\n",
      "Train Epoch: 6 [24000/60000(40%)]\t1.550915\n",
      "Train Epoch: 6 [26000/60000(43%)]\t1.543758\n",
      "Train Epoch: 6 [28000/60000(47%)]\t1.566617\n",
      "Train Epoch: 6 [30000/60000(50%)]\t1.514198\n",
      "Train Epoch: 6 [32000/60000(53%)]\t1.530284\n",
      "Train Epoch: 6 [34000/60000(57%)]\t1.540017\n",
      "Train Epoch: 6 [36000/60000(60%)]\t1.494895\n",
      "Train Epoch: 6 [38000/60000(63%)]\t1.525098\n",
      "Train Epoch: 6 [40000/60000(67%)]\t1.493997\n",
      "Train Epoch: 6 [42000/60000(70%)]\t1.523273\n",
      "Train Epoch: 6 [44000/60000(73%)]\t1.579023\n",
      "Train Epoch: 6 [46000/60000(77%)]\t1.537355\n",
      "Train Epoch: 6 [48000/60000(80%)]\t1.548759\n",
      "Train Epoch: 6 [50000/60000(83%)]\t1.538082\n",
      "Train Epoch: 6 [52000/60000(87%)]\t1.511667\n",
      "Train Epoch: 6 [54000/60000(90%)]\t1.531623\n",
      "Train Epoch: 6 [56000/60000(93%)]\t1.520411\n",
      "Train Epoch: 6 [58000/60000(97%)]\t1.534753\n",
      "\n",
      "Test set: Average loss: 0.0149, Accuracy = 9703/10000 (97%\n",
      ")\n",
      "Train Epoch: 7 [0/60000(0%)]\t1.521497\n",
      "Train Epoch: 7 [2000/60000(3%)]\t1.524658\n",
      "Train Epoch: 7 [4000/60000(7%)]\t1.528859\n",
      "Train Epoch: 7 [6000/60000(10%)]\t1.549151\n",
      "Train Epoch: 7 [8000/60000(13%)]\t1.518861\n",
      "Train Epoch: 7 [10000/60000(17%)]\t1.535846\n",
      "Train Epoch: 7 [12000/60000(20%)]\t1.524463\n",
      "Train Epoch: 7 [14000/60000(23%)]\t1.538199\n",
      "Train Epoch: 7 [16000/60000(27%)]\t1.541343\n",
      "Train Epoch: 7 [18000/60000(30%)]\t1.537728\n",
      "Train Epoch: 7 [20000/60000(33%)]\t1.551996\n",
      "Train Epoch: 7 [22000/60000(37%)]\t1.522650\n",
      "Train Epoch: 7 [24000/60000(40%)]\t1.528009\n",
      "Train Epoch: 7 [26000/60000(43%)]\t1.501324\n",
      "Train Epoch: 7 [28000/60000(47%)]\t1.535701\n",
      "Train Epoch: 7 [30000/60000(50%)]\t1.543415\n",
      "Train Epoch: 7 [32000/60000(53%)]\t1.519976\n",
      "Train Epoch: 7 [34000/60000(57%)]\t1.522841\n",
      "Train Epoch: 7 [36000/60000(60%)]\t1.470116\n",
      "Train Epoch: 7 [38000/60000(63%)]\t1.520762\n",
      "Train Epoch: 7 [40000/60000(67%)]\t1.571131\n",
      "Train Epoch: 7 [42000/60000(70%)]\t1.554945\n",
      "Train Epoch: 7 [44000/60000(73%)]\t1.510679\n",
      "Train Epoch: 7 [46000/60000(77%)]\t1.531341\n",
      "Train Epoch: 7 [48000/60000(80%)]\t1.502997\n",
      "Train Epoch: 7 [50000/60000(83%)]\t1.539633\n",
      "Train Epoch: 7 [52000/60000(87%)]\t1.514125\n",
      "Train Epoch: 7 [54000/60000(90%)]\t1.498734\n",
      "Train Epoch: 7 [56000/60000(93%)]\t1.493189\n",
      "Train Epoch: 7 [58000/60000(97%)]\t1.548524\n",
      "\n",
      "Test set: Average loss: 0.0149, Accuracy = 9740/10000 (97%\n",
      ")\n",
      "Train Epoch: 8 [0/60000(0%)]\t1.551420\n",
      "Train Epoch: 8 [2000/60000(3%)]\t1.545952\n",
      "Train Epoch: 8 [4000/60000(7%)]\t1.511935\n",
      "Train Epoch: 8 [6000/60000(10%)]\t1.549279\n",
      "Train Epoch: 8 [8000/60000(13%)]\t1.510797\n",
      "Train Epoch: 8 [10000/60000(17%)]\t1.513962\n",
      "Train Epoch: 8 [12000/60000(20%)]\t1.524651\n",
      "Train Epoch: 8 [14000/60000(23%)]\t1.556170\n",
      "Train Epoch: 8 [16000/60000(27%)]\t1.545139\n",
      "Train Epoch: 8 [18000/60000(30%)]\t1.498617\n",
      "Train Epoch: 8 [20000/60000(33%)]\t1.539794\n",
      "Train Epoch: 8 [22000/60000(37%)]\t1.518683\n",
      "Train Epoch: 8 [24000/60000(40%)]\t1.545962\n",
      "Train Epoch: 8 [26000/60000(43%)]\t1.493970\n",
      "Train Epoch: 8 [28000/60000(47%)]\t1.523107\n",
      "Train Epoch: 8 [30000/60000(50%)]\t1.477235\n",
      "Train Epoch: 8 [32000/60000(53%)]\t1.518400\n",
      "Train Epoch: 8 [34000/60000(57%)]\t1.549557\n",
      "Train Epoch: 8 [36000/60000(60%)]\t1.530134\n",
      "Train Epoch: 8 [38000/60000(63%)]\t1.509734\n",
      "Train Epoch: 8 [40000/60000(67%)]\t1.527278\n",
      "Train Epoch: 8 [42000/60000(70%)]\t1.491779\n",
      "Train Epoch: 8 [44000/60000(73%)]\t1.516782\n",
      "Train Epoch: 8 [46000/60000(77%)]\t1.507105\n",
      "Train Epoch: 8 [48000/60000(80%)]\t1.582638\n",
      "Train Epoch: 8 [50000/60000(83%)]\t1.517089\n",
      "Train Epoch: 8 [52000/60000(87%)]\t1.502834\n",
      "Train Epoch: 8 [54000/60000(90%)]\t1.514631\n",
      "Train Epoch: 8 [56000/60000(93%)]\t1.538530\n",
      "Train Epoch: 8 [58000/60000(97%)]\t1.486762\n",
      "\n",
      "Test set: Average loss: 0.0149, Accuracy = 9741/10000 (97%\n",
      ")\n",
      "Train Epoch: 9 [0/60000(0%)]\t1.541693\n",
      "Train Epoch: 9 [2000/60000(3%)]\t1.520633\n",
      "Train Epoch: 9 [4000/60000(7%)]\t1.532124\n",
      "Train Epoch: 9 [6000/60000(10%)]\t1.527097\n",
      "Train Epoch: 9 [8000/60000(13%)]\t1.529972\n",
      "Train Epoch: 9 [10000/60000(17%)]\t1.533061\n",
      "Train Epoch: 9 [12000/60000(20%)]\t1.539572\n",
      "Train Epoch: 9 [14000/60000(23%)]\t1.519600\n",
      "Train Epoch: 9 [16000/60000(27%)]\t1.549776\n",
      "Train Epoch: 9 [18000/60000(30%)]\t1.513400\n",
      "Train Epoch: 9 [20000/60000(33%)]\t1.534751\n",
      "Train Epoch: 9 [22000/60000(37%)]\t1.563166\n",
      "Train Epoch: 9 [24000/60000(40%)]\t1.512362\n",
      "Train Epoch: 9 [26000/60000(43%)]\t1.505585\n",
      "Train Epoch: 9 [28000/60000(47%)]\t1.480090\n",
      "Train Epoch: 9 [30000/60000(50%)]\t1.518370\n",
      "Train Epoch: 9 [32000/60000(53%)]\t1.526305\n",
      "Train Epoch: 9 [34000/60000(57%)]\t1.497720\n",
      "Train Epoch: 9 [36000/60000(60%)]\t1.499519\n",
      "Train Epoch: 9 [38000/60000(63%)]\t1.562362\n",
      "Train Epoch: 9 [40000/60000(67%)]\t1.469638\n",
      "Train Epoch: 9 [42000/60000(70%)]\t1.525839\n",
      "Train Epoch: 9 [44000/60000(73%)]\t1.527931\n",
      "Train Epoch: 9 [46000/60000(77%)]\t1.502199\n",
      "Train Epoch: 9 [48000/60000(80%)]\t1.534380\n",
      "Train Epoch: 9 [50000/60000(83%)]\t1.544926\n",
      "Train Epoch: 9 [52000/60000(87%)]\t1.547499\n",
      "Train Epoch: 9 [54000/60000(90%)]\t1.511484\n",
      "Train Epoch: 9 [56000/60000(93%)]\t1.545126\n",
      "Train Epoch: 9 [58000/60000(97%)]\t1.530760\n",
      "\n",
      "Test set: Average loss: 0.0149, Accuracy = 9751/10000 (98%\n",
      ")\n",
      "Train Epoch: 10 [0/60000(0%)]\t1.542981\n",
      "Train Epoch: 10 [2000/60000(3%)]\t1.544837\n",
      "Train Epoch: 10 [4000/60000(7%)]\t1.516304\n",
      "Train Epoch: 10 [6000/60000(10%)]\t1.508318\n",
      "Train Epoch: 10 [8000/60000(13%)]\t1.499625\n",
      "Train Epoch: 10 [10000/60000(17%)]\t1.493694\n",
      "Train Epoch: 10 [12000/60000(20%)]\t1.548099\n",
      "Train Epoch: 10 [14000/60000(23%)]\t1.549418\n",
      "Train Epoch: 10 [16000/60000(27%)]\t1.515215\n",
      "Train Epoch: 10 [18000/60000(30%)]\t1.529849\n",
      "Train Epoch: 10 [20000/60000(33%)]\t1.484649\n",
      "Train Epoch: 10 [22000/60000(37%)]\t1.518005\n",
      "Train Epoch: 10 [24000/60000(40%)]\t1.551828\n",
      "Train Epoch: 10 [26000/60000(43%)]\t1.530587\n",
      "Train Epoch: 10 [28000/60000(47%)]\t1.504789\n",
      "Train Epoch: 10 [30000/60000(50%)]\t1.518974\n",
      "Train Epoch: 10 [32000/60000(53%)]\t1.542011\n",
      "Train Epoch: 10 [34000/60000(57%)]\t1.536266\n",
      "Train Epoch: 10 [36000/60000(60%)]\t1.555849\n",
      "Train Epoch: 10 [38000/60000(63%)]\t1.518479\n",
      "Train Epoch: 10 [40000/60000(67%)]\t1.501537\n",
      "Train Epoch: 10 [42000/60000(70%)]\t1.532542\n",
      "Train Epoch: 10 [44000/60000(73%)]\t1.486937\n",
      "Train Epoch: 10 [46000/60000(77%)]\t1.543882\n",
      "Train Epoch: 10 [48000/60000(80%)]\t1.556579\n",
      "Train Epoch: 10 [50000/60000(83%)]\t1.538022\n",
      "Train Epoch: 10 [52000/60000(87%)]\t1.477035\n",
      "Train Epoch: 10 [54000/60000(90%)]\t1.529784\n",
      "Train Epoch: 10 [56000/60000(93%)]\t1.533586\n",
      "Train Epoch: 10 [58000/60000(97%)]\t1.520411\n",
      "\n",
      "Test set: Average loss: 0.0149, Accuracy = 9764/10000 (98%\n",
      ")\n"
     ]
    }
   ],
   "source": [
    "for epoch in range(1,11):\n",
    "    train(epoch)\n",
    "    test(epoch)"
   ]
  },
  {
   "cell_type": "code",
   "execution_count": 17,
   "metadata": {},
   "outputs": [
    {
     "name": "stdout",
     "output_type": "stream",
     "text": [
      "Prediction: 2\n"
     ]
    },
    {
     "name": "stderr",
     "output_type": "stream",
     "text": [
      "C:\\Users\\Thoyajaksha Kashyap\\AppData\\Local\\Temp\\ipykernel_19952\\2589193086.py:20: UserWarning: Implicit dimension choice for softmax has been deprecated. Change the call to include dim=X as an argument.\n",
      "  return F.softmax(x)\n"
     ]
    },
    {
     "data": {
      "image/png": "[encoded data removed]",
      "text/plain": [
       "<Figure size 640x480 with 1 Axes>"
      ]
     },
     "metadata": {},
     "output_type": "display_data"
    },
    {
     "name": "stdout",
     "output_type": "stream",
     "text": [
      "Prediction: 9\n"
     ]
    },
    {
     "data": {
      "image/png": "[encoded data removed]",
      "text/plain": [
       "<Figure size 640x480 with 1 Axes>"
      ]
     },
     "metadata": {},
     "output_type": "display_data"
    },
    {
     "name": "stdout",
     "output_type": "stream",
     "text": [
      "Prediction: 0\n"
     ]
    },
    {
     "data": {
      "image/png": "[encoded data removed]",
      "text/plain": [
       "<Figure size 640x480 with 1 Axes>"
      ]
     },
     "metadata": {},
     "output_type": "display_data"
    },
    {
     "name": "stdout",
     "output_type": "stream",
     "text": [
      "Prediction: 9\n"
     ]
    },
    {
     "data": {
      "image/png": "[encoded data removed]",
      "text/plain": [
       "<Figure size 640x480 with 1 Axes>"
      ]
     },
     "metadata": {},
     "output_type": "display_data"
    },
    {
     "name": "stdout",
     "output_type": "stream",
     "text": [
      "Prediction: 5\n"
     ]
    },
    {
     "data": {
      "image/png": "[encoded data removed]",
      "text/plain": [
       "<Figure size 640x480 with 1 Axes>"
      ]
     },
     "metadata": {},
     "output_type": "display_data"
    },
    {
     "name": "stdout",
     "output_type": "stream",
     "text": [
      "Prediction: 3\n"
     ]
    },
    {
     "data": {
      "image/png": "[encoded data removed]",
      "text/plain": [
       "<Figure size 640x480 with 1 Axes>"
      ]
     },
     "metadata": {},
     "output_type": "display_data"
    },
    {
     "name": "stdout",
     "output_type": "stream",
     "text": [
      "Prediction: 9\n"
     ]
    },
    {
     "data": {
      "image/png": "[encoded data removed]",
      "text/plain": [
       "<Figure size 640x480 with 1 Axes>"
      ]
     },
     "metadata": {},
     "output_type": "display_data"
    },
    {
     "name": "stdout",
     "output_type": "stream",
     "text": [
      "Prediction: 9\n"
     ]
    },
    {
     "data": {
      "image/png": "[encoded data removed]",
      "text/plain": [
       "<Figure size 640x480 with 1 Axes>"
      ]
     },
     "metadata": {},
     "output_type": "display_data"
    },
    {
     "name": "stdout",
     "output_type": "stream",
     "text": [
      "Prediction: 4\n"
     ]
    },
    {
     "data": {
      "image/png": "[encoded data removed]",
      "text/plain": [
       "<Figure size 640x480 with 1 Axes>"
      ]
     },
     "metadata": {},
     "output_type": "display_data"
    },
    {
     "name": "stdout",
     "output_type": "stream",
     "text": [
      "Prediction: 3\n"
     ]
    },
    {
     "data": {
      "image/png": "[encoded data removed]",
      "text/plain": [
       "<Figure size 640x480 with 1 Axes>"
      ]
     },
     "metadata": {},
     "output_type": "display_data"
    },
    {
     "name": "stdout",
     "output_type": "stream",
     "text": [
      "Prediction: 9\n"
     ]
    },
    {
     "data": {
      "image/png": "[encoded data removed]",
      "text/plain": [
       "<Figure size 640x480 with 1 Axes>"
      ]
     },
     "metadata": {},
     "output_type": "display_data"
    },
    {
     "name": "stdout",
     "output_type": "stream",
     "text": [
      "Prediction: 6\n"
     ]
    },
    {
     "data": {
      "image/png": "[encoded data removed]",
      "text/plain": [
       "<Figure size 640x480 with 1 Axes>"
      ]
     },
     "metadata": {},
     "output_type": "display_data"
    },
    {
     "name": "stdout",
     "output_type": "stream",
     "text": [
      "Prediction: 8\n"
     ]
    },
    {
     "data": {
      "image/png": "[encoded data removed]",
      "text/plain": [
       "<Figure size 640x480 with 1 Axes>"
      ]
     },
     "metadata": {},
     "output_type": "display_data"
    },
    {
     "name": "stdout",
     "output_type": "stream",
     "text": [
      "Prediction: 3\n"
     ]
    },
    {
     "data": {
      "image/png": "[encoded data removed]",
      "text/plain": [
       "<Figure size 640x480 with 1 Axes>"
      ]
     },
     "metadata": {},
     "output_type": "display_data"
    },
    {
     "name": "stdout",
     "output_type": "stream",
     "text": [
      "Prediction: 2\n"
     ]
    },
    {
     "data": {
      "image/png": "[encoded data removed]",
      "text/plain": [
       "<Figure size 640x480 with 1 Axes>"
      ]
     },
     "metadata": {},
     "output_type": "display_data"
    },
    {
     "name": "stdout",
     "output_type": "stream",
     "text": [
      "Prediction: 3\n"
     ]
    },
    {
     "data": {
      "image/png": "[encoded data removed]",
      "text/plain": [
       "<Figure size 640x480 with 1 Axes>"
      ]
     },
     "metadata": {},
     "output_type": "display_data"
    },
    {
     "name": "stdout",
     "output_type": "stream",
     "text": [
      "Prediction: 9\n"
     ]
    },
    {
     "data": {
      "image/png": "[encoded data removed]",
      "text/plain": [
       "<Figure size 640x480 with 1 Axes>"
      ]
     },
     "metadata": {},
     "output_type": "display_data"
    },
    {
     "name": "stdout",
     "output_type": "stream",
     "text": [
      "Prediction: 0\n"
     ]
    },
    {
     "data": {
      "image/png": "[encoded data removed]",
      "text/plain": [
       "<Figure size 640x480 with 1 Axes>"
      ]
     },
     "metadata": {},
     "output_type": "display_data"
    },
    {
     "name": "stdout",
     "output_type": "stream",
     "text": [
      "Prediction: 6\n"
     ]
    },
    {
     "data": {
      "image/png": "[encoded data removed]",
      "text/plain": [
       "<Figure size 640x480 with 1 Axes>"
      ]
     },
     "metadata": {},
     "output_type": "display_data"
    },
    {
     "name": "stdout",
     "output_type": "stream",
     "text": [
      "Prediction: 3\n"
     ]
    },
    {
     "data": {
      "image/png": "[encoded data removed]",
      "text/plain": [
       "<Figure size 640x480 with 1 Axes>"
      ]
     },
     "metadata": {},
     "output_type": "display_data"
    }
   ],
   "source": [
    "import matplotlib.pyplot as plt \n",
    "for i in range(1, 10000, 500):\n",
    "    model.eval()\n",
    "    data, target = test_data[i] \n",
    "    data = data.unsqueeze(0).to(device)\n",
    "    output = model(data)\n",
    "    prediction = output.argmax(dim=1, keepdim=True).item()\n",
    "    print(f'Prediction: {prediction}')\n",
    "    image = data.squeeze(0).squeeze(0).cpu().numpy()\n",
    "    plt.imshow(image, cmap='gray')\n",
    "    plt.axis(False)\n",
    "    plt.show()"
   ]
  },
  {
   "cell_type": "code",
   "execution_count": null,
   "metadata": {},
   "outputs": [],
   "source": []
  },
  {
   "cell_type": "code",
   "execution_count": null,
   "metadata": {},
   "outputs": [],
   "source": []
  }
 ],
 "metadata": {
  "kernelspec": {
   "display_name": "Python 3",
   "language": "python",
   "name": "python3"
  },
  "language_info": {
   "codemirror_mode": {
    "name": "ipython",
    "version": 3
   },
   "file_extension": ".py",
   "mimetype": "text/x-python",
   "name": "python",
   "nbconvert_exporter": "python",
   "pygments_lexer": "ipython3",
   "version": "3.12.2"
  }
 },
 "nbformat": 4,
 "nbformat_minor": 2
}

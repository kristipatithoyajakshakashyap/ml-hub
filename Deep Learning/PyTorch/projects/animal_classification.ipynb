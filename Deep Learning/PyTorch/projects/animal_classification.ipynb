{
 "cells": [
  {
   "cell_type": "code",
   "execution_count": 1,
   "id": "d41c8685-641f-4e9f-a59c-868769d47945",
   "metadata": {},
   "outputs": [],
   "source": [
    "import numpy as np \n",
    "from PIL import Image \n",
    "\n",
    "import torch \n",
    "import torch.nn as nn \n",
    "import torch.nn.functional as F \n",
    "import torch.optim as optim \n",
    "\n",
    "import torchvision\n",
    "import torchvision.transforms as transforms"
   ]
  },
  {
   "cell_type": "code",
   "execution_count": 2,
   "id": "2be9d934",
   "metadata": {},
   "outputs": [],
   "source": [
    "transform = transforms.Compose([\n",
    "    transforms.ToTensor(),\n",
    "    transforms.Normalize((0.5,0.5,0.5),(0.5,0.5,0.5))\n",
    "])"
   ]
  },
  {
   "cell_type": "code",
   "execution_count": 3,
   "id": "cbcfc25f",
   "metadata": {},
   "outputs": [
    {
     "name": "stdout",
     "output_type": "stream",
     "text": [
      "Files already downloaded and verified\n",
      "Files already downloaded and verified\n"
     ]
    }
   ],
   "source": [
    "train_data = torchvision.datasets.CIFAR10(root=\"./data\", train=True, transform=transform, download=True)\n",
    "test_data = torchvision.datasets.CIFAR10(root=\"./data\", train=False, transform=transform, download=True)\n",
    "\n",
    "train_loader = torch.utils.data.DataLoader(train_data, batch_size=32, shuffle=True, num_workers=2)\n",
    "test_loader = torch.utils.data.DataLoader(test_data, batch_size=32, shuffle=True, num_workers=2)"
   ]
  },
  {
   "cell_type": "code",
   "execution_count": 4,
   "id": "1bcda662",
   "metadata": {},
   "outputs": [],
   "source": [
    "image, label = train_data[0]"
   ]
  },
  {
   "cell_type": "code",
   "execution_count": 5,
   "id": "e65e59ad",
   "metadata": {},
   "outputs": [
    {
     "data": {
      "text/plain": [
       "tensor([[[-0.5373, -0.6627, -0.6078,  ...,  0.2392,  0.1922,  0.1608],\n",
       "         [-0.8745, -1.0000, -0.8588,  ..., -0.0353, -0.0667, -0.0431],\n",
       "         [-0.8039, -0.8745, -0.6157,  ..., -0.0745, -0.0588, -0.1451],\n",
       "         ...,\n",
       "         [ 0.6314,  0.5765,  0.5529,  ...,  0.2549, -0.5608, -0.5843],\n",
       "         [ 0.4118,  0.3569,  0.4588,  ...,  0.4431, -0.2392, -0.3490],\n",
       "         [ 0.3882,  0.3176,  0.4039,  ...,  0.6941,  0.1843, -0.0353]],\n",
       "\n",
       "        [[-0.5137, -0.6392, -0.6235,  ...,  0.0353, -0.0196, -0.0275],\n",
       "         [-0.8431, -1.0000, -0.9373,  ..., -0.3098, -0.3490, -0.3176],\n",
       "         [-0.8118, -0.9451, -0.7882,  ..., -0.3412, -0.3412, -0.4275],\n",
       "         ...,\n",
       "         [ 0.3333,  0.2000,  0.2627,  ...,  0.0431, -0.7569, -0.7333],\n",
       "         [ 0.0902, -0.0353,  0.1294,  ...,  0.1608, -0.5137, -0.5843],\n",
       "         [ 0.1294,  0.0118,  0.1137,  ...,  0.4431, -0.0745, -0.2784]],\n",
       "\n",
       "        [[-0.5059, -0.6471, -0.6627,  ..., -0.1529, -0.2000, -0.1922],\n",
       "         [-0.8431, -1.0000, -1.0000,  ..., -0.5686, -0.6078, -0.5529],\n",
       "         [-0.8353, -1.0000, -0.9373,  ..., -0.6078, -0.6078, -0.6706],\n",
       "         ...,\n",
       "         [-0.2471, -0.7333, -0.7961,  ..., -0.4510, -0.9451, -0.8431],\n",
       "         [-0.2471, -0.6706, -0.7647,  ..., -0.2627, -0.7333, -0.7333],\n",
       "         [-0.0902, -0.2627, -0.3176,  ...,  0.0980, -0.3412, -0.4353]]])"
      ]
     },
     "execution_count": 5,
     "metadata": {},
     "output_type": "execute_result"
    }
   ],
   "source": [
    "image"
   ]
  },
  {
   "cell_type": "code",
   "execution_count": 6,
   "id": "e5379522",
   "metadata": {},
   "outputs": [
    {
     "data": {
      "text/plain": [
       "torch.Size([3, 32, 32])"
      ]
     },
     "execution_count": 6,
     "metadata": {},
     "output_type": "execute_result"
    }
   ],
   "source": [
    "image.shape"
   ]
  },
  {
   "cell_type": "code",
   "execution_count": 7,
   "id": "8d593efc",
   "metadata": {},
   "outputs": [],
   "source": [
    "class_names = [\"plane\", \"car\", \"bird\", \"cat\", \"deer\", \"dog\", \"frog\", \"horse\", \"ship\", \"truck\"]"
   ]
  },
  {
   "cell_type": "code",
   "execution_count": 8,
   "id": "b28237ac",
   "metadata": {},
   "outputs": [],
   "source": [
    "class NeuralNets(nn.Module):\n",
    "    def __init__(self):\n",
    "        super().__init__()\n",
    "        self.conv1 = nn.Conv2d(in_channels=3, \n",
    "                               out_channels=12, \n",
    "                               kernel_size=5) \n",
    "        # input - output  32 - 12 = 27 \n",
    "        # divided by stride default 1  27/1 = 27 \n",
    "        # add 1 27 + 1 = 28 \n",
    "        # output channel (12,28,28)\n",
    "        self.pool = nn.MaxPool2d(kernel_size=2, \n",
    "                                 stride=2)\n",
    "        #  divide by 2  28 /2 = 14 \n",
    "        # output (12, 14, 14)\n",
    "        self.conv2 = nn.Conv2d(12,24,5) # ((14-5)/1)+1 = (24,10,10) -> (24,5,5) -> Flatten -> (24 * 5 * 5)\n",
    "        self.fc1 = nn.Linear(in_features=24*5*5, \n",
    "                             out_features=120)\n",
    "        self.fc2 = nn.Linear(in_features=120, \n",
    "                             out_features=84)\n",
    "        self.fc3 = nn.Linear(in_features=84,\n",
    "                             out_features=10)\n",
    "    \n",
    "    def forward(self, x):\n",
    "        x = self.pool(F.relu(self.conv1(x)))\n",
    "        x = self.pool(F.relu(self.conv2(x)))\n",
    "        x = torch.flatten(x, 1)\n",
    "        x = F.relu(self.fc1(x))\n",
    "        x = F.relu(self.fc2(x))\n",
    "        x = F.relu(self.fc3(x))\n",
    "        return x       "
   ]
  },
  {
   "cell_type": "code",
   "execution_count": 9,
   "id": "44b206db",
   "metadata": {},
   "outputs": [
    {
     "data": {
      "text/plain": [
       "'cuda'"
      ]
     },
     "execution_count": 9,
     "metadata": {},
     "output_type": "execute_result"
    }
   ],
   "source": [
    "# Setup device-agnostic code \n",
    "import torch \n",
    "device = \"cuda\" if torch.cuda.is_available() else \"cpu\"\n",
    "device"
   ]
  },
  {
   "cell_type": "code",
   "execution_count": 10,
   "id": "206b4ad6",
   "metadata": {},
   "outputs": [
    {
     "data": {
      "text/plain": [
       "device(type='cuda', index=0)"
      ]
     },
     "execution_count": 10,
     "metadata": {},
     "output_type": "execute_result"
    }
   ],
   "source": [
    "net = NeuralNets().to(device)\n",
    "loss_function = nn.CrossEntropyLoss()\n",
    "optimizer = optim.SGD(net.parameters(), lr=0.001, momentum=0.9)\n",
    "next(net.parameters()).device"
   ]
  },
  {
   "cell_type": "code",
   "execution_count": 11,
   "id": "a54cbe7a",
   "metadata": {},
   "outputs": [
    {
     "name": "stdout",
     "output_type": "stream",
     "text": [
      "Trianing epoch 0\n",
      "Loss: 2.2996\n",
      "Trianing epoch 1\n",
      "Loss: 2.2272\n",
      "Trianing epoch 2\n",
      "Loss: 2.0122\n",
      "Trianing epoch 3\n",
      "Loss: 1.7966\n",
      "Trianing epoch 4\n",
      "Loss: 1.7084\n",
      "Trianing epoch 5\n",
      "Loss: 1.6492\n",
      "Trianing epoch 6\n",
      "Loss: 1.5965\n",
      "Trianing epoch 7\n",
      "Loss: 1.5468\n",
      "Trianing epoch 8\n",
      "Loss: 1.5014\n",
      "Trianing epoch 9\n",
      "Loss: 1.4610\n",
      "Trianing epoch 10\n",
      "Loss: 1.4238\n",
      "Trianing epoch 11\n",
      "Loss: 1.3591\n",
      "Trianing epoch 12\n",
      "Loss: 1.2156\n",
      "Trianing epoch 13\n",
      "Loss: 1.1724\n",
      "Trianing epoch 14\n",
      "Loss: 1.1317\n",
      "Trianing epoch 15\n",
      "Loss: 1.0926\n",
      "Trianing epoch 16\n",
      "Loss: 1.0618\n",
      "Trianing epoch 17\n",
      "Loss: 1.0286\n",
      "Trianing epoch 18\n",
      "Loss: 1.0027\n",
      "Trianing epoch 19\n",
      "Loss: 0.9718\n",
      "Trianing epoch 20\n",
      "Loss: 0.9477\n",
      "Trianing epoch 21\n",
      "Loss: 0.9214\n",
      "Trianing epoch 22\n",
      "Loss: 0.8963\n",
      "Trianing epoch 23\n",
      "Loss: 0.8748\n",
      "Trianing epoch 24\n",
      "Loss: 0.8512\n",
      "Trianing epoch 25\n",
      "Loss: 0.8273\n",
      "Trianing epoch 26\n",
      "Loss: 0.8111\n",
      "Trianing epoch 27\n",
      "Loss: 0.7892\n",
      "Trianing epoch 28\n",
      "Loss: 0.7699\n",
      "Trianing epoch 29\n",
      "Loss: 0.7513\n"
     ]
    }
   ],
   "source": [
    "for epoch in range(30):\n",
    "    print(f\"Trianing epoch {epoch}\")\n",
    "    running_loss = 0.0 \n",
    "    for i, (X,y) in enumerate(train_loader):\n",
    "        inputs, labels = X.to(device), y.to(device) \n",
    "        optimizer.zero_grad()\n",
    "        outputs = net(inputs)\n",
    "        loss = loss_function(outputs, labels)\n",
    "        loss.backward()\n",
    "        optimizer.step()\n",
    "        \n",
    "        running_loss += loss.item()\n",
    "    print(f'Loss: {running_loss / len(train_loader):.4f}')"
   ]
  },
  {
   "cell_type": "code",
   "execution_count": 12,
   "id": "c9d2eac0",
   "metadata": {},
   "outputs": [],
   "source": [
    "torch.save(net.state_dict(), \"trained_CIFAR10.path\")"
   ]
  },
  {
   "cell_type": "code",
   "execution_count": 15,
   "id": "13faf27e",
   "metadata": {},
   "outputs": [
    {
     "data": {
      "text/plain": [
       "<All keys matched successfully>"
      ]
     },
     "execution_count": 15,
     "metadata": {},
     "output_type": "execute_result"
    }
   ],
   "source": [
    "net = NeuralNets().to(device)\n",
    "net.load_state_dict(torch.load(\"trained_CIFAR10.path\"))"
   ]
  },
  {
   "cell_type": "code",
   "execution_count": 16,
   "id": "e4f8f301",
   "metadata": {},
   "outputs": [
    {
     "name": "stdout",
     "output_type": "stream",
     "text": [
      "Accuracy: 62.4%\n"
     ]
    }
   ],
   "source": [
    "correct = 0 \n",
    "total = 0 \n",
    "\n",
    "net.eval()\n",
    "with torch.inference_mode():\n",
    "    for X, y in test_loader:\n",
    "        images, labels = X.to(device), y.to(device)\n",
    "        outputs = net(images)\n",
    "        _, predicted = torch.max(outputs, 1)\n",
    "        total += labels.size(0)\n",
    "        correct += (predicted == labels).sum().item()\n",
    "accuracy = 100 * correct / total\n",
    "print(f\"Accuracy: {accuracy}%\")"
   ]
  },
  {
   "cell_type": "code",
   "execution_count": 22,
   "id": "cf724a34",
   "metadata": {},
   "outputs": [
    {
     "name": "stdout",
     "output_type": "stream",
     "text": [
      "Prediction: plane\n",
      "Prediction: horse\n"
     ]
    }
   ],
   "source": [
    "new_transform = transforms.Compose([\n",
    "    transforms.Resize((32,32)),\n",
    "    transforms.ToTensor(),\n",
    "    transforms.Normalize((0.5,0.5,0.5),(0.5,0.5,0.5))\n",
    "])\n",
    "\n",
    "def load_image(image_path):\n",
    "    image = Image.open(image_path)\n",
    "    image = new_transform(image)\n",
    "    image = image.unsqueeze(0)\n",
    "    return image\n",
    "\n",
    "image_path = ['plane.jpeg', 'horse.jpeg']\n",
    "images =[load_image(img) for img in image_path]\n",
    "\n",
    "net.eval() \n",
    "with torch.no_grad():\n",
    "    for image in images:\n",
    "        image = image.to(device)\n",
    "        output = net(image)\n",
    "        _, predicted = torch.max(output, 1)\n",
    "        print(f'Prediction: {class_names[predicted.item()]}')"
   ]
  },
  {
   "cell_type": "code",
   "execution_count": null,
   "id": "1fb9f3a1",
   "metadata": {},
   "outputs": [],
   "source": []
  }
 ],
 "metadata": {
  "kernelspec": {
   "display_name": "Python 3",
   "language": "python",
   "name": "python3"
  },
  "language_info": {
   "codemirror_mode": {
    "name": "ipython",
    "version": 3
   },
   "file_extension": ".py",
   "mimetype": "text/x-python",
   "name": "python",
   "nbconvert_exporter": "python",
   "pygments_lexer": "ipython3",
   "version": "3.12.2"
  }
 },
 "nbformat": 4,
 "nbformat_minor": 5
}
